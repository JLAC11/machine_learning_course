{
 "cells": [
  {
   "cell_type": "code",
   "execution_count": 1,
   "metadata": {},
   "outputs": [],
   "source": [
    "import random\n",
    "import numpy as np\n",
    "import matplotlib.pyplot as plt\n",
    "        "
   ]
  },
  {
   "cell_type": "code",
   "execution_count": 2,
   "metadata": {},
   "outputs": [],
   "source": [
    "class Field:\n",
    "    def __init__(self, size, item_pickup, item_drop_off, start_position):\n",
    "        self.size = size\n",
    "        self.item_pickup = item_pickup\n",
    "        self.item_drop_off = item_drop_off\n",
    "        self.position = start_position\n",
    "        self.item_in_car = False\n",
    "        \n",
    "    def get_number_of_states(self):\n",
    "        return self.size*self.size*self.size*self.size*2\n",
    "    \n",
    "    def get_state(self):\n",
    "        state = self.position[0]*self.size*self.size*self.size*2\n",
    "        state = state + self.position[1]*self.size*self.size*2\n",
    "        state = state + self.item_pickup[0]*self.size*2\n",
    "        state = state + self.item_pickup[1]*2\n",
    "        if self.item_in_car:\n",
    "            state = state + 1\n",
    "        return state\n",
    "        \n",
    "    def make_action(self, action):\n",
    "        (x, y) = self.position\n",
    "        if action == 0:  # Go South\n",
    "            if y == self.size - 1:\n",
    "                return -10, False\n",
    "            else:\n",
    "                self.position = (x, y + 1)\n",
    "                return -1, False\n",
    "        elif action == 1:  # Go North\n",
    "            if y == 0:\n",
    "                return -10, False\n",
    "            else:\n",
    "                self.position = (x, y - 1)\n",
    "                return -1, False\n",
    "        elif action == 2:  # Go East\n",
    "            if x == 0:\n",
    "                return -10, False\n",
    "            else:\n",
    "                self.position = (x - 1, y)\n",
    "                return -1, False\n",
    "        elif action == 3:  # Go West\n",
    "            if x == self.size - 1:\n",
    "                return -10, False\n",
    "            else:\n",
    "                self.position = (x + 1, y)\n",
    "                return -1, False\n",
    "        elif action == 4:  # Pickup item\n",
    "            if self.item_in_car:\n",
    "                return -10, False\n",
    "            elif self.item_pickup != (x, y):\n",
    "                return -10, False\n",
    "            else:\n",
    "                self.item_in_car = True\n",
    "                return 20, False\n",
    "        elif action == 5:  # Drop off item\n",
    "            if not self.item_in_car:\n",
    "                return -10, False\n",
    "            elif self.item_drop_off != (x, y):\n",
    "                self.item_pickup = (x, y)\n",
    "                self.item_in_car = False\n",
    "                return -10, False\n",
    "            else:\n",
    "                return 20, True"
   ]
  },
  {
   "cell_type": "code",
   "execution_count": 3,
   "metadata": {},
   "outputs": [
    {
     "data": {
      "text/plain": [
       "95652"
      ]
     },
     "execution_count": 3,
     "metadata": {},
     "output_type": "execute_result"
    }
   ],
   "source": [
    "def naive_solution():\n",
    "    size = 10\n",
    "    item_start = (0, 0)\n",
    "    item_drop_off = (9, 9)\n",
    "    start_position = (0, 9)\n",
    "    \n",
    "    field = Field(size, item_start, item_drop_off, start_position)\n",
    "    done = False\n",
    "    steps = 0\n",
    "    \n",
    "    while not done:\n",
    "        action = random.randint(0, 5)\n",
    "        reward, done = field.make_action(action)\n",
    "        steps = steps + 1\n",
    "    \n",
    "    return steps\n",
    "\n",
    "\n",
    "naive_solution()"
   ]
  },
  {
   "cell_type": "code",
   "execution_count": 4,
   "metadata": {},
   "outputs": [
    {
     "data": {
      "text/plain": [
       "147780.354"
      ]
     },
     "execution_count": 4,
     "metadata": {},
     "output_type": "execute_result"
    }
   ],
   "source": [
    "runs = [naive_solution() for _ in range(1000)]\n",
    "sum(runs)/len(runs)"
   ]
  },
  {
   "cell_type": "code",
   "execution_count": 5,
   "metadata": {},
   "outputs": [
    {
     "data": {
      "text/plain": [
       "20893"
      ]
     },
     "execution_count": 5,
     "metadata": {},
     "output_type": "execute_result"
    }
   ],
   "source": [
    "size = 10\n",
    "item_start = (0, 0)\n",
    "item_drop_off = (9, 9)\n",
    "start_position = (0, 9)\n",
    "\n",
    "field = Field(size, item_start, item_drop_off, start_position)\n",
    "\n",
    "number_of_states = field.get_number_of_states()\n",
    "number_of_actions = 6\n",
    "\n",
    "q_table = np.zeros((number_of_states, number_of_actions))\n",
    "\n",
    "\n",
    "def reinforcement_learning():\n",
    "    epsilon = 0.1\n",
    "    alpha = 0.1\n",
    "    gamma = 0.6\n",
    "    \n",
    "    field = Field(size, item_start, item_drop_off, start_position)\n",
    "    done = False\n",
    "    steps = 0\n",
    "    \n",
    "    while not done:\n",
    "        state = field.get_state()\n",
    "        if random.uniform(0, 1) < epsilon:\n",
    "            action = random.randint(0, 5)\n",
    "        else:\n",
    "            action = np.argmax(q_table[state])\n",
    "            \n",
    "        reward, done = field.make_action(action)\n",
    "        # Q[state, action] = (1 – alpha) * Q[state, action] + alpha * (reward + gamma * max(Q[new_state]) — Q[state, action])\n",
    "        \n",
    "        new_state = field.get_state()\n",
    "        new_state_max = np.max(q_table[new_state])\n",
    "        \n",
    "        q_table[state, action] = (1 - alpha)*q_table[state, action] + alpha*(reward + gamma*new_state_max - q_table[state, action])\n",
    "        \n",
    "        steps = steps + 1\n",
    "    \n",
    "    return steps\n",
    "\n",
    "\n",
    "reinforcement_learning()"
   ]
  },
  {
   "cell_type": "code",
   "execution_count": 6,
   "metadata": {},
   "outputs": [
    {
     "data": {
      "text/plain": [
       "236.857"
      ]
     },
     "execution_count": 6,
     "metadata": {},
     "output_type": "execute_result"
    }
   ],
   "source": [
    "runs_rl = [reinforcement_learning() for _ in range(1000)]\n",
    "sum(runs_rl)/len(runs_rl)"
   ]
  },
  {
   "cell_type": "code",
   "execution_count": 7,
   "metadata": {},
   "outputs": [
    {
     "data": {
      "image/png": "[encoded data removed]",
      "text/plain": [
       "<Figure size 432x288 with 1 Axes>"
      ]
     },
     "metadata": {
      "needs_background": "light"
     },
     "output_type": "display_data"
    }
   ],
   "source": [
    "fig, ax = plt.subplots()\n",
    "ax.plot(np.linspace(1,1000, 1000), runs)\n",
    "plt.show()\n"
   ]
  },
  {
   "cell_type": "code",
   "execution_count": 12,
   "metadata": {},
   "outputs": [
    {
     "data": {
      "text/plain": [
       "[<matplotlib.lines.Line2D at 0x22e0c66ba90>]"
      ]
     },
     "execution_count": 12,
     "metadata": {},
     "output_type": "execute_result"
    },
    {
     "data": {
      "image/png": "[encoded data removed]",
      "text/plain": [
       "<Figure size 432x288 with 1 Axes>"
      ]
     },
     "metadata": {
      "needs_background": "light"
     },
     "output_type": "display_data"
    }
   ],
   "source": [
    "plt.plot(np.linspace(1,1000, 1000), runs_rl)"
   ]
  }
 ],
 "metadata": {
  "interpreter": {
   "hash": "fe1610ab63cd726e91a61fe78ce1a475aa9ae83ac6caa7ceb5c58c9a3dff1027"
  },
  "kernelspec": {
   "display_name": "Python 3.9.7 ('base')",
   "language": "python",
   "name": "python3"
  },
  "language_info": {
   "codemirror_mode": {
    "name": "ipython",
    "version": 3
   },
   "file_extension": ".py",
   "mimetype": "text/x-python",
   "name": "python",
   "nbconvert_exporter": "python",
   "pygments_lexer": "ipython3",
   "version": "3.9.6"
  },
  "orig_nbformat": 4
 },
 "nbformat": 4,
 "nbformat_minor": 2
}
