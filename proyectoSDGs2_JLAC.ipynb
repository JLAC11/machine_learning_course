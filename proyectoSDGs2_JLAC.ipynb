{
 "cells": [
  {
   "cell_type": "code",
   "execution_count": 1,
   "metadata": {},
   "outputs": [],
   "source": [
    "import pandas as pd\n",
    "import numpy as np \n",
    "import seaborn as sns\n",
    "import matplotlib.pyplot as plt\n",
    "from sklearn.impute import KNNImputer\n",
    "from sklearn.preprocessing import PowerTransformer, OneHotEncoder\n",
    "from sklearn.pipeline import Pipeline\n",
    "from sklearn.compose import ColumnTransformer,make_column_selector\n",
    "from sklearn.manifold import LocallyLinearEmbedding, TSNE, Isomap, MDS, trustworthiness\n",
    "from sklearn.cluster import AgglomerativeClustering\n",
    "from scipy.cluster.hierarchy import dendrogram\n",
    "\n",
    "filename = 'SDR 2021 - Database.xlsx'"
   ]
  },
  {
   "cell_type": "code",
   "execution_count": 2,
   "metadata": {},
   "outputs": [
    {
     "name": "stdout",
     "output_type": "stream",
     "text": [
      "<class 'pandas.core.frame.DataFrame'>\n",
      "Index: 193 entries, United States to Zimbabwe\n",
      "Columns: 124 entries, Country Code ISO3 to 2021 SDG Index Score\n",
      "dtypes: category(1), float64(122), object(1)\n",
      "memory usage: 187.5+ KB\n"
     ]
    },
    {
     "data": {
      "text/plain": [
       "None"
      ]
     },
     "metadata": {},
     "output_type": "display_data"
    },
    {
     "data": {
      "text/html": [
       "<div>\n",
       "<style scoped>\n",
       "    .dataframe tbody tr th:only-of-type {\n",
       "        vertical-align: middle;\n",
       "    }\n",
       "\n",
       "    .dataframe tbody tr th {\n",
       "        vertical-align: top;\n",
       "    }\n",
       "\n",
       "    .dataframe thead th {\n",
       "        text-align: right;\n",
       "    }\n",
       "</style>\n",
       "<table border=\"1\" class=\"dataframe\">\n",
       "  <thead>\n",
       "    <tr style=\"text-align: right;\">\n",
       "      <th></th>\n",
       "      <th>Poverty headcount ratio at $1.90/day (%)</th>\n",
       "      <th>Poverty headcount ratio at $3.20/day (%)</th>\n",
       "      <th>Poverty rate after taxes and transfers (%)</th>\n",
       "      <th>Prevalence of undernourishment (%)</th>\n",
       "      <th>Prevalence of stunting in children under 5 years of age (%)</th>\n",
       "      <th>Prevalence of wasting in children under 5 years of age (%)</th>\n",
       "      <th>Prevalence of obesity, BMI ≥ 30 (% of adult population)</th>\n",
       "      <th>Human Trophic Level (best 2-3 worst)</th>\n",
       "      <th>Cereal yield (tonnes per hectare of harvested land)</th>\n",
       "      <th>Sustainable Nitrogen Management Index (best 0-1.41 worst)</th>\n",
       "      <th>...</th>\n",
       "      <th>Access to and affordability of justice (worst 0–1 best)</th>\n",
       "      <th>Persons held in prison (per 100,000 population)</th>\n",
       "      <th>Government spending on health and education (% of GDP)</th>\n",
       "      <th>For high-income and all OECD DAC countries: International concessional public fi</th>\n",
       "      <th>Other countries: Government revenue excluding grants (% of GDP)</th>\n",
       "      <th>Corporate Tax Haven Score (best 0-100 worst)</th>\n",
       "      <th>Financial Secrecy Score (best 0-100 worst)</th>\n",
       "      <th>Shifted profits of multinationals (US$ billion)</th>\n",
       "      <th>Statistical Performance Index (worst 0-100 best)</th>\n",
       "      <th>2021 SDG Index Score</th>\n",
       "    </tr>\n",
       "  </thead>\n",
       "  <tbody>\n",
       "    <tr>\n",
       "      <th>count</th>\n",
       "      <td>161.000000</td>\n",
       "      <td>161.000000</td>\n",
       "      <td>36.000000</td>\n",
       "      <td>163.000000</td>\n",
       "      <td>186.000000</td>\n",
       "      <td>186.000000</td>\n",
       "      <td>188.000000</td>\n",
       "      <td>176.000000</td>\n",
       "      <td>176.000000</td>\n",
       "      <td>186.000000</td>\n",
       "      <td>...</td>\n",
       "      <td>126.000000</td>\n",
       "      <td>37.000000</td>\n",
       "      <td>183.000000</td>\n",
       "      <td>39.000000</td>\n",
       "      <td>109.000000</td>\n",
       "      <td>190.000000</td>\n",
       "      <td>37.000000</td>\n",
       "      <td>36.000000</td>\n",
       "      <td>173.000000</td>\n",
       "      <td>165.000000</td>\n",
       "    </tr>\n",
       "    <tr>\n",
       "      <th>mean</th>\n",
       "      <td>13.351118</td>\n",
       "      <td>24.223913</td>\n",
       "      <td>11.730556</td>\n",
       "      <td>8.873067</td>\n",
       "      <td>16.720323</td>\n",
       "      <td>4.399462</td>\n",
       "      <td>19.670213</td>\n",
       "      <td>2.279256</td>\n",
       "      <td>3.609472</td>\n",
       "      <td>0.818306</td>\n",
       "      <td>...</td>\n",
       "      <td>0.562579</td>\n",
       "      <td>149.139622</td>\n",
       "      <td>7.962951</td>\n",
       "      <td>0.341795</td>\n",
       "      <td>23.219119</td>\n",
       "      <td>16.039553</td>\n",
       "      <td>54.649378</td>\n",
       "      <td>0.399611</td>\n",
       "      <td>62.991035</td>\n",
       "      <td>66.777508</td>\n",
       "    </tr>\n",
       "    <tr>\n",
       "      <th>std</th>\n",
       "      <td>21.161522</td>\n",
       "      <td>29.349636</td>\n",
       "      <td>3.967426</td>\n",
       "      <td>9.873508</td>\n",
       "      <td>13.810275</td>\n",
       "      <td>4.283715</td>\n",
       "      <td>10.943890</td>\n",
       "      <td>0.181145</td>\n",
       "      <td>3.414221</td>\n",
       "      <td>0.243627</td>\n",
       "      <td>...</td>\n",
       "      <td>0.110232</td>\n",
       "      <td>112.382481</td>\n",
       "      <td>3.802588</td>\n",
       "      <td>0.259381</td>\n",
       "      <td>11.885227</td>\n",
       "      <td>28.279526</td>\n",
       "      <td>8.397195</td>\n",
       "      <td>42.367458</td>\n",
       "      <td>17.686703</td>\n",
       "      <td>10.530242</td>\n",
       "    </tr>\n",
       "    <tr>\n",
       "      <th>min</th>\n",
       "      <td>0.000000</td>\n",
       "      <td>0.000000</td>\n",
       "      <td>4.900000</td>\n",
       "      <td>1.170000</td>\n",
       "      <td>1.700000</td>\n",
       "      <td>0.000000</td>\n",
       "      <td>2.100000</td>\n",
       "      <td>2.025000</td>\n",
       "      <td>0.123000</td>\n",
       "      <td>0.011000</td>\n",
       "      <td>...</td>\n",
       "      <td>0.351000</td>\n",
       "      <td>39.104000</td>\n",
       "      <td>1.724000</td>\n",
       "      <td>0.080000</td>\n",
       "      <td>0.000000</td>\n",
       "      <td>0.000000</td>\n",
       "      <td>37.550000</td>\n",
       "      <td>-126.229000</td>\n",
       "      <td>19.618000</td>\n",
       "      <td>38.271177</td>\n",
       "    </tr>\n",
       "    <tr>\n",
       "      <th>25%</th>\n",
       "      <td>0.240000</td>\n",
       "      <td>0.520000</td>\n",
       "      <td>8.475000</td>\n",
       "      <td>2.500000</td>\n",
       "      <td>2.625000</td>\n",
       "      <td>0.725000</td>\n",
       "      <td>9.575000</td>\n",
       "      <td>2.171750</td>\n",
       "      <td>1.558750</td>\n",
       "      <td>0.639000</td>\n",
       "      <td>...</td>\n",
       "      <td>0.477750</td>\n",
       "      <td>77.442000</td>\n",
       "      <td>5.108000</td>\n",
       "      <td>0.155000</td>\n",
       "      <td>16.070000</td>\n",
       "      <td>0.000000</td>\n",
       "      <td>50.088000</td>\n",
       "      <td>0.837750</td>\n",
       "      <td>51.991000</td>\n",
       "      <td>58.791370</td>\n",
       "    </tr>\n",
       "    <tr>\n",
       "      <th>50%</th>\n",
       "      <td>1.390000</td>\n",
       "      <td>9.150000</td>\n",
       "      <td>11.150000</td>\n",
       "      <td>4.700000</td>\n",
       "      <td>11.750000</td>\n",
       "      <td>3.100000</td>\n",
       "      <td>20.600000</td>\n",
       "      <td>2.267000</td>\n",
       "      <td>3.007500</td>\n",
       "      <td>0.829000</td>\n",
       "      <td>...</td>\n",
       "      <td>0.561000</td>\n",
       "      <td>113.408000</td>\n",
       "      <td>7.484000</td>\n",
       "      <td>0.250000</td>\n",
       "      <td>21.506000</td>\n",
       "      <td>0.000000</td>\n",
       "      <td>54.025000</td>\n",
       "      <td>4.089500</td>\n",
       "      <td>61.653000</td>\n",
       "      <td>68.448949</td>\n",
       "    </tr>\n",
       "    <tr>\n",
       "      <th>75%</th>\n",
       "      <td>22.040000</td>\n",
       "      <td>40.750000</td>\n",
       "      <td>15.850000</td>\n",
       "      <td>12.150000</td>\n",
       "      <td>27.825000</td>\n",
       "      <td>6.375000</td>\n",
       "      <td>25.600000</td>\n",
       "      <td>2.370500</td>\n",
       "      <td>4.814500</td>\n",
       "      <td>0.996500</td>\n",
       "      <td>...</td>\n",
       "      <td>0.636250</td>\n",
       "      <td>195.122000</td>\n",
       "      <td>9.722000</td>\n",
       "      <td>0.430000</td>\n",
       "      <td>28.004000</td>\n",
       "      <td>40.101000</td>\n",
       "      <td>58.675000</td>\n",
       "      <td>12.228500</td>\n",
       "      <td>78.136000</td>\n",
       "      <td>74.209297</td>\n",
       "    </tr>\n",
       "    <tr>\n",
       "      <th>max</th>\n",
       "      <td>84.770000</td>\n",
       "      <td>96.170000</td>\n",
       "      <td>17.900000</td>\n",
       "      <td>48.200000</td>\n",
       "      <td>54.200000</td>\n",
       "      <td>22.700000</td>\n",
       "      <td>61.000000</td>\n",
       "      <td>4.000000</td>\n",
       "      <td>27.838000</td>\n",
       "      <td>1.367000</td>\n",
       "      <td>...</td>\n",
       "      <td>0.817000</td>\n",
       "      <td>671.074000</td>\n",
       "      <td>22.784000</td>\n",
       "      <td>1.030000</td>\n",
       "      <td>99.569000</td>\n",
       "      <td>100.000000</td>\n",
       "      <td>74.050000</td>\n",
       "      <td>123.574000</td>\n",
       "      <td>90.094000</td>\n",
       "      <td>85.901163</td>\n",
       "    </tr>\n",
       "  </tbody>\n",
       "</table>\n",
       "<p>8 rows × 122 columns</p>\n",
       "</div>"
      ],
      "text/plain": [
       "       Poverty headcount ratio at $1.90/day (%)  \\\n",
       "count                                161.000000   \n",
       "mean                                  13.351118   \n",
       "std                                   21.161522   \n",
       "min                                    0.000000   \n",
       "25%                                    0.240000   \n",
       "50%                                    1.390000   \n",
       "75%                                   22.040000   \n",
       "max                                   84.770000   \n",
       "\n",
       "       Poverty headcount ratio at $3.20/day (%)  \\\n",
       "count                                161.000000   \n",
       "mean                                  24.223913   \n",
       "std                                   29.349636   \n",
       "min                                    0.000000   \n",
       "25%                                    0.520000   \n",
       "50%                                    9.150000   \n",
       "75%                                   40.750000   \n",
       "max                                   96.170000   \n",
       "\n",
       "       Poverty rate after taxes and transfers (%)  \\\n",
       "count                                   36.000000   \n",
       "mean                                    11.730556   \n",
       "std                                      3.967426   \n",
       "min                                      4.900000   \n",
       "25%                                      8.475000   \n",
       "50%                                     11.150000   \n",
       "75%                                     15.850000   \n",
       "max                                     17.900000   \n",
       "\n",
       "       Prevalence of undernourishment (%)  \\\n",
       "count                          163.000000   \n",
       "mean                             8.873067   \n",
       "std                              9.873508   \n",
       "min                              1.170000   \n",
       "25%                              2.500000   \n",
       "50%                              4.700000   \n",
       "75%                             12.150000   \n",
       "max                             48.200000   \n",
       "\n",
       "       Prevalence of stunting in children under 5 years of age (%)  \\\n",
       "count                                         186.000000             \n",
       "mean                                           16.720323             \n",
       "std                                            13.810275             \n",
       "min                                             1.700000             \n",
       "25%                                             2.625000             \n",
       "50%                                            11.750000             \n",
       "75%                                            27.825000             \n",
       "max                                            54.200000             \n",
       "\n",
       "       Prevalence of wasting in children under 5 years of age (%)  \\\n",
       "count                                         186.000000            \n",
       "mean                                            4.399462            \n",
       "std                                             4.283715            \n",
       "min                                             0.000000            \n",
       "25%                                             0.725000            \n",
       "50%                                             3.100000            \n",
       "75%                                             6.375000            \n",
       "max                                            22.700000            \n",
       "\n",
       "       Prevalence of obesity, BMI ≥ 30 (% of adult population)  \\\n",
       "count                                         188.000000         \n",
       "mean                                           19.670213         \n",
       "std                                            10.943890         \n",
       "min                                             2.100000         \n",
       "25%                                             9.575000         \n",
       "50%                                            20.600000         \n",
       "75%                                            25.600000         \n",
       "max                                            61.000000         \n",
       "\n",
       "       Human Trophic Level (best 2-3 worst)  \\\n",
       "count                            176.000000   \n",
       "mean                               2.279256   \n",
       "std                                0.181145   \n",
       "min                                2.025000   \n",
       "25%                                2.171750   \n",
       "50%                                2.267000   \n",
       "75%                                2.370500   \n",
       "max                                4.000000   \n",
       "\n",
       "       Cereal yield (tonnes per hectare of harvested land)  \\\n",
       "count                                         176.000000     \n",
       "mean                                            3.609472     \n",
       "std                                             3.414221     \n",
       "min                                             0.123000     \n",
       "25%                                             1.558750     \n",
       "50%                                             3.007500     \n",
       "75%                                             4.814500     \n",
       "max                                            27.838000     \n",
       "\n",
       "       Sustainable Nitrogen Management Index (best 0-1.41 worst)  ...  \\\n",
       "count                                         186.000000          ...   \n",
       "mean                                            0.818306          ...   \n",
       "std                                             0.243627          ...   \n",
       "min                                             0.011000          ...   \n",
       "25%                                             0.639000          ...   \n",
       "50%                                             0.829000          ...   \n",
       "75%                                             0.996500          ...   \n",
       "max                                             1.367000          ...   \n",
       "\n",
       "       Access to and affordability of justice (worst 0–1 best)  \\\n",
       "count                                         126.000000         \n",
       "mean                                            0.562579         \n",
       "std                                             0.110232         \n",
       "min                                             0.351000         \n",
       "25%                                             0.477750         \n",
       "50%                                             0.561000         \n",
       "75%                                             0.636250         \n",
       "max                                             0.817000         \n",
       "\n",
       "       Persons held in prison (per 100,000 population)  \\\n",
       "count                                        37.000000   \n",
       "mean                                        149.139622   \n",
       "std                                         112.382481   \n",
       "min                                          39.104000   \n",
       "25%                                          77.442000   \n",
       "50%                                         113.408000   \n",
       "75%                                         195.122000   \n",
       "max                                         671.074000   \n",
       "\n",
       "       Government spending on health and education (% of GDP)  \\\n",
       "count                                         183.000000        \n",
       "mean                                            7.962951        \n",
       "std                                             3.802588        \n",
       "min                                             1.724000        \n",
       "25%                                             5.108000        \n",
       "50%                                             7.484000        \n",
       "75%                                             9.722000        \n",
       "max                                            22.784000        \n",
       "\n",
       "       For high-income and all OECD DAC countries: International concessional public fi  \\\n",
       "count                                          39.000000                                  \n",
       "mean                                            0.341795                                  \n",
       "std                                             0.259381                                  \n",
       "min                                             0.080000                                  \n",
       "25%                                             0.155000                                  \n",
       "50%                                             0.250000                                  \n",
       "75%                                             0.430000                                  \n",
       "max                                             1.030000                                  \n",
       "\n",
       "       Other countries: Government revenue excluding grants (% of GDP)  \\\n",
       "count                                         109.000000                 \n",
       "mean                                           23.219119                 \n",
       "std                                            11.885227                 \n",
       "min                                             0.000000                 \n",
       "25%                                            16.070000                 \n",
       "50%                                            21.506000                 \n",
       "75%                                            28.004000                 \n",
       "max                                            99.569000                 \n",
       "\n",
       "       Corporate Tax Haven Score (best 0-100 worst)  \\\n",
       "count                                    190.000000   \n",
       "mean                                      16.039553   \n",
       "std                                       28.279526   \n",
       "min                                        0.000000   \n",
       "25%                                        0.000000   \n",
       "50%                                        0.000000   \n",
       "75%                                       40.101000   \n",
       "max                                      100.000000   \n",
       "\n",
       "       Financial Secrecy Score (best 0-100 worst)  \\\n",
       "count                                   37.000000   \n",
       "mean                                    54.649378   \n",
       "std                                      8.397195   \n",
       "min                                     37.550000   \n",
       "25%                                     50.088000   \n",
       "50%                                     54.025000   \n",
       "75%                                     58.675000   \n",
       "max                                     74.050000   \n",
       "\n",
       "       Shifted profits of multinationals (US$ billion)  \\\n",
       "count                                        36.000000   \n",
       "mean                                          0.399611   \n",
       "std                                          42.367458   \n",
       "min                                        -126.229000   \n",
       "25%                                           0.837750   \n",
       "50%                                           4.089500   \n",
       "75%                                          12.228500   \n",
       "max                                         123.574000   \n",
       "\n",
       "       Statistical Performance Index (worst 0-100 best)  2021 SDG Index Score  \n",
       "count                                        173.000000            165.000000  \n",
       "mean                                          62.991035             66.777508  \n",
       "std                                           17.686703             10.530242  \n",
       "min                                           19.618000             38.271177  \n",
       "25%                                           51.991000             58.791370  \n",
       "50%                                           61.653000             68.448949  \n",
       "75%                                           78.136000             74.209297  \n",
       "max                                           90.094000             85.901163  \n",
       "\n",
       "[8 rows x 122 columns]"
      ]
     },
     "metadata": {},
     "output_type": "display_data"
    }
   ],
   "source": [
    "X = pd.read_excel(filename,sheet_name='Raw Data')\n",
    "X.drop('Population in 2020',axis=1,inplace=True)\n",
    "X['Regions used for the SDG Index & Dashboard'] = pd.Series(X['Regions used for the SDG Index & Dashboard'],dtype='category')\n",
    "Y = pd.read_excel(filename,sheet_name='SDR2021 Data', usecols='B,C')\n",
    "# No he decidido si eliminarlos o si predecir el score con ellos.\n",
    "Ys = Y.dropna(subset=['2021 SDG Index Score']) # Se eliminan los que no tienen variable de respuesta por resultar inútiles. \n",
    "df = X.merge(Y,on='Country',how='inner').set_index('Country')\n",
    "valid_values = X.merge(Ys,on='Country',how='inner').set_index('Country')\n",
    "X.set_index('Country',inplace=True)\n",
    "X = X.loc[:, X.isnull().mean()<0.2]\n",
    "Y.set_index('Country',inplace=True)\n",
    "display(df.info())\n",
    "display(df.describe())"
   ]
  },
  {
   "cell_type": "code",
   "execution_count": 3,
   "metadata": {},
   "outputs": [],
   "source": [
    "colores = ['blue','red','green','yellow','orange','purple','black']\n",
    "etiquetas = X['Regions used for the SDG Index & Dashboard'].unique()\n",
    "\n",
    "c_dict = dict(zip(etiquetas,colores))\n",
    "\n",
    "# Herramientas\n",
    "imputer = Pipeline(\n",
    "    [\n",
    "        ('Scaler',PowerTransformer(method='yeo-johnson',standardize=True)),\n",
    "        ('KNN Imputer', KNNImputer(n_neighbors=7)),\n",
    "    ]\n",
    ")\n",
    "\n",
    "transformer = ColumnTransformer(\n",
    "    [\n",
    "        ('Impute and scale', imputer, make_column_selector(dtype_include=np.number)),\n",
    "        ('Encoder Region',OneHotEncoder(),['Regions used for the SDG Index & Dashboard'])\n",
    "    ]\n",
    ")\n",
    "\n",
    "LLE = LocallyLinearEmbedding(n_neighbors=7,n_components=2,reg=1e-3,method='standard')\n",
    "tsne = TSNE(perplexity=5,learning_rate='auto',random_state=420)\n",
    "isomap = Isomap(n_neighbors=7,n_components=2)\n",
    "mds = MDS(n_init=10)\n",
    "iso3d = Isomap(n_neighbors=7,n_components=3,metric='cosine')\n",
    "\n",
    "manifold3diso = Pipeline(\n",
    "    [\n",
    "        ('Imputer',imputer),\n",
    "        ('Manifold',iso3d)\n",
    "    ]\n",
    ")\n",
    "\n",
    "new_manifold = Pipeline(\n",
    "    [\n",
    "        ('Imputer',imputer),\n",
    "        ('Manifold',LLE)\n",
    "    ]\n",
    ")\n",
    "tsne_manifold = Pipeline(\n",
    "    [\n",
    "        ('Imputer',imputer),\n",
    "        ('Manifold',tsne)\n",
    "    ]\n",
    ")\n",
    "\n",
    "\n",
    "isomap_manifold = Pipeline(\n",
    "    [\n",
    "        ('Imputer',imputer),\n",
    "        ('Manifold',isomap)\n",
    "    ]\n",
    ")\n",
    "\n",
    "mds_manifold = Pipeline(\n",
    "    [\n",
    "        ('Imputer',imputer),\n",
    "        ('Manifold',mds)\n",
    "    ]\n",
    ")\n"
   ]
  },
  {
   "cell_type": "markdown",
   "metadata": {},
   "source": [
    "df.dtypes()"
   ]
  },
  {
   "cell_type": "code",
   "execution_count": 4,
   "metadata": {},
   "outputs": [
    {
     "data": {
      "text/plain": [
       "<matplotlib.collections.PathCollection at 0x7fe880291940>"
      ]
     },
     "execution_count": 4,
     "metadata": {},
     "output_type": "execute_result"
    },
    {
     "data": {
      "image/png": "[encoded data removed]",
      "text/plain": [
       "<Figure size 432x288 with 1 Axes>"
      ]
     },
     "metadata": {
      "needs_background": "light"
     },
     "output_type": "display_data"
    }
   ],
   "source": [
    "new_manifold.fit(X.select_dtypes(np.number))\n",
    "x1, x2 = new_manifold.transform(X.select_dtypes(np.number)).T\n",
    "plt.scatter(x1,x2,c=X['Regions used for the SDG Index & Dashboard'].map(c_dict))"
   ]
  },
  {
   "cell_type": "code",
   "execution_count": 5,
   "metadata": {},
   "outputs": [
    {
     "name": "stderr",
     "output_type": "stream",
     "text": [
      "/Library/Frameworks/Python.framework/Versions/3.9/lib/python3.9/site-packages/sklearn/manifold/_t_sne.py:780: FutureWarning: The default initialization in TSNE will change from 'random' to 'pca' in 1.2.\n",
      "  warnings.warn(\n",
      "/Library/Frameworks/Python.framework/Versions/3.9/lib/python3.9/site-packages/sklearn/manifold/_t_sne.py:780: FutureWarning: The default initialization in TSNE will change from 'random' to 'pca' in 1.2.\n",
      "  warnings.warn(\n"
     ]
    },
    {
     "data": {
      "text/plain": [
       "<matplotlib.collections.PathCollection at 0x7fe880416910>"
      ]
     },
     "execution_count": 5,
     "metadata": {},
     "output_type": "execute_result"
    },
    {
     "data": {
      "image/png": "[encoded data removed]",
      "text/plain": [
       "<Figure size 432x288 with 1 Axes>"
      ]
     },
     "metadata": {
      "needs_background": "light"
     },
     "output_type": "display_data"
    }
   ],
   "source": [
    "tsne_manifold.fit(X.select_dtypes(np.number))\n",
    "x1, x2 = tsne_manifold.fit_transform(X.select_dtypes(np.number)).T\n",
    "\n",
    "plt.scatter(x1,x2, c=X['Regions used for the SDG Index & Dashboard'].map(c_dict),label=X['Regions used for the SDG Index & Dashboard'])"
   ]
  },
  {
   "cell_type": "code",
   "execution_count": 6,
   "metadata": {},
   "outputs": [
    {
     "data": {
      "text/plain": [
       "<matplotlib.collections.PathCollection at 0x7fe87bc5d490>"
      ]
     },
     "execution_count": 6,
     "metadata": {},
     "output_type": "execute_result"
    },
    {
     "data": {
      "image/png": "[encoded data removed]",
      "text/plain": [
       "<Figure size 432x288 with 1 Axes>"
      ]
     },
     "metadata": {
      "needs_background": "light"
     },
     "output_type": "display_data"
    }
   ],
   "source": [
    "x1, x2 = isomap_manifold.fit_transform(X.select_dtypes(np.number)).T\n",
    "plt.scatter(x1,x2, c=X['Regions used for the SDG Index & Dashboard'].map(c_dict))\n"
   ]
  },
  {
   "cell_type": "code",
   "execution_count": 7,
   "metadata": {},
   "outputs": [
    {
     "data": {
      "text/plain": [
       "<matplotlib.collections.PathCollection at 0x7fe87bcc97f0>"
      ]
     },
     "execution_count": 7,
     "metadata": {},
     "output_type": "execute_result"
    },
    {
     "data": {
      "image/png": "[encoded data removed]",
      "text/plain": [
       "<Figure size 432x288 with 1 Axes>"
      ]
     },
     "metadata": {
      "needs_background": "light"
     },
     "output_type": "display_data"
    }
   ],
   "source": [
    "x1, x2 = mds_manifold.fit_transform(X.select_dtypes(np.number)).T\n",
    "plt.scatter(x1,x2, c=X['Regions used for the SDG Index & Dashboard'].map(c_dict))\n"
   ]
  },
  {
   "cell_type": "code",
   "execution_count": 8,
   "metadata": {},
   "outputs": [],
   "source": [
    "simple_df = pd.read_excel(filename,sheet_name='SDR2021 Data', usecols='B,WR:XH')\n",
    "simple_df_labels = pd.read_excel(filename,sheet_name='SDR2021 Data', usecols='B,H')\n",
    "simple_df.set_index('Country',inplace=True)\n",
    "simple_df_labels.set_index('Country',inplace=True)\n",
    "simple_df.dropna(how='all',inplace=True)\n",
    "\n",
    "removals = ['Eastern Europe and Central Asia',\n",
    "'East and South Asia',\n",
    "'Latin America and the Caribbean',\n",
    "'Middle East and North Africa',\n",
    "'Oceania',\n",
    "'OECD members',\n",
    "'Small Island Developing States',\n",
    "'Sub-Saharan Africa',\n",
    "'Low-income Countries',\n",
    "'Lower-middle-income Countries',\n",
    "'Upper-middle-income Countries',\n",
    "'High-income Countries']\n",
    "simple_df.drop(removals,inplace=True)"
   ]
  },
  {
   "cell_type": "code",
   "execution_count": 9,
   "metadata": {},
   "outputs": [
    {
     "name": "stderr",
     "output_type": "stream",
     "text": [
      "/Library/Frameworks/Python.framework/Versions/3.9/lib/python3.9/site-packages/sklearn/manifold/_t_sne.py:780: FutureWarning: The default initialization in TSNE will change from 'random' to 'pca' in 1.2.\n",
      "  warnings.warn(\n"
     ]
    },
    {
     "data": {
      "text/plain": [
       "<matplotlib.collections.PathCollection at 0x7fe88020d250>"
      ]
     },
     "execution_count": 9,
     "metadata": {},
     "output_type": "execute_result"
    },
    {
     "data": {
      "image/png": "[encoded data removed]",
      "text/plain": [
       "<Figure size 432x288 with 1 Axes>"
      ]
     },
     "metadata": {
      "needs_background": "light"
     },
     "output_type": "display_data"
    }
   ],
   "source": [
    "x1,x2 = tsne_manifold.fit_transform(simple_df.select_dtypes(np.number)).T\n",
    "plt.scatter(x1,x2,c=simple_df.join(simple_df_labels,how='inner')['Regions used for the SDR'].map(c_dict))"
   ]
  },
  {
   "cell_type": "code",
   "execution_count": 38,
   "metadata": {},
   "outputs": [
    {
     "data": {
      "application/vnd.plotly.v1+json": {
       "config": {
        "plotlyServerURL": "https://plot.ly"
       },
       "data": [
        {
         "hovertemplate": "color=OECD<br>0=%{x}<br>1=%{y}<br>2=%{z}<extra></extra>",
         "legendgroup": "OECD",
         "marker": {
          "color": "#636efa",
          "symbol": "circle"
         },
         "mode": "markers",
         "name": "OECD",
         "scene": "scene",
         "showlegend": true,
         "type": "scatter3d",
         "x": [
          -0.08833488845084668,
          -0.0884859996757474,
          -0.08877201186740839,
          -0.08989227259139623,
          -0.0903814079782688,
          -0.09026747101539695,
          -0.08597019367453448,
          -0.08705430189292983,
          -0.09129480950655718,
          -0.08763774195370508,
          -0.08897621493052046,
          -0.07360647604581437,
          -0.09067750163694821,
          -0.0867876091074917,
          -0.08382064405577397,
          -0.08550629545891178,
          -0.09098024406245717,
          -0.08533558611335629,
          -0.09047531777804485,
          -0.08181461388206414,
          -0.08833258297983339,
          -0.08784400953803322,
          -0.08363288956579108,
          -0.08136559286097855,
          -0.07879056449006873,
          -0.08485769531700013,
          -0.08819394755624273,
          -0.09014415549641125,
          -0.05303104453700201,
          -0.03138567754044587,
          -0.08768267287243112,
          -0.07824973604618049,
          -0.08353176794313624,
          -0.08285892677353533,
          -0.02971056545595365,
          -0.0874620421852664,
          -0.04895546837820264
         ],
         "y": [
          -0.09462071922165816,
          -0.09530427900682617,
          -0.09708865411710581,
          -0.102357430564745,
          -0.10531357141360881,
          -0.10472664145097035,
          -0.08564353655482615,
          -0.09087431817208808,
          -0.10895442924129589,
          -0.09284182565067678,
          -0.09945239268081105,
          -0.040531859219901045,
          -0.10676200126049074,
          -0.08397551648941376,
          -0.0782254164193616,
          -0.08338676201671824,
          -0.1069446124077315,
          -0.07621336896087513,
          -0.10457628353501174,
          -0.06838574713535714,
          -0.09532645117659803,
          -0.08970471989264472,
          -0.07064252657403378,
          -0.061790398093167914,
          -0.05951083767074794,
          -0.07758658865375492,
          -0.09169239655654185,
          -0.10295301657220868,
          0.03130434724886796,
          0.09364312557385843,
          -0.09259939243159906,
          -0.056209816694588695,
          -0.07404205050954246,
          -0.07166422429281856,
          0.09131974688996448,
          -0.09293993431193742,
          0.00886990708406019
         ],
         "z": [
          0.08713816447338045,
          0.05765979106786158,
          0.08638357828196967,
          0.09377375730908101,
          0.11794411852279874,
          0.12218280063302212,
          0.02506199811864182,
          0.06129678635830754,
          0.14388223131527286,
          0.07275662776427688,
          0.08512824452267048,
          -0.05818296000686883,
          0.1348034745955271,
          -0.02879348922516737,
          0.02486082612786037,
          0.013681562856398013,
          0.17799412246711727,
          -0.07399577190300813,
          0.11432569293923764,
          -0.021088708603669418,
          0.14742255330591122,
          0.013771454827549278,
          -0.06976789518862672,
          -0.08757881836896592,
          -0.04597714048749584,
          -0.023393333993518013,
          0.013878406430496523,
          0.16111381118569082,
          0.004725203948895616,
          0.0518126268187134,
          0.0865170757176424,
          0.0551523327682894,
          0.01227177401215078,
          0.01905034437779058,
          0.02785623611143736,
          0.13513193812302216,
          -0.08816009589417921
         ]
        },
        {
         "hovertemplate": "color=E. Europe & C. Asia<br>0=%{x}<br>1=%{y}<br>2=%{z}<extra></extra>",
         "legendgroup": "E. Europe & C. Asia",
         "marker": {
          "color": "#EF553B",
          "symbol": "circle"
         },
         "mode": "markers",
         "name": "E. Europe & C. Asia",
         "scene": "scene",
         "showlegend": true,
         "type": "scatter3d",
         "x": [
          0.09907195526882734,
          -0.033656259828002515,
          -0.08568184549905639,
          -0.03936652473400511,
          -0.03499694709818228,
          -0.04129385510040977,
          -0.04352636966014528,
          -0.06760772715674629,
          -0.081036849400173,
          -0.08696127943388893,
          -0.039514992188300534,
          -0.04857674853654654,
          -0.020563307428538055,
          -0.08380341640087277,
          -0.08673294661813968,
          -0.03607481897456106,
          -0.08462310024200105,
          -0.05307520687101035,
          -0.038993429366883034,
          -0.06440034747036934,
          -0.058088175537542086,
          -0.08858343870527606,
          -0.05668382309494126,
          -0.01757788911833187,
          -0.02355953196022055,
          -0.04673740930464069,
          -0.01571801496000084
         ],
         "y": [
          -0.03470071706973895,
          0.0357320998731862,
          -0.0814708433457732,
          0.026069643995693115,
          0.022248613453443557,
          0.012757044767185978,
          0.012192801240007408,
          -0.03709931157632064,
          -0.06521318872246204,
          -0.08510336914256668,
          0.03588567354198468,
          0.007191064120533313,
          0.020439494974723842,
          -0.07297287288990079,
          -0.08635045777739152,
          0.02191443326822614,
          -0.07686284414699746,
          -0.012051841145008447,
          0.029536715363029813,
          -0.023328310975915187,
          -0.013816049162883464,
          -0.09728860970133955,
          -0.016404208654456107,
          0.026984328415525977,
          0.016764880105399727,
          0.0028787351103789806,
          0.00978257086426669
         ],
         "z": [
          -0.01311008069576075,
          -0.08537110675661422,
          -0.025269247624811197,
          -0.1016630254342351,
          -0.13984093268662762,
          -0.12171801311837796,
          -0.14361923330505166,
          -0.07660746853913425,
          -0.04214763733340938,
          -0.02154272283421493,
          -0.06590464948358118,
          -0.11410388651680865,
          -0.1835906193497492,
          -0.05670590971391762,
          0.012325593327693049,
          -0.13528451944168135,
          -0.04691744334480526,
          -0.1324779863085343,
          -0.11582597486399013,
          -0.08693575439256203,
          -0.11935684514761304,
          0.07182168572883993,
          -0.11230914495570359,
          -0.18828882999714847,
          -0.1859390012684969,
          -0.14178473697427843,
          -0.218852301077886
         ]
        },
        {
         "hovertemplate": "color=MENA<br>0=%{x}<br>1=%{y}<br>2=%{z}<extra></extra>",
         "legendgroup": "MENA",
         "marker": {
          "color": "#00cc96",
          "symbol": "circle"
         },
         "mode": "markers",
         "name": "MENA",
         "scene": "scene",
         "showlegend": true,
         "type": "scatter3d",
         "x": [
          -0.018883587424364953,
          -0.06356505481241674,
          -0.00972750360518439,
          -0.03141172678785547,
          -0.0036617675524138315,
          -0.03507572623189785,
          -0.060413272238990366,
          -0.03328105112770742,
          -0.001020290147880458,
          -0.017075169009593175,
          -0.05166187445766816,
          -0.06844822537152526,
          -0.049098601711641654,
          0.030315906171466237,
          -0.02332156189697185,
          -0.07841270523522637,
          0.10479954177433454
         ],
         "y": [
          0.06717788107747694,
          -0.038561422436664834,
          0.023185794034372088,
          0.03866677438141007,
          0.05937475987004167,
          0.03471855455073916,
          -0.024260530492419337,
          0.050407206510716604,
          0.0015842803601149452,
          0.0666027780203798,
          -0.007353928505155309,
          -0.04423527171744113,
          -0.0019263559328887708,
          0.0037754924477409538,
          0.06969848981047491,
          -0.07254630281209568,
          -0.038632919716895385
         ],
         "z": [
          -0.05496328897028263,
          -0.06132183292267116,
          -0.11749835580366438,
          -0.05979039103166323,
          -0.05404590307467276,
          -0.08912008262859948,
          -0.01765752147232144,
          -0.057708504801775175,
          -0.09831617269450124,
          -0.059631610536871896,
          -0.057309451147822085,
          -0.008998525454058035,
          -0.06107684930000837,
          -0.05216900070369735,
          -0.0534868319857066,
          0.05937734031170366,
          -0.0035072025833630897
         ]
        },
        {
         "hovertemplate": "color=Africa<br>0=%{x}<br>1=%{y}<br>2=%{z}<extra></extra>",
         "legendgroup": "Africa",
         "marker": {
          "color": "#ab63fa",
          "symbol": "circle"
         },
         "mode": "markers",
         "name": "Africa",
         "scene": "scene",
         "showlegend": true,
         "type": "scatter3d",
         "x": [
          0.11508590477870495,
          0.1134557758974554,
          0.02124878536382382,
          0.11361421554121343,
          0.1139462418118765,
          0.0009471358213409276,
          0.11135607780216795,
          0.11558420201643217,
          0.11597686952264685,
          0.11304111826077397,
          0.11575969903971481,
          0.11497202201940841,
          0.11206694281030317,
          0.08300251807709991,
          0.11448238981370393,
          0.11291339289390438,
          0.031018429285103153,
          0.1052973020144067,
          0.04949962702214684,
          0.1098524585489494,
          0.10269789257781782,
          0.11630817704248754,
          0.11514807595392719,
          0.10288726785695815,
          0.07688416471276534,
          0.11446024290803362,
          0.11207654877962499,
          0.1095268077631136,
          0.11081239042817197,
          0.10346272949524923,
          -0.024586573048467474,
          0.11236568231182245,
          0.0393381907944441,
          0.11425316799024172,
          0.11461356719061636,
          0.11132244266916094,
          0.04578692664534525,
          0.11045138794184912,
          -0.025798448455941644,
          0.11426459516350791,
          0.10823409472950557,
          -0.0242813284492007,
          0.11098235212133004,
          0.10351392396930036,
          0.10782792108887165,
          0.11324509352610589,
          0.1116462586765894,
          0.11342437259611225,
          0.10914962323481393
         ],
         "y": [
          -0.04680691377797671,
          -0.04568565216432266,
          0.04483215634587897,
          -0.045953019874731084,
          -0.0458724077788019,
          0.05254621237221008,
          -0.043853285949946516,
          -0.04755205044560617,
          -0.04782816483853658,
          -0.045056799771568665,
          -0.04746029402355123,
          -0.04653362207909655,
          -0.04468047391152889,
          -0.01028915169604091,
          -0.046267343780050985,
          -0.04476865572511188,
          0.05053607125305859,
          -0.039394812031733915,
          0.02056233946223382,
          -0.042874306404942164,
          -0.03760399908771063,
          -0.04808935462403101,
          -0.04720736065495379,
          -0.03781382639105336,
          -0.008877837672599986,
          -0.046596467037870404,
          -0.044464853474830396,
          -0.04241294882137238,
          -0.04343991027172165,
          -0.03782172830594981,
          0.1373040659577948,
          -0.044781298337042225,
          0.035077559359458055,
          -0.04641170541435934,
          -0.04653403539805675,
          -0.043987918536297396,
          0.03392214686587456,
          -0.043319621073683305,
          0.12938961762025666,
          -0.046556378266198815,
          -0.04123499179220149,
          0.10980201121258693,
          -0.04380591096887577,
          -0.037833399472573796,
          -0.041567493310529065,
          -0.04562711514867182,
          -0.044438074763223194,
          -0.04555187761779743,
          -0.04229323949255968
         ],
         "z": [
          0.034558474585619725,
          0.021455176455577787,
          0.031833781696624625,
          0.01860067660775992,
          0.028416302146616633,
          -0.004888373160441778,
          0.018155733916422025,
          0.02807834979181864,
          0.02844183344225176,
          0.02213396076909452,
          0.03239357897220395,
          0.031180706897953606,
          0.016147684149275768,
          0.014987043153008264,
          0.030175398976926587,
          0.02094833294238497,
          0.041955291120186006,
          0.0070495174608165515,
          0.01051913885355036,
          0.01284603656088697,
          -0.002008827557659923,
          0.03208720457528043,
          0.03125155055609058,
          0.00487145177747202,
          0.02953339094630447,
          0.029122171387087312,
          0.02347048971289682,
          0.02550678670482001,
          0.013420274099012816,
          -0.005767137806812522,
          0.09494162322654852,
          0.026875310026900523,
          0.035775912805325334,
          0.020805564796091743,
          0.025186594893592602,
          0.025475786970014014,
          0.024012215285768773,
          0.015836492266783082,
          0.078317606001476,
          0.024121932180956485,
          0.004300931915117441,
          0.03781585538673398,
          0.014568096568847106,
          -0.006472984552212981,
          0.014824198661666857,
          0.018754960771483076,
          0.021095617389619157,
          0.029448819351776588,
          0.021899322677705557
         ]
        },
        {
         "hovertemplate": "color=LAC<br>0=%{x}<br>1=%{y}<br>2=%{z}<extra></extra>",
         "legendgroup": "LAC",
         "marker": {
          "color": "#FFA15A",
          "symbol": "circle"
         },
         "mode": "markers",
         "name": "LAC",
         "scene": "scene",
         "showlegend": true,
         "type": "scatter3d",
         "x": [
          -0.023765341611243676,
          -0.03313973043265507,
          -0.0238366755962735,
          -0.02321676132671718,
          -0.019498954133176934,
          -0.009784065540122788,
          -0.02938781747422208,
          -0.03753767571746365,
          -0.026138865729064938,
          -0.020953287839473853,
          -0.01952274084796797,
          -0.021800818829772417,
          -0.01780581868609747,
          -0.023478267781973337,
          -0.015815526533328322,
          -0.017692754084742947,
          0.11491137437647386,
          -0.014614153169693223,
          -0.020910866215063533,
          -0.006070928396922557,
          -0.023721747548393304,
          -0.020459905092420627,
          -0.02792589853252271,
          -0.023230892951227194,
          -0.022111090346017298,
          -0.024507243254105367,
          -0.005481691278418797,
          -0.024514898019500235,
          -0.0389843073295043,
          -0.016839345909353806
         ],
         "y": [
          0.14738471236162265,
          0.08978709835284027,
          0.15375320237447831,
          0.14263857794172932,
          0.15223168830322872,
          0.0867777758636323,
          0.10470391427275891,
          0.08629868786983999,
          0.08849376469941457,
          0.13018916861718716,
          0.13252178807656514,
          0.10126927808344421,
          0.1365220371513928,
          0.12356948277637227,
          0.1510616294747866,
          0.11518752655913149,
          -0.04670436837768785,
          0.15760908721981945,
          0.12133524379277405,
          0.1199097132730106,
          0.14144567862885593,
          0.12104521200105332,
          0.06653083673754802,
          0.13550301317554336,
          0.14764858080611867,
          0.1414328419021661,
          0.10311165739335419,
          0.12176694611593782,
          0.0853952725950849,
          0.11415147455773891
         ],
         "z": [
          0.10555430162879818,
          -0.007066207087660592,
          0.12022495701302405,
          0.09415627811353272,
          0.08775644128677053,
          0.015353764389142432,
          0.012300440828330497,
          0.04170806852320727,
          0.008906706313386113,
          0.06742702190994372,
          0.056601422084222155,
          0.0444468733496203,
          0.07940751304300371,
          0.06419485737248361,
          0.09641782526533907,
          0.0629167605366398,
          0.02501130540310853,
          0.10143531490788028,
          0.06791413021711959,
          0.07219229773050886,
          0.10145282507328937,
          0.02515561991104904,
          0.03231003173097564,
          0.0913016517296361,
          0.09992265953166596,
          0.08655072700935047,
          0.04584388416088956,
          0.05997762112804484,
          0.004397060204125371,
          0.023364749805006874
         ]
        },
        {
         "hovertemplate": "color=East & South Asia<br>0=%{x}<br>1=%{y}<br>2=%{z}<extra></extra>",
         "legendgroup": "East & South Asia",
         "marker": {
          "color": "#19d3f3",
          "symbol": "circle"
         },
         "mode": "markers",
         "name": "East & South Asia",
         "scene": "scene",
         "showlegend": true,
         "type": "scatter3d",
         "x": [
          0.07017150835699981,
          0.016621662422487832,
          -0.05453418726868151,
          0.06906365967923177,
          -0.018637497815043102,
          0.05257157049516659,
          0.02913675484856429,
          0.025900797324712885,
          0.06906880444928105,
          -0.0348908886597936,
          -0.02636315562848301,
          -0.026347064290876212,
          0.06843673666946462,
          0.08662382452565533,
          0.0786848828711298,
          0.026661276649085255,
          -0.0864062935032406,
          0.013140698920712322,
          -0.012494666320313694,
          0.09418207633975294,
          0.014929099162807179
         ],
         "y": [
          -0.012988091668555173,
          0.028175078548026172,
          -0.011433524670724005,
          -0.016031580047737165,
          -0.00676216951947109,
          -0.005604509048483754,
          0.019008599793920708,
          0.0004923258321561028,
          -0.010531778567719157,
          0.02589577116454374,
          0.08729888820568561,
          0.04951179848326077,
          -0.012806615159350845,
          -0.025289049591982426,
          -0.020839918186278457,
          0.032534036514529366,
          -0.08778725065028906,
          0.028498874771586004,
          0.031207546855191212,
          -0.030805520599883465,
          0.010655667544799376
         ],
         "z": [
          -0.05272348627386986,
          -0.05242736266310956,
          -0.04308822122647861,
          -0.045782524734004695,
          -0.1442609556884712,
          -0.07374565807240073,
          -0.06797581741884222,
          -0.13234690143569589,
          -0.035203986358551514,
          -0.08007039078884007,
          0.00890848798597851,
          -0.07403759618172961,
          -0.05019439188866616,
          -0.030857768230308613,
          -0.04829010903838056,
          -0.04121260688733369,
          0.07414064457268711,
          -0.060235165569550345,
          -0.0758976064382304,
          -0.011363800067015171,
          -0.09918851851175974
         ]
        },
        {
         "hovertemplate": "color=Oceania<br>0=%{x}<br>1=%{y}<br>2=%{z}<extra></extra>",
         "legendgroup": "Oceania",
         "marker": {
          "color": "#FF6692",
          "symbol": "circle"
         },
         "mode": "markers",
         "name": "Oceania",
         "scene": "scene",
         "showlegend": true,
         "type": "scatter3d",
         "x": [
          -0.011692851968989244,
          0.01906947082821265,
          0.012521140540196514,
          0.04230585280789299,
          -0.00481550489141121,
          -0.02312500660029536,
          0.10313173816250353,
          -0.013259580483214628,
          0.08974620613237577,
          -0.010357242423640275,
          0.0016808665200370408,
          0.044379261629093635
         ],
         "y": [
          0.07443942178281737,
          0.04413368527379114,
          0.06242381128407874,
          0.019057737942654942,
          0.07351589654518394,
          0.054816460016192226,
          -0.037137361108736035,
          0.03997808374903132,
          -0.026139367472653094,
          0.04324207696478223,
          0.05356511787695312,
          0.010624292203197203
         ],
         "z": [
          -0.0027558188337016773,
          0.002258281561479839,
          0.027671688192021288,
          0.0012334694298183277,
          0.016945133906852868,
          0.009831506782841327,
          0.02343748044986828,
          -0.05799261178221995,
          0.016519274790583478,
          -0.04854092505496356,
          0.000817624675130366,
          -0.007163473073789284
         ]
        }
       ],
       "layout": {
        "height": 720,
        "legend": {
         "title": {
          "text": "color"
         },
         "tracegroupgap": 0
        },
        "margin": {
         "t": 60
        },
        "scene": {
         "domain": {
          "x": [
           0,
           1
          ],
          "y": [
           0,
           1
          ]
         },
         "xaxis": {
          "title": {
           "text": "0"
          }
         },
         "yaxis": {
          "title": {
           "text": "1"
          }
         },
         "zaxis": {
          "title": {
           "text": "2"
          }
         }
        },
        "template": {
         "data": {
          "bar": [
           {
            "error_x": {
             "color": "#2a3f5f"
            },
            "error_y": {
             "color": "#2a3f5f"
            },
            "marker": {
             "line": {
              "color": "#E5ECF6",
              "width": 0.5
             },
             "pattern": {
              "fillmode": "overlay",
              "size": 10,
              "solidity": 0.2
             }
            },
            "type": "bar"
           }
          ],
          "barpolar": [
           {
            "marker": {
             "line": {
              "color": "#E5ECF6",
              "width": 0.5
             },
             "pattern": {
              "fillmode": "overlay",
              "size": 10,
              "solidity": 0.2
             }
            },
            "type": "barpolar"
           }
          ],
          "carpet": [
           {
            "aaxis": {
             "endlinecolor": "#2a3f5f",
             "gridcolor": "white",
             "linecolor": "white",
             "minorgridcolor": "white",
             "startlinecolor": "#2a3f5f"
            },
            "baxis": {
             "endlinecolor": "#2a3f5f",
             "gridcolor": "white",
             "linecolor": "white",
             "minorgridcolor": "white",
             "startlinecolor": "#2a3f5f"
            },
            "type": "carpet"
           }
          ],
          "choropleth": [
           {
            "colorbar": {
             "outlinewidth": 0,
             "ticks": ""
            },
            "type": "choropleth"
           }
          ],
          "contour": [
           {
            "colorbar": {
             "outlinewidth": 0,
             "ticks": ""
            },
            "colorscale": [
             [
              0,
              "#0d0887"
             ],
             [
              0.1111111111111111,
              "#46039f"
             ],
             [
              0.2222222222222222,
              "#7201a8"
             ],
             [
              0.3333333333333333,
              "#9c179e"
             ],
             [
              0.4444444444444444,
              "#bd3786"
             ],
             [
              0.5555555555555556,
              "#d8576b"
             ],
             [
              0.6666666666666666,
              "#ed7953"
             ],
             [
              0.7777777777777778,
              "#fb9f3a"
             ],
             [
              0.8888888888888888,
              "#fdca26"
             ],
             [
              1,
              "#f0f921"
             ]
            ],
            "type": "contour"
           }
          ],
          "contourcarpet": [
           {
            "colorbar": {
             "outlinewidth": 0,
             "ticks": ""
            },
            "type": "contourcarpet"
           }
          ],
          "heatmap": [
           {
            "colorbar": {
             "outlinewidth": 0,
             "ticks": ""
            },
            "colorscale": [
             [
              0,
              "#0d0887"
             ],
             [
              0.1111111111111111,
              "#46039f"
             ],
             [
              0.2222222222222222,
              "#7201a8"
             ],
             [
              0.3333333333333333,
              "#9c179e"
             ],
             [
              0.4444444444444444,
              "#bd3786"
             ],
             [
              0.5555555555555556,
              "#d8576b"
             ],
             [
              0.6666666666666666,
              "#ed7953"
             ],
             [
              0.7777777777777778,
              "#fb9f3a"
             ],
             [
              0.8888888888888888,
              "#fdca26"
             ],
             [
              1,
              "#f0f921"
             ]
            ],
            "type": "heatmap"
           }
          ],
          "heatmapgl": [
           {
            "colorbar": {
             "outlinewidth": 0,
             "ticks": ""
            },
            "colorscale": [
             [
              0,
              "#0d0887"
             ],
             [
              0.1111111111111111,
              "#46039f"
             ],
             [
              0.2222222222222222,
              "#7201a8"
             ],
             [
              0.3333333333333333,
              "#9c179e"
             ],
             [
              0.4444444444444444,
              "#bd3786"
             ],
             [
              0.5555555555555556,
              "#d8576b"
             ],
             [
              0.6666666666666666,
              "#ed7953"
             ],
             [
              0.7777777777777778,
              "#fb9f3a"
             ],
             [
              0.8888888888888888,
              "#fdca26"
             ],
             [
              1,
              "#f0f921"
             ]
            ],
            "type": "heatmapgl"
           }
          ],
          "histogram": [
           {
            "marker": {
             "pattern": {
              "fillmode": "overlay",
              "size": 10,
              "solidity": 0.2
             }
            },
            "type": "histogram"
           }
          ],
          "histogram2d": [
           {
            "colorbar": {
             "outlinewidth": 0,
             "ticks": ""
            },
            "colorscale": [
             [
              0,
              "#0d0887"
             ],
             [
              0.1111111111111111,
              "#46039f"
             ],
             [
              0.2222222222222222,
              "#7201a8"
             ],
             [
              0.3333333333333333,
              "#9c179e"
             ],
             [
              0.4444444444444444,
              "#bd3786"
             ],
             [
              0.5555555555555556,
              "#d8576b"
             ],
             [
              0.6666666666666666,
              "#ed7953"
             ],
             [
              0.7777777777777778,
              "#fb9f3a"
             ],
             [
              0.8888888888888888,
              "#fdca26"
             ],
             [
              1,
              "#f0f921"
             ]
            ],
            "type": "histogram2d"
           }
          ],
          "histogram2dcontour": [
           {
            "colorbar": {
             "outlinewidth": 0,
             "ticks": ""
            },
            "colorscale": [
             [
              0,
              "#0d0887"
             ],
             [
              0.1111111111111111,
              "#46039f"
             ],
             [
              0.2222222222222222,
              "#7201a8"
             ],
             [
              0.3333333333333333,
              "#9c179e"
             ],
             [
              0.4444444444444444,
              "#bd3786"
             ],
             [
              0.5555555555555556,
              "#d8576b"
             ],
             [
              0.6666666666666666,
              "#ed7953"
             ],
             [
              0.7777777777777778,
              "#fb9f3a"
             ],
             [
              0.8888888888888888,
              "#fdca26"
             ],
             [
              1,
              "#f0f921"
             ]
            ],
            "type": "histogram2dcontour"
           }
          ],
          "mesh3d": [
           {
            "colorbar": {
             "outlinewidth": 0,
             "ticks": ""
            },
            "type": "mesh3d"
           }
          ],
          "parcoords": [
           {
            "line": {
             "colorbar": {
              "outlinewidth": 0,
              "ticks": ""
             }
            },
            "type": "parcoords"
           }
          ],
          "pie": [
           {
            "automargin": true,
            "type": "pie"
           }
          ],
          "scatter": [
           {
            "marker": {
             "colorbar": {
              "outlinewidth": 0,
              "ticks": ""
             }
            },
            "type": "scatter"
           }
          ],
          "scatter3d": [
           {
            "line": {
             "colorbar": {
              "outlinewidth": 0,
              "ticks": ""
             }
            },
            "marker": {
             "colorbar": {
              "outlinewidth": 0,
              "ticks": ""
             }
            },
            "type": "scatter3d"
           }
          ],
          "scattercarpet": [
           {
            "marker": {
             "colorbar": {
              "outlinewidth": 0,
              "ticks": ""
             }
            },
            "type": "scattercarpet"
           }
          ],
          "scattergeo": [
           {
            "marker": {
             "colorbar": {
              "outlinewidth": 0,
              "ticks": ""
             }
            },
            "type": "scattergeo"
           }
          ],
          "scattergl": [
           {
            "marker": {
             "colorbar": {
              "outlinewidth": 0,
              "ticks": ""
             }
            },
            "type": "scattergl"
           }
          ],
          "scattermapbox": [
           {
            "marker": {
             "colorbar": {
              "outlinewidth": 0,
              "ticks": ""
             }
            },
            "type": "scattermapbox"
           }
          ],
          "scatterpolar": [
           {
            "marker": {
             "colorbar": {
              "outlinewidth": 0,
              "ticks": ""
             }
            },
            "type": "scatterpolar"
           }
          ],
          "scatterpolargl": [
           {
            "marker": {
             "colorbar": {
              "outlinewidth": 0,
              "ticks": ""
             }
            },
            "type": "scatterpolargl"
           }
          ],
          "scatterternary": [
           {
            "marker": {
             "colorbar": {
              "outlinewidth": 0,
              "ticks": ""
             }
            },
            "type": "scatterternary"
           }
          ],
          "surface": [
           {
            "colorbar": {
             "outlinewidth": 0,
             "ticks": ""
            },
            "colorscale": [
             [
              0,
              "#0d0887"
             ],
             [
              0.1111111111111111,
              "#46039f"
             ],
             [
              0.2222222222222222,
              "#7201a8"
             ],
             [
              0.3333333333333333,
              "#9c179e"
             ],
             [
              0.4444444444444444,
              "#bd3786"
             ],
             [
              0.5555555555555556,
              "#d8576b"
             ],
             [
              0.6666666666666666,
              "#ed7953"
             ],
             [
              0.7777777777777778,
              "#fb9f3a"
             ],
             [
              0.8888888888888888,
              "#fdca26"
             ],
             [
              1,
              "#f0f921"
             ]
            ],
            "type": "surface"
           }
          ],
          "table": [
           {
            "cells": {
             "fill": {
              "color": "#EBF0F8"
             },
             "line": {
              "color": "white"
             }
            },
            "header": {
             "fill": {
              "color": "#C8D4E3"
             },
             "line": {
              "color": "white"
             }
            },
            "type": "table"
           }
          ]
         },
         "layout": {
          "annotationdefaults": {
           "arrowcolor": "#2a3f5f",
           "arrowhead": 0,
           "arrowwidth": 1
          },
          "autotypenumbers": "strict",
          "coloraxis": {
           "colorbar": {
            "outlinewidth": 0,
            "ticks": ""
           }
          },
          "colorscale": {
           "diverging": [
            [
             0,
             "#8e0152"
            ],
            [
             0.1,
             "#c51b7d"
            ],
            [
             0.2,
             "#de77ae"
            ],
            [
             0.3,
             "#f1b6da"
            ],
            [
             0.4,
             "#fde0ef"
            ],
            [
             0.5,
             "#f7f7f7"
            ],
            [
             0.6,
             "#e6f5d0"
            ],
            [
             0.7,
             "#b8e186"
            ],
            [
             0.8,
             "#7fbc41"
            ],
            [
             0.9,
             "#4d9221"
            ],
            [
             1,
             "#276419"
            ]
           ],
           "sequential": [
            [
             0,
             "#0d0887"
            ],
            [
             0.1111111111111111,
             "#46039f"
            ],
            [
             0.2222222222222222,
             "#7201a8"
            ],
            [
             0.3333333333333333,
             "#9c179e"
            ],
            [
             0.4444444444444444,
             "#bd3786"
            ],
            [
             0.5555555555555556,
             "#d8576b"
            ],
            [
             0.6666666666666666,
             "#ed7953"
            ],
            [
             0.7777777777777778,
             "#fb9f3a"
            ],
            [
             0.8888888888888888,
             "#fdca26"
            ],
            [
             1,
             "#f0f921"
            ]
           ],
           "sequentialminus": [
            [
             0,
             "#0d0887"
            ],
            [
             0.1111111111111111,
             "#46039f"
            ],
            [
             0.2222222222222222,
             "#7201a8"
            ],
            [
             0.3333333333333333,
             "#9c179e"
            ],
            [
             0.4444444444444444,
             "#bd3786"
            ],
            [
             0.5555555555555556,
             "#d8576b"
            ],
            [
             0.6666666666666666,
             "#ed7953"
            ],
            [
             0.7777777777777778,
             "#fb9f3a"
            ],
            [
             0.8888888888888888,
             "#fdca26"
            ],
            [
             1,
             "#f0f921"
            ]
           ]
          },
          "colorway": [
           "#636efa",
           "#EF553B",
           "#00cc96",
           "#ab63fa",
           "#FFA15A",
           "#19d3f3",
           "#FF6692",
           "#B6E880",
           "#FF97FF",
           "#FECB52"
          ],
          "font": {
           "color": "#2a3f5f"
          },
          "geo": {
           "bgcolor": "white",
           "lakecolor": "white",
           "landcolor": "#E5ECF6",
           "showlakes": true,
           "showland": true,
           "subunitcolor": "white"
          },
          "hoverlabel": {
           "align": "left"
          },
          "hovermode": "closest",
          "mapbox": {
           "style": "light"
          },
          "paper_bgcolor": "white",
          "plot_bgcolor": "#E5ECF6",
          "polar": {
           "angularaxis": {
            "gridcolor": "white",
            "linecolor": "white",
            "ticks": ""
           },
           "bgcolor": "#E5ECF6",
           "radialaxis": {
            "gridcolor": "white",
            "linecolor": "white",
            "ticks": ""
           }
          },
          "scene": {
           "xaxis": {
            "backgroundcolor": "#E5ECF6",
            "gridcolor": "white",
            "gridwidth": 2,
            "linecolor": "white",
            "showbackground": true,
            "ticks": "",
            "zerolinecolor": "white"
           },
           "yaxis": {
            "backgroundcolor": "#E5ECF6",
            "gridcolor": "white",
            "gridwidth": 2,
            "linecolor": "white",
            "showbackground": true,
            "ticks": "",
            "zerolinecolor": "white"
           },
           "zaxis": {
            "backgroundcolor": "#E5ECF6",
            "gridcolor": "white",
            "gridwidth": 2,
            "linecolor": "white",
            "showbackground": true,
            "ticks": "",
            "zerolinecolor": "white"
           }
          },
          "shapedefaults": {
           "line": {
            "color": "#2a3f5f"
           }
          },
          "ternary": {
           "aaxis": {
            "gridcolor": "white",
            "linecolor": "white",
            "ticks": ""
           },
           "baxis": {
            "gridcolor": "white",
            "linecolor": "white",
            "ticks": ""
           },
           "bgcolor": "#E5ECF6",
           "caxis": {
            "gridcolor": "white",
            "linecolor": "white",
            "ticks": ""
           }
          },
          "title": {
           "x": 0.05
          },
          "xaxis": {
           "automargin": true,
           "gridcolor": "white",
           "linecolor": "white",
           "ticks": "",
           "title": {
            "standoff": 15
           },
           "zerolinecolor": "white",
           "zerolinewidth": 2
          },
          "yaxis": {
           "automargin": true,
           "gridcolor": "white",
           "linecolor": "white",
           "ticks": "",
           "title": {
            "standoff": 15
           },
           "zerolinecolor": "white",
           "zerolinewidth": 2
          }
         }
        },
        "width": 1080
       }
      }
     },
     "metadata": {},
     "output_type": "display_data"
    }
   ],
   "source": [
    "import plotly.express as px \n",
    "\n",
    "lle3d = LocallyLinearEmbedding(n_neighbors=10,n_components=3,reg=1e-3,method='standard')\n",
    "\n",
    "manifold3dlle = Pipeline(\n",
    "    [\n",
    "        ('Imputer',imputer),\n",
    "        ('Manifold',lle3d)\n",
    "    ]\n",
    ")\n",
    "man3d_dflle = pd.DataFrame(data=manifold3dlle.fit_transform(X.select_dtypes(np.number)))\n",
    "px.scatter_3d(man3d_dflle,x=0,y=1,z=2,color=X['Regions used for the SDG Index & Dashboard'],width=1080,height=720)"
   ]
  },
  {
   "cell_type": "code",
   "execution_count": 12,
   "metadata": {},
   "outputs": [
    {
     "name": "stderr",
     "output_type": "stream",
     "text": [
      "/Library/Frameworks/Python.framework/Versions/3.9/lib/python3.9/site-packages/sklearn/manifold/_t_sne.py:780: FutureWarning:\n",
      "\n",
      "The default initialization in TSNE will change from 'random' to 'pca' in 1.2.\n",
      "\n"
     ]
    },
    {
     "data": {
      "text/plain": [
       "<AxesSubplot:xlabel='1D representation', ylabel='Density'>"
      ]
     },
     "execution_count": 12,
     "metadata": {},
     "output_type": "execute_result"
    },
    {
     "data": {
      "image/png": "[encoded data removed]",
      "text/plain": [
       "<Figure size 1152x648 with 1 Axes>"
      ]
     },
     "metadata": {
      "needs_background": "light"
     },
     "output_type": "display_data"
    }
   ],
   "source": [
    "manifold_1d = Pipeline(\n",
    "    [\n",
    "        ('Imputer',imputer),\n",
    "        ('Manifold',TSNE(n_components=1,perplexity=5,learning_rate='auto',random_state=420))\n",
    "    ]\n",
    ")\n",
    "\n",
    "x1 = (manifold_1d.fit_transform(X.select_dtypes(np.number))).flatten()\n",
    "plt.figure(figsize=(16,9))\n",
    "x1 = pd.DataFrame(data={\n",
    "    \"1D representation\":x1,\n",
    "    \"Region\": X['Regions used for the SDG Index & Dashboard'],\n",
    "    \"SDG Score\": Y.join(X,how='right')['2021 SDG Index Score']\n",
    "    },\n",
    "    index=X.index\n",
    ")\n",
    "sns.scatterplot(x=x1['1D representation'],y=np.zeros_like(x1['1D representation']),alpha=0.3,hue=x1[\"SDG Score\"])\n",
    "sns.kdeplot(data=x1,x=\"1D representation\",hue='Region')\n",
    "\n"
   ]
  },
  {
   "cell_type": "code",
   "execution_count": 13,
   "metadata": {},
   "outputs": [
    {
     "data": {
      "text/html": [
       "<div>\n",
       "<style scoped>\n",
       "    .dataframe tbody tr th:only-of-type {\n",
       "        vertical-align: middle;\n",
       "    }\n",
       "\n",
       "    .dataframe tbody tr th {\n",
       "        vertical-align: top;\n",
       "    }\n",
       "\n",
       "    .dataframe thead th {\n",
       "        text-align: right;\n",
       "    }\n",
       "</style>\n",
       "<table border=\"1\" class=\"dataframe\">\n",
       "  <thead>\n",
       "    <tr style=\"text-align: right;\">\n",
       "      <th></th>\n",
       "      <th>Country Code ISO3</th>\n",
       "      <th>Regions used for the SDG Index &amp; Dashboard</th>\n",
       "      <th>Poverty headcount ratio at $1.90/day (%)</th>\n",
       "      <th>Poverty headcount ratio at $3.20/day (%)</th>\n",
       "      <th>Prevalence of undernourishment (%)</th>\n",
       "      <th>Prevalence of stunting in children under 5 years of age (%)</th>\n",
       "      <th>Prevalence of wasting in children under 5 years of age (%)</th>\n",
       "      <th>Prevalence of obesity, BMI ≥ 30 (% of adult population)</th>\n",
       "      <th>Human Trophic Level (best 2-3 worst)</th>\n",
       "      <th>Cereal yield (tonnes per hectare of harvested land)</th>\n",
       "      <th>...</th>\n",
       "      <th>Terrestrial and freshwater biodiversity threats embodied in imports (per million</th>\n",
       "      <th>Homicides (per 100,000 population)</th>\n",
       "      <th>Unsentenced detainees (% of prison population)</th>\n",
       "      <th>Birth registrations with civil authority (% of children under age 5)</th>\n",
       "      <th>Corruption Perception Index (worst 0-100 best)</th>\n",
       "      <th>Exports of major conventional weapons (TIV constant million USD per 100,000 popu</th>\n",
       "      <th>Press Freedom Index (best 0-100 worst)</th>\n",
       "      <th>Government spending on health and education (% of GDP)</th>\n",
       "      <th>Corporate Tax Haven Score (best 0-100 worst)</th>\n",
       "      <th>Statistical Performance Index (worst 0-100 best)</th>\n",
       "    </tr>\n",
       "    <tr>\n",
       "      <th>Country</th>\n",
       "      <th></th>\n",
       "      <th></th>\n",
       "      <th></th>\n",
       "      <th></th>\n",
       "      <th></th>\n",
       "      <th></th>\n",
       "      <th></th>\n",
       "      <th></th>\n",
       "      <th></th>\n",
       "      <th></th>\n",
       "      <th></th>\n",
       "      <th></th>\n",
       "      <th></th>\n",
       "      <th></th>\n",
       "      <th></th>\n",
       "      <th></th>\n",
       "      <th></th>\n",
       "      <th></th>\n",
       "      <th></th>\n",
       "      <th></th>\n",
       "      <th></th>\n",
       "    </tr>\n",
       "  </thead>\n",
       "  <tbody>\n",
       "    <tr>\n",
       "      <th>United States</th>\n",
       "      <td>USA</td>\n",
       "      <td>OECD</td>\n",
       "      <td>0.38</td>\n",
       "      <td>0.52</td>\n",
       "      <td>2.5</td>\n",
       "      <td>3.50</td>\n",
       "      <td>0.4</td>\n",
       "      <td>36.2</td>\n",
       "      <td>2.454</td>\n",
       "      <td>8.692</td>\n",
       "      <td>...</td>\n",
       "      <td>3.741</td>\n",
       "      <td>4.957</td>\n",
       "      <td>23.400</td>\n",
       "      <td>100.0</td>\n",
       "      <td>67.0</td>\n",
       "      <td>3.223</td>\n",
       "      <td>23.85</td>\n",
       "      <td>13.474</td>\n",
       "      <td>43.212</td>\n",
       "      <td>88.924</td>\n",
       "    </tr>\n",
       "    <tr>\n",
       "      <th>France</th>\n",
       "      <td>FRA</td>\n",
       "      <td>OECD</td>\n",
       "      <td>0.13</td>\n",
       "      <td>0.17</td>\n",
       "      <td>2.5</td>\n",
       "      <td>2.58</td>\n",
       "      <td>0.7</td>\n",
       "      <td>21.6</td>\n",
       "      <td>2.477</td>\n",
       "      <td>6.885</td>\n",
       "      <td>...</td>\n",
       "      <td>7.095</td>\n",
       "      <td>1.199</td>\n",
       "      <td>28.600</td>\n",
       "      <td>100.0</td>\n",
       "      <td>69.0</td>\n",
       "      <td>3.545</td>\n",
       "      <td>22.92</td>\n",
       "      <td>13.712</td>\n",
       "      <td>55.702</td>\n",
       "      <td>86.348</td>\n",
       "    </tr>\n",
       "    <tr>\n",
       "      <th>Germany</th>\n",
       "      <td>DEU</td>\n",
       "      <td>OECD</td>\n",
       "      <td>0.24</td>\n",
       "      <td>0.31</td>\n",
       "      <td>2.5</td>\n",
       "      <td>1.70</td>\n",
       "      <td>0.3</td>\n",
       "      <td>22.3</td>\n",
       "      <td>2.437</td>\n",
       "      <td>6.220</td>\n",
       "      <td>...</td>\n",
       "      <td>5.746</td>\n",
       "      <td>0.948</td>\n",
       "      <td>23.567</td>\n",
       "      <td>100.0</td>\n",
       "      <td>80.0</td>\n",
       "      <td>2.040</td>\n",
       "      <td>12.16</td>\n",
       "      <td>13.784</td>\n",
       "      <td>52.338</td>\n",
       "      <td>87.498</td>\n",
       "    </tr>\n",
       "    <tr>\n",
       "      <th>Belgium</th>\n",
       "      <td>BEL</td>\n",
       "      <td>OECD</td>\n",
       "      <td>0.25</td>\n",
       "      <td>0.31</td>\n",
       "      <td>2.5</td>\n",
       "      <td>2.58</td>\n",
       "      <td>0.7</td>\n",
       "      <td>22.1</td>\n",
       "      <td>2.380</td>\n",
       "      <td>8.154</td>\n",
       "      <td>...</td>\n",
       "      <td>4.722</td>\n",
       "      <td>1.690</td>\n",
       "      <td>35.600</td>\n",
       "      <td>100.0</td>\n",
       "      <td>76.0</td>\n",
       "      <td>0.154</td>\n",
       "      <td>12.57</td>\n",
       "      <td>14.232</td>\n",
       "      <td>67.841</td>\n",
       "      <td>82.415</td>\n",
       "    </tr>\n",
       "    <tr>\n",
       "      <th>Denmark</th>\n",
       "      <td>DNK</td>\n",
       "      <td>OECD</td>\n",
       "      <td>0.17</td>\n",
       "      <td>0.21</td>\n",
       "      <td>2.5</td>\n",
       "      <td>2.58</td>\n",
       "      <td>0.7</td>\n",
       "      <td>19.7</td>\n",
       "      <td>2.494</td>\n",
       "      <td>4.946</td>\n",
       "      <td>...</td>\n",
       "      <td>1.685</td>\n",
       "      <td>1.008</td>\n",
       "      <td>32.800</td>\n",
       "      <td>100.0</td>\n",
       "      <td>88.0</td>\n",
       "      <td>0.357</td>\n",
       "      <td>8.13</td>\n",
       "      <td>16.263</td>\n",
       "      <td>51.704</td>\n",
       "      <td>86.117</td>\n",
       "    </tr>\n",
       "    <tr>\n",
       "      <th>...</th>\n",
       "      <td>...</td>\n",
       "      <td>...</td>\n",
       "      <td>...</td>\n",
       "      <td>...</td>\n",
       "      <td>...</td>\n",
       "      <td>...</td>\n",
       "      <td>...</td>\n",
       "      <td>...</td>\n",
       "      <td>...</td>\n",
       "      <td>...</td>\n",
       "      <td>...</td>\n",
       "      <td>...</td>\n",
       "      <td>...</td>\n",
       "      <td>...</td>\n",
       "      <td>...</td>\n",
       "      <td>...</td>\n",
       "      <td>...</td>\n",
       "      <td>...</td>\n",
       "      <td>...</td>\n",
       "      <td>...</td>\n",
       "      <td>...</td>\n",
       "    </tr>\n",
       "    <tr>\n",
       "      <th>Venezuela, RB</th>\n",
       "      <td>VEN</td>\n",
       "      <td>LAC</td>\n",
       "      <td>53.37</td>\n",
       "      <td>77.21</td>\n",
       "      <td>31.4</td>\n",
       "      <td>13.40</td>\n",
       "      <td>4.1</td>\n",
       "      <td>25.6</td>\n",
       "      <td>2.313</td>\n",
       "      <td>3.395</td>\n",
       "      <td>...</td>\n",
       "      <td>0.777</td>\n",
       "      <td>36.688</td>\n",
       "      <td>63.000</td>\n",
       "      <td>81.3</td>\n",
       "      <td>15.0</td>\n",
       "      <td>0.000</td>\n",
       "      <td>45.66</td>\n",
       "      <td>8.579</td>\n",
       "      <td>0.000</td>\n",
       "      <td>43.865</td>\n",
       "    </tr>\n",
       "    <tr>\n",
       "      <th>Vietnam</th>\n",
       "      <td>VNM</td>\n",
       "      <td>East &amp; South Asia</td>\n",
       "      <td>0.85</td>\n",
       "      <td>4.40</td>\n",
       "      <td>6.4</td>\n",
       "      <td>23.80</td>\n",
       "      <td>5.8</td>\n",
       "      <td>2.1</td>\n",
       "      <td>2.218</td>\n",
       "      <td>5.685</td>\n",
       "      <td>...</td>\n",
       "      <td>0.138</td>\n",
       "      <td>1.528</td>\n",
       "      <td>12.500</td>\n",
       "      <td>96.1</td>\n",
       "      <td>36.0</td>\n",
       "      <td>0.000</td>\n",
       "      <td>74.71</td>\n",
       "      <td>6.864</td>\n",
       "      <td>0.000</td>\n",
       "      <td>65.959</td>\n",
       "    </tr>\n",
       "    <tr>\n",
       "      <th>Yemen, Rep.</th>\n",
       "      <td>YEM</td>\n",
       "      <td>MENA</td>\n",
       "      <td>NaN</td>\n",
       "      <td>NaN</td>\n",
       "      <td>NaN</td>\n",
       "      <td>46.40</td>\n",
       "      <td>16.4</td>\n",
       "      <td>17.1</td>\n",
       "      <td>2.127</td>\n",
       "      <td>0.759</td>\n",
       "      <td>...</td>\n",
       "      <td>0.039</td>\n",
       "      <td>6.772</td>\n",
       "      <td>70.900</td>\n",
       "      <td>30.7</td>\n",
       "      <td>15.0</td>\n",
       "      <td>0.000</td>\n",
       "      <td>58.25</td>\n",
       "      <td>5.649</td>\n",
       "      <td>0.000</td>\n",
       "      <td>36.771</td>\n",
       "    </tr>\n",
       "    <tr>\n",
       "      <th>Zambia</th>\n",
       "      <td>ZMB</td>\n",
       "      <td>Africa</td>\n",
       "      <td>59.10</td>\n",
       "      <td>76.98</td>\n",
       "      <td>NaN</td>\n",
       "      <td>34.60</td>\n",
       "      <td>4.2</td>\n",
       "      <td>8.1</td>\n",
       "      <td>2.141</td>\n",
       "      <td>2.158</td>\n",
       "      <td>...</td>\n",
       "      <td>0.460</td>\n",
       "      <td>5.372</td>\n",
       "      <td>32.400</td>\n",
       "      <td>14.0</td>\n",
       "      <td>33.0</td>\n",
       "      <td>0.000</td>\n",
       "      <td>37.00</td>\n",
       "      <td>6.547</td>\n",
       "      <td>0.000</td>\n",
       "      <td>59.014</td>\n",
       "    </tr>\n",
       "    <tr>\n",
       "      <th>Zimbabwe</th>\n",
       "      <td>ZWE</td>\n",
       "      <td>Africa</td>\n",
       "      <td>NaN</td>\n",
       "      <td>NaN</td>\n",
       "      <td>NaN</td>\n",
       "      <td>23.50</td>\n",
       "      <td>2.9</td>\n",
       "      <td>15.5</td>\n",
       "      <td>2.172</td>\n",
       "      <td>0.579</td>\n",
       "      <td>...</td>\n",
       "      <td>0.265</td>\n",
       "      <td>7.480</td>\n",
       "      <td>17.100</td>\n",
       "      <td>48.7</td>\n",
       "      <td>24.0</td>\n",
       "      <td>0.000</td>\n",
       "      <td>40.95</td>\n",
       "      <td>7.196</td>\n",
       "      <td>0.000</td>\n",
       "      <td>61.653</td>\n",
       "    </tr>\n",
       "  </tbody>\n",
       "</table>\n",
       "<p>193 rows × 73 columns</p>\n",
       "</div>"
      ],
      "text/plain": [
       "              Country Code ISO3 Regions used for the SDG Index & Dashboard  \\\n",
       "Country                                                                      \n",
       "United States               USA                                       OECD   \n",
       "France                      FRA                                       OECD   \n",
       "Germany                     DEU                                       OECD   \n",
       "Belgium                     BEL                                       OECD   \n",
       "Denmark                     DNK                                       OECD   \n",
       "...                         ...                                        ...   \n",
       "Venezuela, RB               VEN                                        LAC   \n",
       "Vietnam                     VNM                          East & South Asia   \n",
       "Yemen, Rep.                 YEM                                       MENA   \n",
       "Zambia                      ZMB                                     Africa   \n",
       "Zimbabwe                    ZWE                                     Africa   \n",
       "\n",
       "               Poverty headcount ratio at $1.90/day (%)  \\\n",
       "Country                                                   \n",
       "United States                                      0.38   \n",
       "France                                             0.13   \n",
       "Germany                                            0.24   \n",
       "Belgium                                            0.25   \n",
       "Denmark                                            0.17   \n",
       "...                                                 ...   \n",
       "Venezuela, RB                                     53.37   \n",
       "Vietnam                                            0.85   \n",
       "Yemen, Rep.                                         NaN   \n",
       "Zambia                                            59.10   \n",
       "Zimbabwe                                            NaN   \n",
       "\n",
       "               Poverty headcount ratio at $3.20/day (%)  \\\n",
       "Country                                                   \n",
       "United States                                      0.52   \n",
       "France                                             0.17   \n",
       "Germany                                            0.31   \n",
       "Belgium                                            0.31   \n",
       "Denmark                                            0.21   \n",
       "...                                                 ...   \n",
       "Venezuela, RB                                     77.21   \n",
       "Vietnam                                            4.40   \n",
       "Yemen, Rep.                                         NaN   \n",
       "Zambia                                            76.98   \n",
       "Zimbabwe                                            NaN   \n",
       "\n",
       "               Prevalence of undernourishment (%)  \\\n",
       "Country                                             \n",
       "United States                                 2.5   \n",
       "France                                        2.5   \n",
       "Germany                                       2.5   \n",
       "Belgium                                       2.5   \n",
       "Denmark                                       2.5   \n",
       "...                                           ...   \n",
       "Venezuela, RB                                31.4   \n",
       "Vietnam                                       6.4   \n",
       "Yemen, Rep.                                   NaN   \n",
       "Zambia                                        NaN   \n",
       "Zimbabwe                                      NaN   \n",
       "\n",
       "               Prevalence of stunting in children under 5 years of age (%)  \\\n",
       "Country                                                                      \n",
       "United States                                               3.50             \n",
       "France                                                      2.58             \n",
       "Germany                                                     1.70             \n",
       "Belgium                                                     2.58             \n",
       "Denmark                                                     2.58             \n",
       "...                                                          ...             \n",
       "Venezuela, RB                                              13.40             \n",
       "Vietnam                                                    23.80             \n",
       "Yemen, Rep.                                                46.40             \n",
       "Zambia                                                     34.60             \n",
       "Zimbabwe                                                   23.50             \n",
       "\n",
       "               Prevalence of wasting in children under 5 years of age (%)  \\\n",
       "Country                                                                     \n",
       "United States                                                0.4            \n",
       "France                                                       0.7            \n",
       "Germany                                                      0.3            \n",
       "Belgium                                                      0.7            \n",
       "Denmark                                                      0.7            \n",
       "...                                                          ...            \n",
       "Venezuela, RB                                                4.1            \n",
       "Vietnam                                                      5.8            \n",
       "Yemen, Rep.                                                 16.4            \n",
       "Zambia                                                       4.2            \n",
       "Zimbabwe                                                     2.9            \n",
       "\n",
       "               Prevalence of obesity, BMI ≥ 30 (% of adult population)  \\\n",
       "Country                                                                  \n",
       "United States                                               36.2         \n",
       "France                                                      21.6         \n",
       "Germany                                                     22.3         \n",
       "Belgium                                                     22.1         \n",
       "Denmark                                                     19.7         \n",
       "...                                                          ...         \n",
       "Venezuela, RB                                               25.6         \n",
       "Vietnam                                                      2.1         \n",
       "Yemen, Rep.                                                 17.1         \n",
       "Zambia                                                       8.1         \n",
       "Zimbabwe                                                    15.5         \n",
       "\n",
       "               Human Trophic Level (best 2-3 worst)  \\\n",
       "Country                                               \n",
       "United States                                 2.454   \n",
       "France                                        2.477   \n",
       "Germany                                       2.437   \n",
       "Belgium                                       2.380   \n",
       "Denmark                                       2.494   \n",
       "...                                             ...   \n",
       "Venezuela, RB                                 2.313   \n",
       "Vietnam                                       2.218   \n",
       "Yemen, Rep.                                   2.127   \n",
       "Zambia                                        2.141   \n",
       "Zimbabwe                                      2.172   \n",
       "\n",
       "               Cereal yield (tonnes per hectare of harvested land)  ...  \\\n",
       "Country                                                             ...   \n",
       "United States                                              8.692    ...   \n",
       "France                                                     6.885    ...   \n",
       "Germany                                                    6.220    ...   \n",
       "Belgium                                                    8.154    ...   \n",
       "Denmark                                                    4.946    ...   \n",
       "...                                                          ...    ...   \n",
       "Venezuela, RB                                              3.395    ...   \n",
       "Vietnam                                                    5.685    ...   \n",
       "Yemen, Rep.                                                0.759    ...   \n",
       "Zambia                                                     2.158    ...   \n",
       "Zimbabwe                                                   0.579    ...   \n",
       "\n",
       "               Terrestrial and freshwater biodiversity threats embodied in imports (per million  \\\n",
       "Country                                                                                           \n",
       "United States                                              3.741                                  \n",
       "France                                                     7.095                                  \n",
       "Germany                                                    5.746                                  \n",
       "Belgium                                                    4.722                                  \n",
       "Denmark                                                    1.685                                  \n",
       "...                                                          ...                                  \n",
       "Venezuela, RB                                              0.777                                  \n",
       "Vietnam                                                    0.138                                  \n",
       "Yemen, Rep.                                                0.039                                  \n",
       "Zambia                                                     0.460                                  \n",
       "Zimbabwe                                                   0.265                                  \n",
       "\n",
       "               Homicides (per 100,000 population)  \\\n",
       "Country                                             \n",
       "United States                               4.957   \n",
       "France                                      1.199   \n",
       "Germany                                     0.948   \n",
       "Belgium                                     1.690   \n",
       "Denmark                                     1.008   \n",
       "...                                           ...   \n",
       "Venezuela, RB                              36.688   \n",
       "Vietnam                                     1.528   \n",
       "Yemen, Rep.                                 6.772   \n",
       "Zambia                                      5.372   \n",
       "Zimbabwe                                    7.480   \n",
       "\n",
       "               Unsentenced detainees (% of prison population)  \\\n",
       "Country                                                         \n",
       "United States                                          23.400   \n",
       "France                                                 28.600   \n",
       "Germany                                                23.567   \n",
       "Belgium                                                35.600   \n",
       "Denmark                                                32.800   \n",
       "...                                                       ...   \n",
       "Venezuela, RB                                          63.000   \n",
       "Vietnam                                                12.500   \n",
       "Yemen, Rep.                                            70.900   \n",
       "Zambia                                                 32.400   \n",
       "Zimbabwe                                               17.100   \n",
       "\n",
       "               Birth registrations with civil authority (% of children under age 5)  \\\n",
       "Country                                                                               \n",
       "United States                                              100.0                      \n",
       "France                                                     100.0                      \n",
       "Germany                                                    100.0                      \n",
       "Belgium                                                    100.0                      \n",
       "Denmark                                                    100.0                      \n",
       "...                                                          ...                      \n",
       "Venezuela, RB                                               81.3                      \n",
       "Vietnam                                                     96.1                      \n",
       "Yemen, Rep.                                                 30.7                      \n",
       "Zambia                                                      14.0                      \n",
       "Zimbabwe                                                    48.7                      \n",
       "\n",
       "               Corruption Perception Index (worst 0-100 best)  \\\n",
       "Country                                                         \n",
       "United States                                            67.0   \n",
       "France                                                   69.0   \n",
       "Germany                                                  80.0   \n",
       "Belgium                                                  76.0   \n",
       "Denmark                                                  88.0   \n",
       "...                                                       ...   \n",
       "Venezuela, RB                                            15.0   \n",
       "Vietnam                                                  36.0   \n",
       "Yemen, Rep.                                              15.0   \n",
       "Zambia                                                   33.0   \n",
       "Zimbabwe                                                 24.0   \n",
       "\n",
       "               Exports of major conventional weapons (TIV constant million USD per 100,000 popu  \\\n",
       "Country                                                                                           \n",
       "United States                                              3.223                                  \n",
       "France                                                     3.545                                  \n",
       "Germany                                                    2.040                                  \n",
       "Belgium                                                    0.154                                  \n",
       "Denmark                                                    0.357                                  \n",
       "...                                                          ...                                  \n",
       "Venezuela, RB                                              0.000                                  \n",
       "Vietnam                                                    0.000                                  \n",
       "Yemen, Rep.                                                0.000                                  \n",
       "Zambia                                                     0.000                                  \n",
       "Zimbabwe                                                   0.000                                  \n",
       "\n",
       "               Press Freedom Index (best 0-100 worst)  \\\n",
       "Country                                                 \n",
       "United States                                   23.85   \n",
       "France                                          22.92   \n",
       "Germany                                         12.16   \n",
       "Belgium                                         12.57   \n",
       "Denmark                                          8.13   \n",
       "...                                               ...   \n",
       "Venezuela, RB                                   45.66   \n",
       "Vietnam                                         74.71   \n",
       "Yemen, Rep.                                     58.25   \n",
       "Zambia                                          37.00   \n",
       "Zimbabwe                                        40.95   \n",
       "\n",
       "               Government spending on health and education (% of GDP)  \\\n",
       "Country                                                                 \n",
       "United States                                             13.474        \n",
       "France                                                    13.712        \n",
       "Germany                                                   13.784        \n",
       "Belgium                                                   14.232        \n",
       "Denmark                                                   16.263        \n",
       "...                                                          ...        \n",
       "Venezuela, RB                                              8.579        \n",
       "Vietnam                                                    6.864        \n",
       "Yemen, Rep.                                                5.649        \n",
       "Zambia                                                     6.547        \n",
       "Zimbabwe                                                   7.196        \n",
       "\n",
       "               Corporate Tax Haven Score (best 0-100 worst)  \\\n",
       "Country                                                       \n",
       "United States                                        43.212   \n",
       "France                                               55.702   \n",
       "Germany                                              52.338   \n",
       "Belgium                                              67.841   \n",
       "Denmark                                              51.704   \n",
       "...                                                     ...   \n",
       "Venezuela, RB                                         0.000   \n",
       "Vietnam                                               0.000   \n",
       "Yemen, Rep.                                           0.000   \n",
       "Zambia                                                0.000   \n",
       "Zimbabwe                                              0.000   \n",
       "\n",
       "               Statistical Performance Index (worst 0-100 best)  \n",
       "Country                                                          \n",
       "United States                                            88.924  \n",
       "France                                                   86.348  \n",
       "Germany                                                  87.498  \n",
       "Belgium                                                  82.415  \n",
       "Denmark                                                  86.117  \n",
       "...                                                         ...  \n",
       "Venezuela, RB                                            43.865  \n",
       "Vietnam                                                  65.959  \n",
       "Yemen, Rep.                                              36.771  \n",
       "Zambia                                                   59.014  \n",
       "Zimbabwe                                                 61.653  \n",
       "\n",
       "[193 rows x 73 columns]"
      ]
     },
     "execution_count": 13,
     "metadata": {},
     "output_type": "execute_result"
    }
   ],
   "source": [
    "X"
   ]
  },
  {
   "cell_type": "code",
   "execution_count": 39,
   "metadata": {},
   "outputs": [
    {
     "name": "stdout",
     "output_type": "stream",
     "text": [
      "            0         1         2             Region\n",
      "0    3.300316  8.625605  2.633865               OECD\n",
      "1    2.408593  8.603148  4.299628               OECD\n",
      "2    1.379231  8.592360  5.898467               OECD\n",
      "3    2.476616  7.160252  6.474914               OECD\n",
      "4    2.130149  8.654132  6.434421               OECD\n",
      "..        ...       ...       ...                ...\n",
      "188  4.517978 -0.011963 -4.239237                LAC\n",
      "189 -4.365752  3.394536 -2.880562  East & South Asia\n",
      "190 -4.165032 -9.080857 -2.822514               MENA\n",
      "191  0.121050 -4.069059 -6.749323             Africa\n",
      "192  0.901292 -1.954213 -8.500001             Africa\n",
      "\n",
      "[193 rows x 4 columns]\n"
     ]
    },
    {
     "data": {
      "application/vnd.plotly.v1+json": {
       "config": {
        "plotlyServerURL": "https://plot.ly"
       },
       "data": [
        {
         "hovertemplate": "Región=OECD<br>Eje 1=%{x}<br>Eje 2=%{y}<br>Eje 3=%{z}<br>color=%{marker.color}<extra></extra>",
         "legendgroup": "OECD",
         "marker": {
          "color": [
           76.00966232492998,
           81.67294439775912,
           82.48179502262445,
           82.19017352941177,
           84.86052209653091,
           81.55816078431373,
           80.96381447963802,
           82.08008748601179,
           85.6136024509804,
           79.97291029411765,
           74.2092968625829,
           78.77619461270862,
           80.09503836405531,
           78.75520735294116,
           81.3879148615774,
           81.60096700603319,
           81.97912281297135,
           75.40707696078432,
           85.90116266968323,
           79.57163239551403,
           75.57571302521009,
           79.46162443438914,
           76.70076806722689,
           79.15212023809524,
           80.22412929864255,
           81.57585203619908,
           78.64287858220212,
           79.15540380844647,
           77.13278487394957,
           70.55730329131654,
           78.1705042286145,
           75.03782581699346,
           79.84862288838613,
           78.59345294117648,
           69.1307835595777,
           79.13081564737006,
           70.38015163398693
          ],
          "coloraxis": "coloraxis",
          "opacity": 0.5,
          "symbol": "circle"
         },
         "mode": "markers",
         "name": "OECD",
         "scene": "scene",
         "showlegend": true,
         "type": "scatter3d",
         "x": [
          3.3003163531272066,
          2.408593416094102,
          1.3792314067401374,
          2.4766160606966965,
          2.1301489311980673,
          2.4999978652658243,
          0.6513934174289852,
          1.2980945310596033,
          3.6592421088192597,
          2.224467506912744,
          5.647534700162504,
          -1.3969469255304852,
          3.94610191518264,
          0.9219028862075612,
          -1.3002078219446622,
          0.5690128237992763,
          5.3947677261062275,
          2.032248952528031,
          3.209681465536073,
          0.5750812147153495,
          5.2892524325775545,
          3.1976263642856666,
          2.9926246191412718,
          1.7670773093357806,
          -1.7333666316993406,
          1.6442431480767445,
          4.4583796748194695,
          4.617995250984563,
          2.253312216067808,
          2.431937171512661,
          5.813162814912482,
          3.934278419824172,
          4.680199733525352,
          -0.7202260999947476,
          1.0923646229610806,
          5.430941084695315,
          -2.7786326846430165
         ],
         "y": [
          8.62560499483233,
          8.603147809943048,
          8.59236044194042,
          7.160251681754667,
          8.654131910381162,
          8.173949407019434,
          9.102821068437924,
          8.15738056683888,
          9.211309057095411,
          8.336410180112257,
          6.349300416213779,
          5.685204594708793,
          7.460278873968079,
          7.029193974127496,
          7.2637769123265485,
          6.297549340237837,
          8.624238780478759,
          4.922618376618762,
          9.32505388221,
          5.961488482751967,
          7.77802763548281,
          7.068783930383685,
          3.811070907013706,
          3.4989076454107058,
          6.087848748151952,
          7.885165172789637,
          5.801885997112761,
          8.324033411843734,
          4.685595746356404,
          2.735152870066484,
          4.250000635066997,
          5.7373893137256005,
          3.925312335650921,
          8.760024800353204,
          4.402809770761177,
          7.939116891115443,
          1.5509031874058332
         ],
         "z": [
          2.633864970514908,
          4.29962823305895,
          5.898467099140236,
          6.474914434766095,
          6.434421198447465,
          6.98808376617513,
          4.614311382479276,
          5.470015189920148,
          5.073945214327379,
          4.855232792911505,
          7.219894603589677,
          3.722090242371811,
          7.529994660697418,
          5.278451886022667,
          5.454673837192093,
          6.45474821058559,
          5.619388009372442,
          5.661624515919616,
          5.004798255158262,
          4.064146378959643,
          4.284196850049908,
          5.420411548274915,
          6.046552473729321,
          5.563021119237831,
          4.534889604339014,
          3.242786654160342,
          5.208179878606934,
          3.4978357539583333,
          1.7462280133824155,
          -1.4667510365487897,
          7.899602008729454,
          4.515960106928076,
          7.6127420919274265,
          2.911508309011278,
          -1.8060527051131845,
          3.0648338647473055,
          4.496347704222356
         ]
        },
        {
         "hovertemplate": "Región=E. Europe & C. Asia<br>Eje 1=%{x}<br>Eje 2=%{y}<br>Eje 3=%{z}<br>color=%{marker.color}<extra></extra>",
         "legendgroup": "E. Europe & C. Asia",
         "marker": {
          "color": [
           53.933312083015025,
           71.0218581232493,
           null,
           71.79390036075036,
           72.40622960911638,
           78.82126238222564,
           73.70307713430361,
           73.81489150326797,
           80.37550147058823,
           74.86543061840122,
           72.2334106442577,
           71.63931478652067,
           74.00096329258976,
           null,
           75.74513819758671,
           73.67617701807997,
           null,
           68.20629589169003,
           72.5306598127363,
           74.97446013071897,
           73.75119177978885,
           null,
           75.59157582760376,
           69.75669557550293,
           61.1382703654189,
           75.51048732492997,
           69.83578983320601
          ],
          "coloraxis": "coloraxis",
          "opacity": 0.5,
          "symbol": "diamond"
         },
         "mode": "markers",
         "name": "E. Europe & C. Asia",
         "scene": "scene",
         "showlegend": true,
         "type": "scatter3d",
         "x": [
          -7.1214379045395,
          0.18572209502808645,
          0.5194280778929298,
          -2.4642562165871964,
          -4.644272656801441,
          -6.696107982005806,
          -2.3156177964591174,
          -2.7656751335993413,
          0.05393496815875987,
          5.075670409737794,
          0.22231868681478512,
          -3.5153556158232395,
          -3.5928008037614667,
          0.019282001581448743,
          2.2219498385407017,
          -6.945225233681485,
          1.0945739552681948,
          6.130582965211566,
          -0.5727830471678884,
          -2.3577224661109435,
          -3.10897601002708,
          7.549659761222311,
          -2.10737449902836,
          -5.142127463641994,
          -5.263531369892125,
          -3.946217311490038,
          -5.811756584447709
         ],
         "y": [
          -6.988832978795951,
          -0.07417807694468205,
          3.84124064703156,
          -1.1248043251579671,
          0.41393896575822414,
          5.058857801307497,
          -0.8457894514108318,
          4.797360018309606,
          5.059462550032981,
          4.605759288614335,
          -0.06501914924885085,
          1.9406823101119972,
          -0.4064457846720469,
          4.696292966007192,
          4.097942501523232,
          1.9189508632224477,
          3.3939219273675043,
          2.62666228358574,
          -0.7635659636015181,
          5.104838727232536,
          3.6915714580284944,
          5.646546586474376,
          4.940316666832279,
          -2.2934487859901984,
          -3.836382574393307,
          2.4641041667575405,
          0.03531346133614751
         ],
         "z": [
          -4.076158446125054,
          1.988713848352616,
          7.68871034498108,
          3.05933306137717,
          1.528790483934923,
          1.6957629686993563,
          4.3431398826327845,
          2.987260130189074,
          4.4300108560227205,
          4.826646699223772,
          2.8892254432136584,
          4.093887127545697,
          1.8889968222636477,
          7.452456238007507,
          7.338295685444048,
          0.8598677362609944,
          8.220031108059926,
          2.021474923971911,
          4.099895527361058,
          1.1890703043042343,
          4.211030489641869,
          6.3892373071384565,
          2.4286123017844155,
          1.003425355337846,
          4.022596417082665,
          2.0063119856326925,
          2.347512667197707
         ]
        },
        {
         "hovertemplate": "Región=MENA<br>Eje 1=%{x}<br>Eje 2=%{y}<br>Eje 3=%{z}<br>color=%{marker.color}<extra></extra>",
         "legendgroup": "MENA",
         "marker": {
          "color": [
           70.85822899159663,
           66.05680866584396,
           68.64710728291317,
           70.01486549953313,
           63.81501165697048,
           70.13678623680242,
           62.544883170261116,
           66.83783531746032,
           null,
           70.52714960317462,
           70.13462649605297,
           66.73209683649684,
           66.30345485201073,
           58.00939817927171,
           71.44352647058822,
           70.16993164906988,
           52.863290756302526
          ],
          "coloraxis": "coloraxis",
          "opacity": 0.5,
          "symbol": "square"
         },
         "mode": "markers",
         "name": "MENA",
         "scene": "scene",
         "showlegend": true,
         "type": "scatter3d",
         "x": [
          -5.3416801089749715,
          -0.9443459631560515,
          -6.458658802952525,
          -4.339645211070655,
          -3.8839142578194616,
          -3.2145011098636354,
          -1.357690352817979,
          -1.2847807106646365,
          -4.901549851422121,
          -3.382253295394335,
          -2.635688545715707,
          -2.8980867583596743,
          -3.564458397975321,
          -5.423165314716305,
          -2.443606672132745,
          -2.0739267488860444,
          -4.165032237299632
         ],
         "y": [
          2.3875682101098197,
          -0.28261532280654555,
          -0.285044135803093,
          -0.09079575011047217,
          -4.002718457135016,
          -1.6015482989886707,
          0.9921170283616179,
          -2.308108681122518,
          -5.736069879520326,
          0.3721291311068278,
          0.19482502604718677,
          3.446870308672851,
          1.0740822420533978,
          -5.8466762632848726,
          2.6586638710298387,
          4.575902878695167,
          -9.080856863392789
         ],
         "z": [
          -0.023510861278831407,
          8.025151179968896,
          1.5310204789483874,
          3.7830207194871543,
          0.8235397344921741,
          4.832653779825491,
          9.110050783729596,
          5.542376049108165,
          4.720560813141443,
          -0.5505765071671239,
          7.328543899648648,
          8.03363356182804,
          7.475995542001175,
          1.6632292499693493,
          -0.15349111876190782,
          10.126031503831435,
          -2.8225135807040016
         ]
        },
        {
         "hovertemplate": "Región=Africa<br>Eje 1=%{x}<br>Eje 2=%{y}<br>Eje 3=%{z}<br>color=%{marker.color}<extra></extra>",
         "legendgroup": "Africa",
         "marker": {
          "color": [
           50.296134103641464,
           49.869325700280115,
           61.9233799719888,
           53.50675728291316,
           51.79990590569561,
           68.14469656324069,
           55.26133389355743,
           38.27117724089636,
           40.90431729691878,
           null,
           49.29806164856187,
           52.94574992997199,
           57.562476540616245,
           53.764454808590095,
           null,
           null,
           53.328323762838465,
           54.52100686274509,
           62.815150023912004,
           59.26394411764706,
           62.49432184873951,
           50.961491596638666,
           null,
           60.59772042483661,
           54.58608151260504,
           48.64671694677871,
           49.0056525210084,
           51.373565476190464,
           52.16147929864254,
           55.5052093298858,
           66.71142359943978,
           51.054619981325864,
           61.77102089169002,
           49.52910945378151,
           48.92563760504202,
           57.57699089635854,
           58.791369887955184,
           58.43460056022409,
           null,
           51.69196372549019,
           45.61094367470565,
           63.74167619047619,
           38.900295868347335,
           49.484346638655474,
           56.43216239495797,
           53.22793181605976,
           53.457846568627446,
           53.391375,
           58.6636020829262
          ],
          "coloraxis": "coloraxis",
          "opacity": 0.5,
          "symbol": "x"
         },
         "mode": "markers",
         "name": "Africa",
         "scene": "scene",
         "showlegend": true,
         "type": "scatter3d",
         "x": [
          0.6425612241034938,
          -2.713406021422221,
          7.816010486573491,
          -4.880838357938006,
          -4.422242647473105,
          1.7725516064754847,
          -3.6191567359835357,
          -0.28008886938536065,
          -3.916587937228377,
          -2.2944728647438546,
          -2.1557704077510675,
          0.896437762844216,
          -2.997711694560747,
          -1.8713638891627429,
          -0.4969876887135374,
          -4.470593712593468,
          6.363141468808199,
          -6.193989882778064,
          1.2950450589219253,
          -1.5854416898569075,
          -2.795046899540017,
          -1.7981708524785007,
          -2.859956817909609,
          -0.286786953932759,
          5.360216500540127,
          -0.17291157745413357,
          -0.4781658125612909,
          1.4368198801601786,
          -3.955212769014753,
          -3.4342061743411,
          4.918217426713359,
          -1.3116815713251284,
          6.981204142838083,
          -6.097538491559859,
          -1.351044416303183,
          -1.6719283609521374,
          1.7770852291077304,
          -3.661768516794607,
          4.232484905753338,
          -3.3217369546219953,
          -4.767785761610389,
          4.5416220166503525,
          -3.2732604229505036,
          -6.19773015152358,
          -2.341930206063107,
          -1.2494438375548458,
          -2.7321053971680533,
          0.12104959153447911,
          0.9012915620886925
         ],
         "y": [
          -6.969303370306254,
          -5.060413952759168,
          -2.507068666215651,
          -5.338671654662152,
          -2.3079011820706707,
          -3.3017958109936325,
          -4.646230835485982,
          -10.48926659055311,
          -7.726963624980643,
          -6.316205594977522,
          -6.7615490332492,
          -6.969940505247568,
          -3.5995626475600453,
          -7.946494901022109,
          -8.489651449729736,
          -8.163226286768282,
          -6.2086058610811365,
          -3.5323628868359362,
          -6.345880734555661,
          -7.606898356046199,
          -0.15146357959850712,
          -5.947555949104896,
          -6.211989657046897,
          -0.36794409575666703,
          -6.829750062016552,
          -5.686252522458183,
          -2.717039080212129,
          -0.5073397359860542,
          -6.821360961268096,
          -7.402904449949953,
          -1.174659702167568,
          -2.822422710646452,
          -2.719057193471532,
          -6.344089606401465,
          -7.403364853368022,
          1.4459104047999105,
          -5.110095158967944,
          -4.34001386712001,
          -1.8086687926983094,
          -3.7971103955766545,
          -10.024147198500335,
          3.4550883255503573,
          -10.423188799226008,
          -8.09864584902409,
          -1.0429866763817428,
          -4.245116309033184,
          -2.094342018370408,
          -4.0690593449611745,
          -1.954212567353759
         ],
         "z": [
          -7.180357804340993,
          -7.527272869868843,
          -2.070498135210681,
          -5.7537818072843825,
          -9.827596193267173,
          -0.16926157064449251,
          -7.126195106306871,
          -7.495745216037263,
          -8.84633626577177,
          -5.011962818319628,
          -8.724607173160347,
          -5.634712668694696,
          -7.524117959613125,
          -1.9111078859005683,
          -5.834374870526587,
          -5.498331492408415,
          -1.6541923775440532,
          -7.6680840049746655,
          -1.5255679204398451,
          -4.361341787760355,
          -7.2078123513492,
          -9.486731035460421,
          -8.713293115965289,
          -7.2153788533795025,
          -5.41087826726468,
          -10.27748175808429,
          -9.922790252161974,
          -10.057785621831682,
          -5.322758889738236,
          -2.702236734957846,
          5.6229529329628205,
          -10.145849237631882,
          -4.4221361075826975,
          -6.9620004807533,
          -7.726360764553673,
          -9.317138351026783,
          -2.778785629105856,
          -4.531381875177019,
          5.365155298118026,
          -9.71894671053055,
          -4.8379200628192125,
          -4.547379047294095,
          -6.924050877271386,
          -2.8790755656518,
          -9.270484460492465,
          -8.295940524619906,
          -8.753369296783092,
          -6.749323007848196,
          -8.500000764185291
         ]
        },
        {
         "hovertemplate": "Región=LAC<br>Eje 1=%{x}<br>Eje 2=%{y}<br>Eje 3=%{z}<br>color=%{marker.color}<extra></extra>",
         "legendgroup": "LAC",
         "marker": {
          "color": [
           null,
           72.79844166666669,
           null,
           68.44894869133174,
           64.42867238773339,
           67.59949635854342,
           71.33911400560223,
           73.55011449579831,
           73.65433835363022,
           null,
           70.76020203081234,
           72.53935259103642,
           67.92642037815125,
           null,
           59.914688515406155,
           57.89281523589828,
           51.351423389355745,
           62.77279593837535,
           68.97146890756302,
           66.28894453781514,
           67.98229588989442,
           66.94207675070027,
           71.08886281512606,
           null,
           null,
           null,
           66.97931887735487,
           63.497145814796504,
           74.54638352187028,
           59.324285527544355
          ],
          "coloraxis": "coloraxis",
          "opacity": 0.5,
          "symbol": "cross"
         },
         "mode": "markers",
         "name": "LAC",
         "scene": "scene",
         "showlegend": true,
         "type": "scatter3d",
         "x": [
          6.451391267709,
          1.5962024117581073,
          7.342032924153632,
          6.231529124868645,
          3.882367980025965,
          -0.4816787201154801,
          2.365974503006605,
          4.845842009537831,
          0.6758758897328673,
          3.4802134826776854,
          3.301541736661949,
          1.3739218667257804,
          2.862833176793255,
          3.5000220059057083,
          2.029411512575165,
          7.27629116604447,
          0.6311507691513255,
          2.710041596895432,
          5.069668190925826,
          2.111548968930988,
          4.9154301651328085,
          1.858145813194172,
          0.04980046318263709,
          5.3801843264978695,
          5.863568644399919,
          5.091304552784227,
          5.642647163601088,
          3.610016878119345,
          4.9539488584840345,
          4.517978205426074
         ],
         "y": [
          -1.182743095330706,
          3.946080948483358,
          0.4602209402070406,
          -0.9524699362099244,
          -2.2840180633015934,
          1.228332972224054,
          4.481526541014949,
          4.188989140657717,
          5.937029694598629,
          -0.21651837108928404,
          1.465040291184452,
          1.5464491872591437,
          -0.5100836117933913,
          -0.05544828911016719,
          -1.4668229462453983,
          -4.462507656976719,
          -6.646203896615708,
          -1.2357518597170465,
          0.13439239731407548,
          1.0987316524013162,
          1.7047689700367772,
          2.7014142736389903,
          2.210919259896917,
          -0.28334470473386736,
          -1.3909274192353351,
          -1.8048947802371087,
          0.890316136680809,
          -1.5515160685026794,
          3.285294275666622,
          -0.011963463289338797
         ],
         "z": [
          4.814376525399206,
          -0.05588084088246083,
          2.618161851157796,
          3.5268350423839214,
          -0.9172944634756314,
          -4.240539579899539,
          -2.4631196465309815,
          0.19449389617844212,
          -3.4810465940488258,
          -1.5955304731991895,
          -3.194265241818225,
          -1.5536462871476324,
          -1.0365606364865458,
          1.9255090605264007,
          -4.382290472340241,
          3.042030445319492,
          -7.784905115616131,
          -3.4721768891112474,
          -0.5072255949037152,
          -5.29361013781091,
          -0.21004527471802145,
          -3.3766792116334043,
          -1.8634450300074525,
          4.1467571351756405,
          1.3706642185785982,
          2.1462077561357438,
          -3.7666916882543204,
          2.913802824549613,
          1.4100656814499233,
          -4.239237480996775
         ]
        },
        {
         "hovertemplate": "Región=East & South Asia<br>Eje 1=%{x}<br>Eje 2=%{y}<br>Eje 3=%{z}<br>color=%{marker.color}<extra></extra>",
         "legendgroup": "East & South Asia",
         "marker": {
          "color": [
           63.45427276449042,
           69.98158261222436,
           68.27481628219915,
           64.5401156162465,
           72.06163656539537,
           60.0749992081448,
           66.34290448717948,
           null,
           63.012275275443514,
           70.8849824929972,
           69.27173846153845,
           63.78615230625584,
           64.94721566293184,
           66.51849394957983,
           57.723261904761905,
           64.50699663865547,
           69.888700782666,
           68.10004586834735,
           74.18917941176473,
           null,
           72.84849824929974
          ],
          "coloraxis": "coloraxis",
          "opacity": 0.5,
          "symbol": "circle"
         },
         "mode": "markers",
         "name": "East & South Asia",
         "scene": "scene",
         "showlegend": true,
         "type": "scatter3d",
         "x": [
          -7.247349359224678,
          -1.1760816467279736,
          2.1742680659669493,
          -4.717014129538693,
          -5.0846482857796005,
          -6.58695362703555,
          -4.128367257198569,
          -8.7084394060392,
          -4.712754000830409,
          -0.22593548568578745,
          1.312600179901496,
          -1.8161349915166436,
          -6.569928391874003,
          -6.165589409406593,
          -6.467331958630631,
          -3.0808302700767705,
          2.9987396569121474,
          -3.185268240547288,
          -1.5178785627440485,
          -4.793364703969208,
          -4.365752056566267
         ],
         "y": [
          -0.7274953464781716,
          -3.382247900006323,
          -0.1426801823280252,
          -0.21548208455099394,
          5.457046491944726,
          -2.247871372126583,
          1.879534184013126,
          -0.337825693797396,
          0.47788228474704836,
          5.8525505541101115,
          -3.2401707181805155,
          -5.168871761247998,
          -0.09750675194488728,
          -1.1447304396376867,
          -4.8338760428650485,
          1.5593025948598545,
          3.14201513887324,
          4.43034096649106,
          4.708974122815795,
          -2.6957792028282244,
          3.394536370962854
         ],
         "z": [
          -4.907007869251405,
          1.0727802176800996,
          8.204862009348567,
          -5.950170317045187,
          0.4323184191183523,
          -1.9753142218270079,
          -3.671190934858457,
          -2.0894303890093306,
          -7.074470418143955,
          -0.02221488491289469,
          6.857365318544203,
          4.5867844194070075,
          -5.5943656881100825,
          -4.450035533840045,
          -3.1632222213467163,
          -5.243171595080914,
          11.017496859404194,
          -3.7058185574673375,
          -1.0937587541456792,
          -5.045532007667352,
          -2.8805616508038314
         ]
        },
        {
         "hovertemplate": "Región=Oceania<br>Eje 1=%{x}<br>Eje 2=%{y}<br>Eje 3=%{z}<br>color=%{marker.color}<extra></extra>",
         "legendgroup": "Oceania",
         "marker": {
          "color": [
           71.24431349924585,
           null,
           null,
           null,
           null,
           null,
           51.33118431372549,
           null,
           null,
           null,
           null,
           60.5235581232493
          ],
          "coloraxis": "coloraxis",
          "opacity": 0.5,
          "symbol": "diamond"
         },
         "mode": "markers",
         "name": "Oceania",
         "scene": "scene",
         "showlegend": true,
         "type": "scatter3d",
         "x": [
          2.1914433141376333,
          1.8857957525752007,
          3.730318192589679,
          0.4433157120021572,
          3.2778647124922884,
          2.308410902960332,
          2.683126152909265,
          1.2536820986100867,
          2.699860283516911,
          0.9958619502614151,
          3.382352094273631,
          4.28675295597516
         ],
         "y": [
          -3.672361108109923,
          -7.398436299706543,
          -6.511875801648256,
          -8.80269183858354,
          -4.581242687206284,
          -2.6356873784124804,
          -5.852988896323899,
          -4.975602032025024,
          -3.996804735115064,
          -3.211933224945482,
          -6.5157844647026,
          -6.415873807425841
         ],
         "z": [
          2.636621010137399,
          2.3694722252507647,
          0.5423673725230199,
          1.111394270779544,
          3.8165502713461756,
          5.495772831484081,
          -8.582968733390624,
          3.4685775387305093,
          -7.284990260594389,
          3.6248424136296853,
          2.5476092988519436,
          -2.5955164950577543
         ]
        }
       ],
       "layout": {
        "coloraxis": {
         "colorbar": {
          "title": {
           "text": "color"
          }
         },
         "colorscale": [
          [
           0,
           "#0d0887"
          ],
          [
           0.1111111111111111,
           "#46039f"
          ],
          [
           0.2222222222222222,
           "#7201a8"
          ],
          [
           0.3333333333333333,
           "#9c179e"
          ],
          [
           0.4444444444444444,
           "#bd3786"
          ],
          [
           0.5555555555555556,
           "#d8576b"
          ],
          [
           0.6666666666666666,
           "#ed7953"
          ],
          [
           0.7777777777777778,
           "#fb9f3a"
          ],
          [
           0.8888888888888888,
           "#fdca26"
          ],
          [
           1,
           "#f0f921"
          ]
         ]
        },
        "height": 720,
        "legend": {
         "title": {
          "text": "Región"
         },
         "tracegroupgap": 0
        },
        "margin": {
         "t": 60
        },
        "scene": {
         "domain": {
          "x": [
           0,
           1
          ],
          "y": [
           0,
           1
          ]
         },
         "xaxis": {
          "title": {
           "text": "Eje 1"
          }
         },
         "yaxis": {
          "title": {
           "text": "Eje 2"
          }
         },
         "zaxis": {
          "title": {
           "text": "Eje 3"
          }
         }
        },
        "template": {
         "data": {
          "bar": [
           {
            "error_x": {
             "color": "#2a3f5f"
            },
            "error_y": {
             "color": "#2a3f5f"
            },
            "marker": {
             "line": {
              "color": "#E5ECF6",
              "width": 0.5
             },
             "pattern": {
              "fillmode": "overlay",
              "size": 10,
              "solidity": 0.2
             }
            },
            "type": "bar"
           }
          ],
          "barpolar": [
           {
            "marker": {
             "line": {
              "color": "#E5ECF6",
              "width": 0.5
             },
             "pattern": {
              "fillmode": "overlay",
              "size": 10,
              "solidity": 0.2
             }
            },
            "type": "barpolar"
           }
          ],
          "carpet": [
           {
            "aaxis": {
             "endlinecolor": "#2a3f5f",
             "gridcolor": "white",
             "linecolor": "white",
             "minorgridcolor": "white",
             "startlinecolor": "#2a3f5f"
            },
            "baxis": {
             "endlinecolor": "#2a3f5f",
             "gridcolor": "white",
             "linecolor": "white",
             "minorgridcolor": "white",
             "startlinecolor": "#2a3f5f"
            },
            "type": "carpet"
           }
          ],
          "choropleth": [
           {
            "colorbar": {
             "outlinewidth": 0,
             "ticks": ""
            },
            "type": "choropleth"
           }
          ],
          "contour": [
           {
            "colorbar": {
             "outlinewidth": 0,
             "ticks": ""
            },
            "colorscale": [
             [
              0,
              "#0d0887"
             ],
             [
              0.1111111111111111,
              "#46039f"
             ],
             [
              0.2222222222222222,
              "#7201a8"
             ],
             [
              0.3333333333333333,
              "#9c179e"
             ],
             [
              0.4444444444444444,
              "#bd3786"
             ],
             [
              0.5555555555555556,
              "#d8576b"
             ],
             [
              0.6666666666666666,
              "#ed7953"
             ],
             [
              0.7777777777777778,
              "#fb9f3a"
             ],
             [
              0.8888888888888888,
              "#fdca26"
             ],
             [
              1,
              "#f0f921"
             ]
            ],
            "type": "contour"
           }
          ],
          "contourcarpet": [
           {
            "colorbar": {
             "outlinewidth": 0,
             "ticks": ""
            },
            "type": "contourcarpet"
           }
          ],
          "heatmap": [
           {
            "colorbar": {
             "outlinewidth": 0,
             "ticks": ""
            },
            "colorscale": [
             [
              0,
              "#0d0887"
             ],
             [
              0.1111111111111111,
              "#46039f"
             ],
             [
              0.2222222222222222,
              "#7201a8"
             ],
             [
              0.3333333333333333,
              "#9c179e"
             ],
             [
              0.4444444444444444,
              "#bd3786"
             ],
             [
              0.5555555555555556,
              "#d8576b"
             ],
             [
              0.6666666666666666,
              "#ed7953"
             ],
             [
              0.7777777777777778,
              "#fb9f3a"
             ],
             [
              0.8888888888888888,
              "#fdca26"
             ],
             [
              1,
              "#f0f921"
             ]
            ],
            "type": "heatmap"
           }
          ],
          "heatmapgl": [
           {
            "colorbar": {
             "outlinewidth": 0,
             "ticks": ""
            },
            "colorscale": [
             [
              0,
              "#0d0887"
             ],
             [
              0.1111111111111111,
              "#46039f"
             ],
             [
              0.2222222222222222,
              "#7201a8"
             ],
             [
              0.3333333333333333,
              "#9c179e"
             ],
             [
              0.4444444444444444,
              "#bd3786"
             ],
             [
              0.5555555555555556,
              "#d8576b"
             ],
             [
              0.6666666666666666,
              "#ed7953"
             ],
             [
              0.7777777777777778,
              "#fb9f3a"
             ],
             [
              0.8888888888888888,
              "#fdca26"
             ],
             [
              1,
              "#f0f921"
             ]
            ],
            "type": "heatmapgl"
           }
          ],
          "histogram": [
           {
            "marker": {
             "pattern": {
              "fillmode": "overlay",
              "size": 10,
              "solidity": 0.2
             }
            },
            "type": "histogram"
           }
          ],
          "histogram2d": [
           {
            "colorbar": {
             "outlinewidth": 0,
             "ticks": ""
            },
            "colorscale": [
             [
              0,
              "#0d0887"
             ],
             [
              0.1111111111111111,
              "#46039f"
             ],
             [
              0.2222222222222222,
              "#7201a8"
             ],
             [
              0.3333333333333333,
              "#9c179e"
             ],
             [
              0.4444444444444444,
              "#bd3786"
             ],
             [
              0.5555555555555556,
              "#d8576b"
             ],
             [
              0.6666666666666666,
              "#ed7953"
             ],
             [
              0.7777777777777778,
              "#fb9f3a"
             ],
             [
              0.8888888888888888,
              "#fdca26"
             ],
             [
              1,
              "#f0f921"
             ]
            ],
            "type": "histogram2d"
           }
          ],
          "histogram2dcontour": [
           {
            "colorbar": {
             "outlinewidth": 0,
             "ticks": ""
            },
            "colorscale": [
             [
              0,
              "#0d0887"
             ],
             [
              0.1111111111111111,
              "#46039f"
             ],
             [
              0.2222222222222222,
              "#7201a8"
             ],
             [
              0.3333333333333333,
              "#9c179e"
             ],
             [
              0.4444444444444444,
              "#bd3786"
             ],
             [
              0.5555555555555556,
              "#d8576b"
             ],
             [
              0.6666666666666666,
              "#ed7953"
             ],
             [
              0.7777777777777778,
              "#fb9f3a"
             ],
             [
              0.8888888888888888,
              "#fdca26"
             ],
             [
              1,
              "#f0f921"
             ]
            ],
            "type": "histogram2dcontour"
           }
          ],
          "mesh3d": [
           {
            "colorbar": {
             "outlinewidth": 0,
             "ticks": ""
            },
            "type": "mesh3d"
           }
          ],
          "parcoords": [
           {
            "line": {
             "colorbar": {
              "outlinewidth": 0,
              "ticks": ""
             }
            },
            "type": "parcoords"
           }
          ],
          "pie": [
           {
            "automargin": true,
            "type": "pie"
           }
          ],
          "scatter": [
           {
            "marker": {
             "colorbar": {
              "outlinewidth": 0,
              "ticks": ""
             }
            },
            "type": "scatter"
           }
          ],
          "scatter3d": [
           {
            "line": {
             "colorbar": {
              "outlinewidth": 0,
              "ticks": ""
             }
            },
            "marker": {
             "colorbar": {
              "outlinewidth": 0,
              "ticks": ""
             }
            },
            "type": "scatter3d"
           }
          ],
          "scattercarpet": [
           {
            "marker": {
             "colorbar": {
              "outlinewidth": 0,
              "ticks": ""
             }
            },
            "type": "scattercarpet"
           }
          ],
          "scattergeo": [
           {
            "marker": {
             "colorbar": {
              "outlinewidth": 0,
              "ticks": ""
             }
            },
            "type": "scattergeo"
           }
          ],
          "scattergl": [
           {
            "marker": {
             "colorbar": {
              "outlinewidth": 0,
              "ticks": ""
             }
            },
            "type": "scattergl"
           }
          ],
          "scattermapbox": [
           {
            "marker": {
             "colorbar": {
              "outlinewidth": 0,
              "ticks": ""
             }
            },
            "type": "scattermapbox"
           }
          ],
          "scatterpolar": [
           {
            "marker": {
             "colorbar": {
              "outlinewidth": 0,
              "ticks": ""
             }
            },
            "type": "scatterpolar"
           }
          ],
          "scatterpolargl": [
           {
            "marker": {
             "colorbar": {
              "outlinewidth": 0,
              "ticks": ""
             }
            },
            "type": "scatterpolargl"
           }
          ],
          "scatterternary": [
           {
            "marker": {
             "colorbar": {
              "outlinewidth": 0,
              "ticks": ""
             }
            },
            "type": "scatterternary"
           }
          ],
          "surface": [
           {
            "colorbar": {
             "outlinewidth": 0,
             "ticks": ""
            },
            "colorscale": [
             [
              0,
              "#0d0887"
             ],
             [
              0.1111111111111111,
              "#46039f"
             ],
             [
              0.2222222222222222,
              "#7201a8"
             ],
             [
              0.3333333333333333,
              "#9c179e"
             ],
             [
              0.4444444444444444,
              "#bd3786"
             ],
             [
              0.5555555555555556,
              "#d8576b"
             ],
             [
              0.6666666666666666,
              "#ed7953"
             ],
             [
              0.7777777777777778,
              "#fb9f3a"
             ],
             [
              0.8888888888888888,
              "#fdca26"
             ],
             [
              1,
              "#f0f921"
             ]
            ],
            "type": "surface"
           }
          ],
          "table": [
           {
            "cells": {
             "fill": {
              "color": "#EBF0F8"
             },
             "line": {
              "color": "white"
             }
            },
            "header": {
             "fill": {
              "color": "#C8D4E3"
             },
             "line": {
              "color": "white"
             }
            },
            "type": "table"
           }
          ]
         },
         "layout": {
          "annotationdefaults": {
           "arrowcolor": "#2a3f5f",
           "arrowhead": 0,
           "arrowwidth": 1
          },
          "autotypenumbers": "strict",
          "coloraxis": {
           "colorbar": {
            "outlinewidth": 0,
            "ticks": ""
           }
          },
          "colorscale": {
           "diverging": [
            [
             0,
             "#8e0152"
            ],
            [
             0.1,
             "#c51b7d"
            ],
            [
             0.2,
             "#de77ae"
            ],
            [
             0.3,
             "#f1b6da"
            ],
            [
             0.4,
             "#fde0ef"
            ],
            [
             0.5,
             "#f7f7f7"
            ],
            [
             0.6,
             "#e6f5d0"
            ],
            [
             0.7,
             "#b8e186"
            ],
            [
             0.8,
             "#7fbc41"
            ],
            [
             0.9,
             "#4d9221"
            ],
            [
             1,
             "#276419"
            ]
           ],
           "sequential": [
            [
             0,
             "#0d0887"
            ],
            [
             0.1111111111111111,
             "#46039f"
            ],
            [
             0.2222222222222222,
             "#7201a8"
            ],
            [
             0.3333333333333333,
             "#9c179e"
            ],
            [
             0.4444444444444444,
             "#bd3786"
            ],
            [
             0.5555555555555556,
             "#d8576b"
            ],
            [
             0.6666666666666666,
             "#ed7953"
            ],
            [
             0.7777777777777778,
             "#fb9f3a"
            ],
            [
             0.8888888888888888,
             "#fdca26"
            ],
            [
             1,
             "#f0f921"
            ]
           ],
           "sequentialminus": [
            [
             0,
             "#0d0887"
            ],
            [
             0.1111111111111111,
             "#46039f"
            ],
            [
             0.2222222222222222,
             "#7201a8"
            ],
            [
             0.3333333333333333,
             "#9c179e"
            ],
            [
             0.4444444444444444,
             "#bd3786"
            ],
            [
             0.5555555555555556,
             "#d8576b"
            ],
            [
             0.6666666666666666,
             "#ed7953"
            ],
            [
             0.7777777777777778,
             "#fb9f3a"
            ],
            [
             0.8888888888888888,
             "#fdca26"
            ],
            [
             1,
             "#f0f921"
            ]
           ]
          },
          "colorway": [
           "#636efa",
           "#EF553B",
           "#00cc96",
           "#ab63fa",
           "#FFA15A",
           "#19d3f3",
           "#FF6692",
           "#B6E880",
           "#FF97FF",
           "#FECB52"
          ],
          "font": {
           "color": "#2a3f5f"
          },
          "geo": {
           "bgcolor": "white",
           "lakecolor": "white",
           "landcolor": "#E5ECF6",
           "showlakes": true,
           "showland": true,
           "subunitcolor": "white"
          },
          "hoverlabel": {
           "align": "left"
          },
          "hovermode": "closest",
          "mapbox": {
           "style": "light"
          },
          "paper_bgcolor": "white",
          "plot_bgcolor": "#E5ECF6",
          "polar": {
           "angularaxis": {
            "gridcolor": "white",
            "linecolor": "white",
            "ticks": ""
           },
           "bgcolor": "#E5ECF6",
           "radialaxis": {
            "gridcolor": "white",
            "linecolor": "white",
            "ticks": ""
           }
          },
          "scene": {
           "xaxis": {
            "backgroundcolor": "#E5ECF6",
            "gridcolor": "white",
            "gridwidth": 2,
            "linecolor": "white",
            "showbackground": true,
            "ticks": "",
            "zerolinecolor": "white"
           },
           "yaxis": {
            "backgroundcolor": "#E5ECF6",
            "gridcolor": "white",
            "gridwidth": 2,
            "linecolor": "white",
            "showbackground": true,
            "ticks": "",
            "zerolinecolor": "white"
           },
           "zaxis": {
            "backgroundcolor": "#E5ECF6",
            "gridcolor": "white",
            "gridwidth": 2,
            "linecolor": "white",
            "showbackground": true,
            "ticks": "",
            "zerolinecolor": "white"
           }
          },
          "shapedefaults": {
           "line": {
            "color": "#2a3f5f"
           }
          },
          "ternary": {
           "aaxis": {
            "gridcolor": "white",
            "linecolor": "white",
            "ticks": ""
           },
           "baxis": {
            "gridcolor": "white",
            "linecolor": "white",
            "ticks": ""
           },
           "bgcolor": "#E5ECF6",
           "caxis": {
            "gridcolor": "white",
            "linecolor": "white",
            "ticks": ""
           }
          },
          "title": {
           "x": 0.05
          },
          "xaxis": {
           "automargin": true,
           "gridcolor": "white",
           "linecolor": "white",
           "ticks": "",
           "title": {
            "standoff": 15
           },
           "zerolinecolor": "white",
           "zerolinewidth": 2
          },
          "yaxis": {
           "automargin": true,
           "gridcolor": "white",
           "linecolor": "white",
           "ticks": "",
           "title": {
            "standoff": 15
           },
           "zerolinecolor": "white",
           "zerolinewidth": 2
          }
         }
        },
        "width": 1080
       }
      }
     },
     "metadata": {},
     "output_type": "display_data"
    }
   ],
   "source": [
    "mds3d = MDS(n_components=3,n_init=10,verbose=True)\n",
    "\n",
    "manifold3d = Pipeline(\n",
    "    [\n",
    "        ('Imputer',imputer),\n",
    "        ('Manifold',mds3d)\n",
    "    ]\n",
    ")\n",
    "man3d_df = pd.DataFrame(data=manifold3d.fit_transform(X.select_dtypes(np.number)))\n",
    "man3d_df['Region'] = X['Regions used for the SDG Index & Dashboard'].to_numpy()\n",
    "#px.scatter_3d(man3d_df,x=0,y=1,z=2,color='Region')\n",
    "print(man3d_df)\n",
    "px.scatter_3d(\n",
    "    man3d_df,\n",
    "    x = 0,\n",
    "    y = 1,\n",
    "    z = 2,\n",
    "    color = Y.join(X,how='right')['2021 SDG Index Score'],\n",
    "    symbol = 'Region',\n",
    "    width = 1080,\n",
    "    height = 720,\n",
    "    opacity = 0.5,\n",
    "    labels = {\n",
    "        \"0\": \"Eje 1\",\n",
    "        \"1\": \"Eje 2\",\n",
    "        \"2\": \"Eje 3\",\n",
    "        \"Region\": \"Región\",\n",
    "    },\n",
    ")"
   ]
  },
  {
   "cell_type": "code",
   "execution_count": 22,
   "metadata": {},
   "outputs": [
    {
     "name": "stdout",
     "output_type": "stream",
     "text": [
      "            0         1         2             Region\n",
      "0    7.367746  5.434260  3.023305               OECD\n",
      "1    6.168278  5.601301  5.384811               OECD\n",
      "2    5.941701  6.312828  5.962326               OECD\n",
      "3    6.372153  4.297886  6.264382               OECD\n",
      "4    7.430351  5.904789  5.451900               OECD\n",
      "..        ...       ...       ...                ...\n",
      "188  3.850420 -1.306571 -4.675071                LAC\n",
      "189 -2.191701  5.063051 -2.793098  East & South Asia\n",
      "190 -8.644680 -5.164658 -2.627704               MENA\n",
      "191 -1.848501 -3.729366 -6.709095             Africa\n",
      "192 -0.107881 -2.843413 -8.267011             Africa\n",
      "\n",
      "[193 rows x 4 columns]\n"
     ]
    },
    {
     "data": {
      "application/vnd.plotly.v1+json": {
       "config": {
        "plotlyServerURL": "https://plot.ly"
       },
       "data": [
        {
         "hovertemplate": "Región=OECD<br>Eje 1=%{x}<br>Eje 2=%{y}<br>Eje 3=%{z}<br>color=%{marker.color}<extra></extra>",
         "legendgroup": "OECD",
         "marker": {
          "color": [
           76.00966232492998,
           81.67294439775912,
           82.48179502262445,
           82.19017352941177,
           84.86052209653091,
           81.55816078431373,
           80.96381447963802,
           82.08008748601179,
           85.6136024509804,
           79.97291029411765,
           74.2092968625829,
           78.77619461270862,
           80.09503836405531,
           78.75520735294116,
           81.3879148615774,
           81.60096700603319,
           81.97912281297135,
           75.40707696078432,
           85.90116266968323,
           79.57163239551403,
           75.57571302521009,
           79.46162443438914,
           76.70076806722689,
           79.15212023809524,
           80.22412929864255,
           81.57585203619908,
           78.64287858220212,
           79.15540380844647,
           77.13278487394957,
           70.55730329131654,
           78.1705042286145,
           75.03782581699346,
           79.84862288838613,
           78.59345294117648,
           69.1307835595777,
           79.13081564737006,
           70.38015163398693
          ],
          "coloraxis": "coloraxis",
          "opacity": 0.5,
          "symbol": "circle"
         },
         "mode": "markers",
         "name": "OECD",
         "scene": "scene",
         "showlegend": true,
         "type": "scatter3d",
         "x": [
          7.3677460959275765,
          6.168278207720389,
          5.941700529386443,
          6.37215336115216,
          7.430351405602427,
          6.49991457869663,
          6.602650490912475,
          5.931073880254283,
          8.329994551094739,
          5.222104069494294,
          7.607495278002351,
          2.865835202421973,
          7.0066605647047355,
          4.085654843631351,
          3.1873990662814373,
          4.7194593560100335,
          8.869976265396527,
          3.8658636861149893,
          8.098848077695004,
          4.157983125858585,
          8.360031657854211,
          4.726891749296859,
          6.672340747218813,
          5.828811740066773,
          2.4410185486473326,
          6.901081011469623,
          6.535750744434427,
          8.399506544880987,
          4.033130958605008,
          3.3357041997709818,
          7.44899913994867,
          2.5362900060838474,
          2.4641815217700374,
          1.5235661056477192,
          2.7523345642709196,
          8.875459778552944,
          -1.6119769157053827
         ],
         "y": [
          5.434260176980055,
          5.601301178940422,
          6.3128278490139875,
          4.29788595614911,
          5.904788566617582,
          5.4849122863827775,
          6.875512956897599,
          6.171505082043575,
          5.678887903139563,
          6.166759510791203,
          2.324646229102283,
          5.896692003901519,
          4.049644746048198,
          5.3984303079364615,
          6.919966808204312,
          4.327851156199472,
          3.9710145791356934,
          3.144039014157766,
          5.417368738811088,
          4.734643261706441,
          3.2349002951440715,
          4.8779797198171275,
          3.97517733245438,
          4.179471558958432,
          6.480910982776975,
          2.7838155168965875,
          2.3072139178469366,
          3.880289097232371,
          2.443925852203508,
          1.0277382038108902,
          0.5259587330860517,
          4.224052417572964,
          7.964586416775277,
          6.405436660861252,
          3.379006021660131,
          2.9893347412959637,
          3.826519753032455
         ],
         "z": [
          3.023304776938789,
          5.384810986703689,
          5.962325662614309,
          6.264381692729607,
          5.451899742447001,
          7.027349751590044,
          3.6549660285937033,
          4.970135369812863,
          4.679683704364612,
          5.869103526917684,
          7.776984602307999,
          2.2922990165315507,
          7.869861493313192,
          5.749887963483246,
          4.979611800599125,
          6.130265869390548,
          6.389415887773575,
          5.991357053589844,
          5.184586130264145,
          3.561309046728733,
          5.158179357955172,
          6.791984235954008,
          1.929599607374413,
          1.334818222579769,
          3.4132884381049005,
          4.3017793015488595,
          5.613261756216575,
          4.1778829043769745,
          2.2782191190515197,
          -1.3855243494681635,
          7.552190436147178,
          7.128708824902981,
          5.434375508197377,
          6.628798243312047,
          -1.7123409247455692,
          3.8023173628368183,
          3.935596490559994
         ]
        },
        {
         "hovertemplate": "Región=E. Europe & C. Asia<br>Eje 1=%{x}<br>Eje 2=%{y}<br>Eje 3=%{z}<br>color=%{marker.color}<extra></extra>",
         "legendgroup": "E. Europe & C. Asia",
         "marker": {
          "color": [
           53.933312083015025,
           71.0218581232493,
           null,
           71.79390036075036,
           72.40622960911638,
           78.82126238222564,
           73.70307713430361,
           73.81489150326797,
           80.37550147058823,
           74.86543061840122,
           72.2334106442577,
           71.63931478652067,
           74.00096329258976,
           null,
           75.74513819758671,
           73.67617701807997,
           null,
           68.20629589169003,
           72.5306598127363,
           74.97446013071897,
           73.75119177978885,
           null,
           75.59157582760376,
           69.75669557550293,
           61.1382703654189,
           75.51048732492997,
           69.83578983320601
          ],
          "coloraxis": "coloraxis",
          "opacity": 0.5,
          "symbol": "diamond"
         },
         "mode": "markers",
         "name": "E. Europe & C. Asia",
         "scene": "scene",
         "showlegend": true,
         "type": "scatter3d",
         "x": [
          -9.67853867279077,
          0.06983314103984258,
          4.769060157024704,
          -2.7452314132290785,
          -3.69039929365997,
          -1.9217577692783485,
          -2.301194642069084,
          1.196892754881352,
          3.210824079111074,
          5.279128208639201,
          0.43427085724855,
          -1.8730192392661094,
          -3.056765566894262,
          6.3327693675672325,
          4.094858386068647,
          -6.033103141263612,
          3.012647812920576,
          1.015212706865522,
          -0.8317137082808146,
          1.4715305244192205,
          -0.24085775552819844,
          9.045478321942198,
          -0.11300193898727835,
          -5.503874361841056,
          -6.294069990802148,
          -1.5850083696199446,
          -3.761386066432107
         ],
         "y": [
          -2.79395676935744,
          -0.4003838656622306,
          6.8001604270828935,
          0.6091370786508244,
          2.940493846171246,
          8.298080609348203,
          -0.13204230729832886,
          5.915960562632067,
          4.4727974082152056,
          1.1143522503111216,
          0.22682435324953848,
          3.5039517355900807,
          1.5256685548538602,
          5.72810774508143,
          2.3228687957326324,
          1.975171212429805,
          2.4706498047861647,
          -1.388249429101894,
          -0.458624814031436,
          5.62802888776004,
          5.449486190410662,
          0.6693934990267613,
          4.05712177324185,
          0.8189771929360803,
          -0.9767894988793361,
          4.629741111019102,
          4.912219753809208
         ],
         "z": [
          -3.7819815968017068,
          2.173059708483461,
          2.399927860248918,
          3.035518797674901,
          1.3362737953145298,
          0.29899854764159267,
          4.5952540617299364,
          1.6575515185541512,
          3.7832150194851413,
          6.432445512457191,
          2.4951313309676326,
          4.047022502533403,
          1.676215488404358,
          1.8915125196772928,
          7.252741758321218,
          3.3007123035385866,
          7.990699626607165,
          6.836461470904559,
          4.12621914990427,
          0.3469052766003118,
          3.3289919083749098,
          6.864827932857097,
          4.282470588930903,
          0.8228216572263914,
          4.1961022299499895,
          1.3001751321571218,
          0.3562094874897742
         ]
        },
        {
         "hovertemplate": "Región=MENA<br>Eje 1=%{x}<br>Eje 2=%{y}<br>Eje 3=%{z}<br>color=%{marker.color}<extra></extra>",
         "legendgroup": "MENA",
         "marker": {
          "color": [
           70.85822899159663,
           66.05680866584396,
           68.64710728291317,
           70.01486549953313,
           63.81501165697048,
           70.13678623680242,
           62.544883170261116,
           66.83783531746032,
           null,
           70.52714960317462,
           70.13462649605297,
           66.73209683649684,
           66.30345485201073,
           58.00939817927171,
           71.44352647058822,
           70.16993164906988,
           52.863290756302526
          ],
          "coloraxis": "coloraxis",
          "opacity": 0.5,
          "symbol": "square"
         },
         "mode": "markers",
         "name": "MENA",
         "scene": "scene",
         "showlegend": true,
         "type": "scatter3d",
         "x": [
          -4.555344558103256,
          -1.8199207437011495,
          -5.296618395443593,
          -3.6576044003768193,
          -5.4092073588374765,
          -3.6511087249429184,
          0.29303522919318964,
          -2.3513820663341987,
          -7.883319762502915,
          -2.802858848894892,
          -1.92695457807284,
          -0.574064211539273,
          -2.1483755233259663,
          -7.694333794043373,
          -1.909893669281405,
          0.7042303267412187,
          -8.644679875413807
         ],
         "y": [
          3.792127874893452,
          2.6781746349955227,
          3.9716957860521585,
          2.850794412500267,
          -1.3694461359413292,
          0.9890890978255594,
          0.2108833631611007,
          -1.3879211978454795,
          -0.2873115248887667,
          1.9782858159728474,
          1.3090261934289324,
          4.683550401555269,
          1.964540773389807,
          -2.159150712098417,
          2.6470959114701196,
          4.995845381484696,
          -5.164658231569706
         ],
         "z": [
          1.5449959999851781,
          7.462988316942351,
          0.791638681910944,
          3.460286267089775,
          0.8607079444716774,
          4.70632186043619,
          9.251350186385752,
          5.652895586131242,
          4.235472869169469,
          -0.484534400907175,
          7.4528892848560755,
          7.917519459321709,
          7.875173428782663,
          1.7419123593012178,
          1.2923516753217934,
          10.095440224494457,
          -2.627703640114353
         ]
        },
        {
         "hovertemplate": "Región=Africa<br>Eje 1=%{x}<br>Eje 2=%{y}<br>Eje 3=%{z}<br>color=%{marker.color}<extra></extra>",
         "legendgroup": "Africa",
         "marker": {
          "color": [
           50.296134103641464,
           49.869325700280115,
           61.9233799719888,
           53.50675728291316,
           51.79990590569561,
           68.14469656324069,
           55.26133389355743,
           38.27117724089636,
           40.90431729691878,
           null,
           49.29806164856187,
           52.94574992997199,
           57.562476540616245,
           53.764454808590095,
           null,
           null,
           53.328323762838465,
           54.52100686274509,
           62.815150023912004,
           59.26394411764706,
           62.49432184873951,
           50.961491596638666,
           null,
           60.59772042483661,
           54.58608151260504,
           48.64671694677871,
           49.0056525210084,
           51.373565476190464,
           52.16147929864254,
           55.5052093298858,
           66.71142359943978,
           51.054619981325864,
           61.77102089169002,
           49.52910945378151,
           48.92563760504202,
           57.57699089635854,
           58.791369887955184,
           58.43460056022409,
           null,
           51.69196372549019,
           45.61094367470565,
           63.74167619047619,
           38.900295868347335,
           49.484346638655474,
           56.43216239495797,
           53.22793181605976,
           53.457846568627446,
           53.391375,
           58.6636020829262
          ],
          "coloraxis": "coloraxis",
          "opacity": 0.5,
          "symbol": "x"
         },
         "mode": "markers",
         "name": "Africa",
         "scene": "scene",
         "showlegend": true,
         "type": "scatter3d",
         "x": [
          -3.0862864528221685,
          -4.5798378462662885,
          6.10039941642074,
          -6.065539926895776,
          -1.757997960738002,
          0.11186962873707956,
          -5.244270618750435,
          -5.169248480567988,
          -7.140657679648152,
          -5.39815968826001,
          -5.728385141937064,
          -2.4375342396362263,
          -4.031395969104315,
          -6.126804111948109,
          -6.192337252136735,
          -8.42339192309039,
          3.215631247831762,
          -7.390503162161185,
          -2.57404588351147,
          -5.3103205306458765,
          -2.1384333048969855,
          -4.872268736940298,
          -4.9454937184138625,
          -0.5115879320305577,
          1.95234560720939,
          -4.21190677597881,
          -1.8728968745828267,
          1.1860852694338273,
          -6.886187815917305,
          -6.954566301223704,
          5.622902501387118,
          -2.4513614694219177,
          4.821832252919459,
          -7.860352428415964,
          -5.728152340953182,
          -0.020021800055711664,
          -0.9011549052136901,
          -5.019750288317498,
          2.7172832723355187,
          -2.105152789702108,
          -9.377579539276194,
          5.43814815447423,
          -9.492792452986873,
          -9.779674491179742,
          -2.607227070131656,
          -3.1463524186967007,
          -3.2378304142408085,
          -1.8485010823300745,
          -0.10788077176709202
         ],
         "y": [
          -6.241349472017057,
          -3.535795055627794,
          -5.009505717767358,
          -3.555449207357343,
          -4.069786164745925,
          -3.7872412227101995,
          -2.1028916801326805,
          -6.025651587719822,
          -4.512483193351396,
          -4.57455363441377,
          -4.007564330589896,
          -6.327388615390526,
          -1.768746417876631,
          -5.589951460237321,
          -1.546054884080057,
          -3.715885511612332,
          -8.069231220810924,
          -0.16417632648714758,
          -5.971542112664539,
          -5.8238071978033075,
          1.0633503500976031,
          -5.495206877031986,
          -4.445836117881896,
          -0.3342863461013713,
          -7.779260381120239,
          -7.164007606446451,
          -2.6830228946612458,
          -2.2156889887621936,
          -4.057361658834867,
          -4.311345329135035,
          -3.2407854263581135,
          -2.0875999679178237,
          -5.403214913369941,
          -4.7311177154503765,
          -0.38335506868593805,
          1.0644941311855087,
          -5.440944737719284,
          -1.8706764432019354,
          -3.5886733229545484,
          -6.130212652384763,
          -6.078067922491515,
          1.244654062282905,
          -3.9010017494443456,
          -1.9793117717825517,
          0.09904710512186198,
          -3.527277264955737,
          -0.6631225650028244,
          -3.7293659176448557,
          -2.843413404525603
         ],
         "z": [
          -7.192430823199639,
          -7.446274537957562,
          -3.0464974176749715,
          -5.736251861101677,
          -9.995454716471027,
          -0.2902681429850965,
          -7.292545429457303,
          -10.328252940219757,
          -9.050897910664874,
          -4.578537750612495,
          -8.798479094477978,
          -5.935809917976894,
          -7.681466959120282,
          -1.5547555312281125,
          -8.186753482341507,
          -5.663618339163817,
          -2.4664243443090372,
          -7.346697879634758,
          -1.102385991715412,
          -4.244259968574086,
          -7.380095576237257,
          -8.56852185050474,
          -8.82065486373077,
          -7.178368050705188,
          -6.338944607348916,
          -8.252278839877897,
          -9.718494557716697,
          -9.83407460021203,
          -5.146217236232194,
          -2.6508133702404084,
          3.7930417217274908,
          -10.09677906333552,
          -4.814947723781646,
          -6.3706125277690715,
          -9.299040202853694,
          -9.490769714750561,
          -2.733799837647816,
          -4.798069035988687,
          5.4670085968101,
          -8.710848153173716,
          -4.6998455903990575,
          -4.69416923445186,
          -7.953058925636635,
          -3.5956982646339286,
          -9.275000535605844,
          -8.108163869832277,
          -8.834621874736518,
          -6.7090953274468035,
          -8.26701065693052
         ]
        },
        {
         "hovertemplate": "Región=LAC<br>Eje 1=%{x}<br>Eje 2=%{y}<br>Eje 3=%{z}<br>color=%{marker.color}<extra></extra>",
         "legendgroup": "LAC",
         "marker": {
          "color": [
           null,
           72.79844166666669,
           null,
           68.44894869133174,
           64.42867238773339,
           67.59949635854342,
           71.33911400560223,
           73.55011449579831,
           73.65433835363022,
           null,
           70.76020203081234,
           72.53935259103642,
           67.92642037815125,
           null,
           59.914688515406155,
           57.89281523589828,
           51.351423389355745,
           62.77279593837535,
           68.97146890756302,
           66.28894453781514,
           67.98229588989442,
           66.94207675070027,
           71.08886281512606,
           null,
           null,
           null,
           66.97931887735487,
           63.497145814796504,
           74.54638352187028,
           59.324285527544355
          ],
          "coloraxis": "coloraxis",
          "opacity": 0.5,
          "symbol": "cross"
         },
         "mode": "markers",
         "name": "LAC",
         "scene": "scene",
         "showlegend": true,
         "type": "scatter3d",
         "x": [
          4.362422946130694,
          3.3042991943242117,
          6.532145313501194,
          3.40225175065152,
          2.178709802930155,
          0.15903822842313792,
          4.122336068385761,
          6.345639283785961,
          3.1130465091384263,
          2.8785631747066995,
          3.635898004435246,
          1.8106817180797319,
          2.138043940348598,
          3.0214545373903205,
          0.7320724101705747,
          4.95064617443972,
          -5.093116010668006,
          1.6268679930577665,
          4.3730434295220695,
          2.464114187347218,
          5.0842771905139665,
          2.7931385922610685,
          0.9587328178463345,
          4.453223205122134,
          4.063720983250815,
          4.0705143149691985,
          4.615569070459565,
          1.835671798701653,
          6.05775564760905,
          3.8504199954340397
         ],
         "y": [
          -4.311783440683134,
          2.5275863372397644,
          -3.326085941395097,
          -4.182899397766393,
          -4.058173963422121,
          1.4903985389662835,
          2.7405695482049865,
          0.23199283755717393,
          5.049194964603367,
          -2.128262756409228,
          -0.9004797315497136,
          0.40250031412034964,
          -2.0599654837205783,
          -1.8395207413958317,
          -2.5680400773362555,
          -7.264609528002624,
          -7.026767765283376,
          -2.612737020405758,
          -2.5957440658659445,
          -1.4732083628679251,
          -1.1052607912321928,
          1.4318704836799316,
          1.888424826132551,
          -2.9569488448661,
          -4.3830286367996605,
          -3.8280787350777854,
          0.42452687313620485,
          -3.1082623228683417,
          0.3832870122189993,
          -1.3065709001207884
         ],
         "z": [
          5.407062745386474,
          -0.05602085843555325,
          2.6463381014964975,
          4.9441954669931825,
          -0.8233706308209181,
          -4.331458785180284,
          -2.4750223276256436,
          0.6588833552490703,
          -3.388105471456623,
          -1.4894099257766569,
          -2.941951292479932,
          -1.3585717673031197,
          -0.8863157805129522,
          1.9441688919915543,
          -4.104932917293292,
          2.174318636471079,
          -5.5304030443190015,
          -3.3355409004376217,
          -0.3846167630893437,
          -4.849010065861823,
          -0.16624201169355024,
          -3.362932018193619,
          -1.7840169980645846,
          4.224863683912318,
          1.6621323303251425,
          1.6214159135070707,
          -4.882204277515265,
          3.3032208939672856,
          1.2104087248072126,
          -4.675070655111618
         ]
        },
        {
         "hovertemplate": "Región=East & South Asia<br>Eje 1=%{x}<br>Eje 2=%{y}<br>Eje 3=%{z}<br>color=%{marker.color}<extra></extra>",
         "legendgroup": "East & South Asia",
         "marker": {
          "color": [
           63.45427276449042,
           69.98158261222436,
           68.27481628219915,
           64.5401156162465,
           72.06163656539537,
           60.0749992081448,
           66.34290448717948,
           null,
           63.012275275443514,
           70.8849824929972,
           69.27173846153845,
           63.78615230625584,
           64.94721566293184,
           66.51849394957983,
           57.723261904761905,
           64.50699663865547,
           69.888700782666,
           68.10004586834735,
           74.18917941176473,
           null,
           72.84849824929974
          ],
          "coloraxis": "coloraxis",
          "opacity": 0.5,
          "symbol": "circle"
         },
         "mode": "markers",
         "name": "East & South Asia",
         "scene": "scene",
         "showlegend": true,
         "type": "scatter3d",
         "x": [
          -6.201499346159011,
          -2.507208415443479,
          1.895699085280236,
          -3.949177969637474,
          -2.4434595981092273,
          -6.680561152923445,
          -2.730955521432049,
          -7.391433020794648,
          -3.460785228796137,
          0.08856238503639641,
          -0.7053749593503084,
          0.595553504261356,
          -5.27885114027126,
          -5.520723649321668,
          -7.9201432424851435,
          -2.1921518641692885,
          3.69932922463048,
          -4.761155365767367,
          0.6423248855380883,
          -5.666822093529217,
          -2.191700721232517
         ],
         "y": [
          3.2494484479576538,
          -2.750866383911979,
          -1.061063157071746,
          1.9865524482506012,
          6.968386995370449,
          1.7674816237468856,
          3.664275791232186,
          4.429215516293286,
          2.6270264383823987,
          1.3550715316995463,
          -3.4571128681495398,
          5.824014451152537,
          3.2876054972751225,
          2.2914280375678877,
          -0.28951609684356017,
          2.9014364968212742,
          1.6465083493507684,
          -2.3418356095406554,
          4.723241039597262,
          -0.2516566398574774,
          5.063050854778295
         ],
         "z": [
          -5.30598364124769,
          1.2460276387722644,
          8.227986676064141,
          -6.108731412240742,
          1.3824266014424145,
          -2.2017689841997283,
          -3.6032815051090643,
          -2.4139095456510584,
          -7.320014313919544,
          5.226233360555114,
          6.880994973568116,
          -4.05562791722619,
          -5.970431493108306,
          -4.81189582615103,
          -3.5264660516613855,
          -5.109214314987009,
          11.11469680121773,
          3.5631290467323327,
          -0.8060645742048597,
          -4.735015024818059,
          -2.7930984126060574
         ]
        },
        {
         "hovertemplate": "Región=Oceania<br>Eje 1=%{x}<br>Eje 2=%{y}<br>Eje 3=%{z}<br>color=%{marker.color}<extra></extra>",
         "legendgroup": "Oceania",
         "marker": {
          "color": [
           71.24431349924585,
           null,
           null,
           null,
           null,
           null,
           51.33118431372549,
           null,
           null,
           null,
           null,
           60.5235581232493
          ],
          "coloraxis": "coloraxis",
          "opacity": 0.5,
          "symbol": "diamond"
         },
         "mode": "markers",
         "name": "Oceania",
         "scene": "scene",
         "showlegend": true,
         "type": "scatter3d",
         "x": [
          -0.22055341852594024,
          -1.5763217250275863,
          0.1317761464637785,
          -4.3398986504814,
          0.6571273066082729,
          2.7602161756427703,
          -4.218840326772361,
          -1.5814510055138826,
          -2.908490958668419,
          -0.8077608838632917,
          -0.5578891769593448,
          0.5403355174708605
         ],
         "y": [
          -4.300014522912431,
          -7.599797098746586,
          -7.543387332814271,
          -7.680241934836935,
          -5.682810954360375,
          -3.9610342510008723,
          -8.713280561319415,
          -4.9224166054038205,
          -7.512165280429788,
          -3.3904186339001425,
          -7.2866650717906145,
          -7.8037408227817435
         ],
         "z": [
          2.8762454984123558,
          2.1324196501722326,
          0.5320695137330744,
          1.4646737567319728,
          3.751449146902061,
          4.059928250539146,
          -4.684757523086425,
          3.6562439549403365,
          -3.5180302887115387,
          3.760860295736955,
          2.7882162243140667,
          -2.524980336123312
         ]
        }
       ],
       "layout": {
        "coloraxis": {
         "colorbar": {
          "title": {
           "text": "color"
          }
         },
         "colorscale": [
          [
           0,
           "#0d0887"
          ],
          [
           0.1111111111111111,
           "#46039f"
          ],
          [
           0.2222222222222222,
           "#7201a8"
          ],
          [
           0.3333333333333333,
           "#9c179e"
          ],
          [
           0.4444444444444444,
           "#bd3786"
          ],
          [
           0.5555555555555556,
           "#d8576b"
          ],
          [
           0.6666666666666666,
           "#ed7953"
          ],
          [
           0.7777777777777778,
           "#fb9f3a"
          ],
          [
           0.8888888888888888,
           "#fdca26"
          ],
          [
           1,
           "#f0f921"
          ]
         ]
        },
        "height": 720,
        "legend": {
         "title": {
          "text": "Región"
         },
         "tracegroupgap": 0
        },
        "margin": {
         "t": 60
        },
        "scene": {
         "domain": {
          "x": [
           0,
           1
          ],
          "y": [
           0,
           1
          ]
         },
         "xaxis": {
          "title": {
           "text": "Eje 1"
          }
         },
         "yaxis": {
          "title": {
           "text": "Eje 2"
          }
         },
         "zaxis": {
          "title": {
           "text": "Eje 3"
          }
         }
        },
        "template": {
         "data": {
          "bar": [
           {
            "error_x": {
             "color": "#2a3f5f"
            },
            "error_y": {
             "color": "#2a3f5f"
            },
            "marker": {
             "line": {
              "color": "#E5ECF6",
              "width": 0.5
             },
             "pattern": {
              "fillmode": "overlay",
              "size": 10,
              "solidity": 0.2
             }
            },
            "type": "bar"
           }
          ],
          "barpolar": [
           {
            "marker": {
             "line": {
              "color": "#E5ECF6",
              "width": 0.5
             },
             "pattern": {
              "fillmode": "overlay",
              "size": 10,
              "solidity": 0.2
             }
            },
            "type": "barpolar"
           }
          ],
          "carpet": [
           {
            "aaxis": {
             "endlinecolor": "#2a3f5f",
             "gridcolor": "white",
             "linecolor": "white",
             "minorgridcolor": "white",
             "startlinecolor": "#2a3f5f"
            },
            "baxis": {
             "endlinecolor": "#2a3f5f",
             "gridcolor": "white",
             "linecolor": "white",
             "minorgridcolor": "white",
             "startlinecolor": "#2a3f5f"
            },
            "type": "carpet"
           }
          ],
          "choropleth": [
           {
            "colorbar": {
             "outlinewidth": 0,
             "ticks": ""
            },
            "type": "choropleth"
           }
          ],
          "contour": [
           {
            "colorbar": {
             "outlinewidth": 0,
             "ticks": ""
            },
            "colorscale": [
             [
              0,
              "#0d0887"
             ],
             [
              0.1111111111111111,
              "#46039f"
             ],
             [
              0.2222222222222222,
              "#7201a8"
             ],
             [
              0.3333333333333333,
              "#9c179e"
             ],
             [
              0.4444444444444444,
              "#bd3786"
             ],
             [
              0.5555555555555556,
              "#d8576b"
             ],
             [
              0.6666666666666666,
              "#ed7953"
             ],
             [
              0.7777777777777778,
              "#fb9f3a"
             ],
             [
              0.8888888888888888,
              "#fdca26"
             ],
             [
              1,
              "#f0f921"
             ]
            ],
            "type": "contour"
           }
          ],
          "contourcarpet": [
           {
            "colorbar": {
             "outlinewidth": 0,
             "ticks": ""
            },
            "type": "contourcarpet"
           }
          ],
          "heatmap": [
           {
            "colorbar": {
             "outlinewidth": 0,
             "ticks": ""
            },
            "colorscale": [
             [
              0,
              "#0d0887"
             ],
             [
              0.1111111111111111,
              "#46039f"
             ],
             [
              0.2222222222222222,
              "#7201a8"
             ],
             [
              0.3333333333333333,
              "#9c179e"
             ],
             [
              0.4444444444444444,
              "#bd3786"
             ],
             [
              0.5555555555555556,
              "#d8576b"
             ],
             [
              0.6666666666666666,
              "#ed7953"
             ],
             [
              0.7777777777777778,
              "#fb9f3a"
             ],
             [
              0.8888888888888888,
              "#fdca26"
             ],
             [
              1,
              "#f0f921"
             ]
            ],
            "type": "heatmap"
           }
          ],
          "heatmapgl": [
           {
            "colorbar": {
             "outlinewidth": 0,
             "ticks": ""
            },
            "colorscale": [
             [
              0,
              "#0d0887"
             ],
             [
              0.1111111111111111,
              "#46039f"
             ],
             [
              0.2222222222222222,
              "#7201a8"
             ],
             [
              0.3333333333333333,
              "#9c179e"
             ],
             [
              0.4444444444444444,
              "#bd3786"
             ],
             [
              0.5555555555555556,
              "#d8576b"
             ],
             [
              0.6666666666666666,
              "#ed7953"
             ],
             [
              0.7777777777777778,
              "#fb9f3a"
             ],
             [
              0.8888888888888888,
              "#fdca26"
             ],
             [
              1,
              "#f0f921"
             ]
            ],
            "type": "heatmapgl"
           }
          ],
          "histogram": [
           {
            "marker": {
             "pattern": {
              "fillmode": "overlay",
              "size": 10,
              "solidity": 0.2
             }
            },
            "type": "histogram"
           }
          ],
          "histogram2d": [
           {
            "colorbar": {
             "outlinewidth": 0,
             "ticks": ""
            },
            "colorscale": [
             [
              0,
              "#0d0887"
             ],
             [
              0.1111111111111111,
              "#46039f"
             ],
             [
              0.2222222222222222,
              "#7201a8"
             ],
             [
              0.3333333333333333,
              "#9c179e"
             ],
             [
              0.4444444444444444,
              "#bd3786"
             ],
             [
              0.5555555555555556,
              "#d8576b"
             ],
             [
              0.6666666666666666,
              "#ed7953"
             ],
             [
              0.7777777777777778,
              "#fb9f3a"
             ],
             [
              0.8888888888888888,
              "#fdca26"
             ],
             [
              1,
              "#f0f921"
             ]
            ],
            "type": "histogram2d"
           }
          ],
          "histogram2dcontour": [
           {
            "colorbar": {
             "outlinewidth": 0,
             "ticks": ""
            },
            "colorscale": [
             [
              0,
              "#0d0887"
             ],
             [
              0.1111111111111111,
              "#46039f"
             ],
             [
              0.2222222222222222,
              "#7201a8"
             ],
             [
              0.3333333333333333,
              "#9c179e"
             ],
             [
              0.4444444444444444,
              "#bd3786"
             ],
             [
              0.5555555555555556,
              "#d8576b"
             ],
             [
              0.6666666666666666,
              "#ed7953"
             ],
             [
              0.7777777777777778,
              "#fb9f3a"
             ],
             [
              0.8888888888888888,
              "#fdca26"
             ],
             [
              1,
              "#f0f921"
             ]
            ],
            "type": "histogram2dcontour"
           }
          ],
          "mesh3d": [
           {
            "colorbar": {
             "outlinewidth": 0,
             "ticks": ""
            },
            "type": "mesh3d"
           }
          ],
          "parcoords": [
           {
            "line": {
             "colorbar": {
              "outlinewidth": 0,
              "ticks": ""
             }
            },
            "type": "parcoords"
           }
          ],
          "pie": [
           {
            "automargin": true,
            "type": "pie"
           }
          ],
          "scatter": [
           {
            "marker": {
             "colorbar": {
              "outlinewidth": 0,
              "ticks": ""
             }
            },
            "type": "scatter"
           }
          ],
          "scatter3d": [
           {
            "line": {
             "colorbar": {
              "outlinewidth": 0,
              "ticks": ""
             }
            },
            "marker": {
             "colorbar": {
              "outlinewidth": 0,
              "ticks": ""
             }
            },
            "type": "scatter3d"
           }
          ],
          "scattercarpet": [
           {
            "marker": {
             "colorbar": {
              "outlinewidth": 0,
              "ticks": ""
             }
            },
            "type": "scattercarpet"
           }
          ],
          "scattergeo": [
           {
            "marker": {
             "colorbar": {
              "outlinewidth": 0,
              "ticks": ""
             }
            },
            "type": "scattergeo"
           }
          ],
          "scattergl": [
           {
            "marker": {
             "colorbar": {
              "outlinewidth": 0,
              "ticks": ""
             }
            },
            "type": "scattergl"
           }
          ],
          "scattermapbox": [
           {
            "marker": {
             "colorbar": {
              "outlinewidth": 0,
              "ticks": ""
             }
            },
            "type": "scattermapbox"
           }
          ],
          "scatterpolar": [
           {
            "marker": {
             "colorbar": {
              "outlinewidth": 0,
              "ticks": ""
             }
            },
            "type": "scatterpolar"
           }
          ],
          "scatterpolargl": [
           {
            "marker": {
             "colorbar": {
              "outlinewidth": 0,
              "ticks": ""
             }
            },
            "type": "scatterpolargl"
           }
          ],
          "scatterternary": [
           {
            "marker": {
             "colorbar": {
              "outlinewidth": 0,
              "ticks": ""
             }
            },
            "type": "scatterternary"
           }
          ],
          "surface": [
           {
            "colorbar": {
             "outlinewidth": 0,
             "ticks": ""
            },
            "colorscale": [
             [
              0,
              "#0d0887"
             ],
             [
              0.1111111111111111,
              "#46039f"
             ],
             [
              0.2222222222222222,
              "#7201a8"
             ],
             [
              0.3333333333333333,
              "#9c179e"
             ],
             [
              0.4444444444444444,
              "#bd3786"
             ],
             [
              0.5555555555555556,
              "#d8576b"
             ],
             [
              0.6666666666666666,
              "#ed7953"
             ],
             [
              0.7777777777777778,
              "#fb9f3a"
             ],
             [
              0.8888888888888888,
              "#fdca26"
             ],
             [
              1,
              "#f0f921"
             ]
            ],
            "type": "surface"
           }
          ],
          "table": [
           {
            "cells": {
             "fill": {
              "color": "#EBF0F8"
             },
             "line": {
              "color": "white"
             }
            },
            "header": {
             "fill": {
              "color": "#C8D4E3"
             },
             "line": {
              "color": "white"
             }
            },
            "type": "table"
           }
          ]
         },
         "layout": {
          "annotationdefaults": {
           "arrowcolor": "#2a3f5f",
           "arrowhead": 0,
           "arrowwidth": 1
          },
          "autotypenumbers": "strict",
          "coloraxis": {
           "colorbar": {
            "outlinewidth": 0,
            "ticks": ""
           }
          },
          "colorscale": {
           "diverging": [
            [
             0,
             "#8e0152"
            ],
            [
             0.1,
             "#c51b7d"
            ],
            [
             0.2,
             "#de77ae"
            ],
            [
             0.3,
             "#f1b6da"
            ],
            [
             0.4,
             "#fde0ef"
            ],
            [
             0.5,
             "#f7f7f7"
            ],
            [
             0.6,
             "#e6f5d0"
            ],
            [
             0.7,
             "#b8e186"
            ],
            [
             0.8,
             "#7fbc41"
            ],
            [
             0.9,
             "#4d9221"
            ],
            [
             1,
             "#276419"
            ]
           ],
           "sequential": [
            [
             0,
             "#0d0887"
            ],
            [
             0.1111111111111111,
             "#46039f"
            ],
            [
             0.2222222222222222,
             "#7201a8"
            ],
            [
             0.3333333333333333,
             "#9c179e"
            ],
            [
             0.4444444444444444,
             "#bd3786"
            ],
            [
             0.5555555555555556,
             "#d8576b"
            ],
            [
             0.6666666666666666,
             "#ed7953"
            ],
            [
             0.7777777777777778,
             "#fb9f3a"
            ],
            [
             0.8888888888888888,
             "#fdca26"
            ],
            [
             1,
             "#f0f921"
            ]
           ],
           "sequentialminus": [
            [
             0,
             "#0d0887"
            ],
            [
             0.1111111111111111,
             "#46039f"
            ],
            [
             0.2222222222222222,
             "#7201a8"
            ],
            [
             0.3333333333333333,
             "#9c179e"
            ],
            [
             0.4444444444444444,
             "#bd3786"
            ],
            [
             0.5555555555555556,
             "#d8576b"
            ],
            [
             0.6666666666666666,
             "#ed7953"
            ],
            [
             0.7777777777777778,
             "#fb9f3a"
            ],
            [
             0.8888888888888888,
             "#fdca26"
            ],
            [
             1,
             "#f0f921"
            ]
           ]
          },
          "colorway": [
           "#636efa",
           "#EF553B",
           "#00cc96",
           "#ab63fa",
           "#FFA15A",
           "#19d3f3",
           "#FF6692",
           "#B6E880",
           "#FF97FF",
           "#FECB52"
          ],
          "font": {
           "color": "#2a3f5f"
          },
          "geo": {
           "bgcolor": "white",
           "lakecolor": "white",
           "landcolor": "#E5ECF6",
           "showlakes": true,
           "showland": true,
           "subunitcolor": "white"
          },
          "hoverlabel": {
           "align": "left"
          },
          "hovermode": "closest",
          "mapbox": {
           "style": "light"
          },
          "paper_bgcolor": "white",
          "plot_bgcolor": "#E5ECF6",
          "polar": {
           "angularaxis": {
            "gridcolor": "white",
            "linecolor": "white",
            "ticks": ""
           },
           "bgcolor": "#E5ECF6",
           "radialaxis": {
            "gridcolor": "white",
            "linecolor": "white",
            "ticks": ""
           }
          },
          "scene": {
           "xaxis": {
            "backgroundcolor": "#E5ECF6",
            "gridcolor": "white",
            "gridwidth": 2,
            "linecolor": "white",
            "showbackground": true,
            "ticks": "",
            "zerolinecolor": "white"
           },
           "yaxis": {
            "backgroundcolor": "#E5ECF6",
            "gridcolor": "white",
            "gridwidth": 2,
            "linecolor": "white",
            "showbackground": true,
            "ticks": "",
            "zerolinecolor": "white"
           },
           "zaxis": {
            "backgroundcolor": "#E5ECF6",
            "gridcolor": "white",
            "gridwidth": 2,
            "linecolor": "white",
            "showbackground": true,
            "ticks": "",
            "zerolinecolor": "white"
           }
          },
          "shapedefaults": {
           "line": {
            "color": "#2a3f5f"
           }
          },
          "ternary": {
           "aaxis": {
            "gridcolor": "white",
            "linecolor": "white",
            "ticks": ""
           },
           "baxis": {
            "gridcolor": "white",
            "linecolor": "white",
            "ticks": ""
           },
           "bgcolor": "#E5ECF6",
           "caxis": {
            "gridcolor": "white",
            "linecolor": "white",
            "ticks": ""
           }
          },
          "title": {
           "x": 0.05
          },
          "xaxis": {
           "automargin": true,
           "gridcolor": "white",
           "linecolor": "white",
           "ticks": "",
           "title": {
            "standoff": 15
           },
           "zerolinecolor": "white",
           "zerolinewidth": 2
          },
          "yaxis": {
           "automargin": true,
           "gridcolor": "white",
           "linecolor": "white",
           "ticks": "",
           "title": {
            "standoff": 15
           },
           "zerolinecolor": "white",
           "zerolinewidth": 2
          }
         }
        },
        "width": 1080
       }
      }
     },
     "metadata": {},
     "output_type": "display_data"
    }
   ],
   "source": [
    "\n",
    "maniso3d_df = pd.DataFrame(data=manifold3d.fit_transform(X.select_dtypes(np.number)))\n",
    "maniso3d_df['Region'] = X['Regions used for the SDG Index & Dashboard'].to_numpy()\n",
    "#px.scatter_3d(man3d_df,x=0,y=1,z=2,color='Region')\n",
    "print(maniso3d_df)\n",
    "px.scatter_3d(\n",
    "    maniso3d_df,\n",
    "    x = 0,\n",
    "    y = 1,\n",
    "    z = 2,\n",
    "    color = Y.join(X,how='right')['2021 SDG Index Score'],\n",
    "    symbol = 'Region',\n",
    "    width = 1080,\n",
    "    height = 720,\n",
    "    opacity = 0.5,\n",
    "    labels = {\n",
    "        \"0\": \"Eje 1\",\n",
    "        \"1\": \"Eje 2\",\n",
    "        \"2\": \"Eje 3\",\n",
    "        \"Region\": \"Región\",\n",
    "    },\n",
    ")"
   ]
  },
  {
   "cell_type": "markdown",
   "metadata": {},
   "source": [
    "No olvides jugar con la gráfica! :D \n"
   ]
  },
  {
   "cell_type": "code",
   "execution_count": 55,
   "metadata": {},
   "outputs": [
    {
     "name": "stderr",
     "output_type": "stream",
     "text": [
      "/Library/Frameworks/Python.framework/Versions/3.9/lib/python3.9/site-packages/sklearn/manifold/_t_sne.py:780: FutureWarning:\n",
      "\n",
      "The default initialization in TSNE will change from 'random' to 'pca' in 1.2.\n",
      "\n",
      "/Library/Frameworks/Python.framework/Versions/3.9/lib/python3.9/site-packages/sklearn/manifold/_t_sne.py:780: FutureWarning:\n",
      "\n",
      "The default initialization in TSNE will change from 'random' to 'pca' in 1.2.\n",
      "\n"
     ]
    },
    {
     "data": {
      "text/plain": [
       "{'LLE 2D': 0.8884301918498809,\n",
       " 'LLE 3D': 0.901845679876768,\n",
       " 'ISO 2D': 0.895235961349951,\n",
       " 'ISO 3D': 0.9262456238622042,\n",
       " 'MDS 2D': 0.9100518134715025,\n",
       " 'TSNE 1D': 0.9516146198011483,\n",
       " 'TSNE 2D': 0.9670018204733231}"
      ]
     },
     "execution_count": 55,
     "metadata": {},
     "output_type": "execute_result"
    }
   ],
   "source": [
    "def make_trustworthiness_table(X, models: dict):\n",
    "    vals = {}\n",
    "    for key in models:\n",
    "        datum = models[key].fit_transform(X)\n",
    "        premap = models[key]['Imputer'].transform(X)\n",
    "        trust = trustworthiness(premap,datum)\n",
    "        vals[key] = trust\n",
    "    return vals\n",
    "\n",
    "models = {\n",
    "    \"LLE 2D\": new_manifold,\n",
    "    \"LLE 3D\": manifold3dlle,\n",
    "    \"ISO 2D\": isomap_manifold,\n",
    "    \"ISO 3D\": manifold3diso,\n",
    "    \"MDS 2D\": mds_manifold,\n",
    "    \"TSNE 1D\": manifold_1d,\n",
    "    \"TSNE 2D\": tsne_manifold,\n",
    "}\n",
    "make_trustworthiness_table(X.select_dtypes(np.number),models)\n",
    "#trustworthiness(manifold3d['Imputer'].transform(X.select_dtypes(np.number)),man3d_df.drop('Region',axis=1))\n",
    "#trustworthiness(manifold3d['Imputer'].transform(X.select_dtypes(np.number)),man3d_df)\n",
    "#trustworthiness(manifold3d['Imputer'].transform(X.select_dtypes(np.number)),man3d_df)"
   ]
  },
  {
   "cell_type": "code",
   "execution_count": 56,
   "metadata": {},
   "outputs": [
    {
     "data": {
      "image/png": "[encoded data removed]",
      "text/plain": [
       "<Figure size 1440x864 with 1 Axes>"
      ]
     },
     "metadata": {
      "needs_background": "light"
     },
     "output_type": "display_data"
    }
   ],
   "source": [
    "def plot_dendrogram(model, **kwargs):\n",
    "    # Create linkage matrix and then plot the dendrogram\n",
    "\n",
    "    # create the counts of samples under each node\n",
    "    counts = np.zeros(model['Clustering'].children_.shape[0])\n",
    "    n_samples = len(model['Clustering'].labels_)\n",
    "    for i, merge in enumerate(model['Clustering'].children_):\n",
    "        current_count = 0\n",
    "        for child_idx in merge:\n",
    "            if child_idx < n_samples:\n",
    "                current_count += 1  # leaf node\n",
    "            else:\n",
    "                current_count += counts[child_idx - n_samples]\n",
    "        counts[i] = current_count\n",
    "\n",
    "    linkage_matrix = np.column_stack(\n",
    "        [model['Clustering'].children_, model['Clustering'].distances_, counts]\n",
    "    ).astype(float)\n",
    "\n",
    "    # Plot the corresponding dendrogram\n",
    "    dendrogram(linkage_matrix, **kwargs)\n",
    "\n",
    "# setting distance_threshold=0 ensures we compute the full tree.\n",
    "model = Pipeline(\n",
    "    [\n",
    "        ('Imputer',imputer),\n",
    "        ('Manifold',lle3d),\n",
    "        ('Clustering',AgglomerativeClustering(distance_threshold=0, n_clusters=None))\n",
    "    ]\n",
    ")\n",
    "\n",
    "model = model.fit(X.select_dtypes(np.number))\n",
    "\n",
    "plt.figure(figsize=(20,12))\n",
    "plt.title(\"Dendrograma de países por metas numéricas: LLE\")\n",
    "plot_dendrogram(model,labels=X.index)\n",
    "plt.xlabel(\"País\")\n",
    "plt.savefig(\"DendrogramaLLE.svg\",dpi=500,format='svg')\n",
    "plt.show() "
   ]
  },
  {
   "cell_type": "code",
   "execution_count": null,
   "metadata": {},
   "outputs": [],
   "source": [
    "def make_small_summary(dframe):\n",
    "    return pd.DataFrame(\n",
    "        data = {\n",
    "            \"Mean\": dframe.mean(numeric_only=True),\n",
    "            \"Median\": dframe.median(numeric_only=True),\n",
    "            \"Count\": dframe.count(numeric_only=True),\n",
    "            \"Variance\": dframe.var(numeric_only=True),\n",
    "            \"Skewness\": dframe.skew(numeric_only=True),\n",
    "            \"Excess kurtosis\": dframe.kurtosis(numeric_only=True)\n",
    "        },\n",
    "        index=dframe.columns\n",
    "    )\n",
    "def plot_skew_kurt(dframe,**kwargs):\n",
    "    plt.figure()\n",
    "    sns.kdeplot(data=dframe,x='Skewness',**kwargs)\n",
    "    sns.histplot(data=dframe,x='Skewness',stat='density',**kwargs)\n",
    "    plt.title(\"Coeficientes de asimetría de los datos numéricos\")\n",
    "    plt.ylabel(\"Densidad\")\n",
    "    plt.xlabel(\"Asimetría\")\n",
    "    plt.show()\n",
    "    plt.figure()\n",
    "    sns.kdeplot(data=dframe,x='Excess kurtosis',**kwargs)\n",
    "    sns.histplot(data=dframe,x='Excess kurtosis',stat='density',**kwargs)\n",
    "    plt.title(\"Curtosis en exceso de los datos numéricos\")\n",
    "    plt.ylabel(\"Densidad\")\n",
    "    plt.xlabel(\"Curtosis\")\n",
    "\n",
    "resumen=make_small_summary(X)\n",
    "\n",
    "plot_skew_kurt(resumen)\n",
    "\n",
    "\n",
    "\n",
    "Xnum = X.select_dtypes(np.number)\n",
    "datumm = pd.DataFrame(data=imputer.fit_transform(X.select_dtypes(np.number)))\n",
    "\n",
    "plot_skew_kurt(make_small_summary(datumm),color='purple')\n",
    "\n",
    "plt.figure(figsize=(16,9))\n",
    "sns.ecdfplot(data=(Xnum-Xnum.min())/(Xnum.max()-Xnum.min()),legend=False)\n",
    "plt.xlabel('Min-max normalized values')\n",
    "plt.xlim([0,1])\n",
    "plt.grid()\n",
    "plt.figure(figsize=(16,9))\n",
    "sns.ecdfplot(data=datumm,legend=False)\n",
    "plt.grid()"
   ]
  },
  {
   "cell_type": "code",
   "execution_count": 18,
   "metadata": {},
   "outputs": [
    {
     "name": "stdout",
     "output_type": "stream",
     "text": [
      "<class 'pandas.core.frame.DataFrame'>\n",
      "RangeIndex: 193 entries, 0 to 192\n",
      "Data columns (total 4 columns):\n",
      " #   Column  Non-Null Count  Dtype  \n",
      "---  ------  --------------  -----  \n",
      " 0   0       193 non-null    float64\n",
      " 1   1       193 non-null    float64\n",
      " 2   2       193 non-null    float64\n",
      " 3   Region  193 non-null    object \n",
      "dtypes: float64(3), object(1)\n",
      "memory usage: 6.2+ KB\n"
     ]
    }
   ],
   "source": [
    "man3d_df.info()"
   ]
  },
  {
   "cell_type": "code",
   "execution_count": 57,
   "metadata": {},
   "outputs": [
    {
     "data": {
      "image/png": "[encoded data removed]",
      "text/plain": [
       "<Figure size 1440x864 with 1 Axes>"
      ]
     },
     "metadata": {
      "needs_background": "light"
     },
     "output_type": "display_data"
    }
   ],
   "source": [
    "clusteriso3d = Pipeline(\n",
    "    [\n",
    "        ('Imputer',imputer),\n",
    "        ('Manifold',iso3d),\n",
    "        ('Clustering',AgglomerativeClustering(n_clusters=None,distance_threshold=0))\n",
    "    ]\n",
    ")\n",
    "\n",
    "plt.figure(figsize=(20,12))\n",
    "plt.title(\"Dendrograma de países por metas numéricas: mapeo isométrico\")\n",
    "plot_dendrogram(clusteriso3d.fit(X.select_dtypes(np.number)),labels=X.index)\n",
    "plt.savefig(\"Dendrograma_isomap.svg\",format='svg',dpi=500)"
   ]
  },
  {
   "cell_type": "code",
   "execution_count": 50,
   "metadata": {},
   "outputs": [
    {
     "data": {
      "text/plain": [
       "array([0.51608535, 0.57354033, 0.62476547, 0.65726277, 0.68587592,\n",
       "       0.7099547 , 0.73174256, 0.74951064, 0.76598185, 0.78025366])"
      ]
     },
     "execution_count": 50,
     "metadata": {},
     "output_type": "execute_result"
    }
   ],
   "source": [
    "from sklearn.decomposition import PCA \n",
    "\n",
    "pca = PCA(n_components=10)\n",
    "\n",
    "pcared = Pipeline(\n",
    "    [\n",
    "        (\"Impute and scale\",imputer),\n",
    "        (\"Manifold\",pca)\n",
    "    ]\n",
    ")\n",
    "pcared.fit(X.select_dtypes(np.number))\n",
    "np.cumsum(pcared['Manifold'].explained_variance_ratio_)"
   ]
  },
  {
   "cell_type": "markdown",
   "metadata": {},
   "source": [
    "No se usa PCA debido a que muestra muy poco de la información incluso a dimensiones mayores a 10, por lo que para los propósitos de estos mapeos no resulta tan útil."
   ]
  },
  {
   "cell_type": "code",
   "execution_count": 91,
   "metadata": {},
   "outputs": [
    {
     "data": {
      "image/png": "[encoded data removed]",
      "text/plain": [
       "<Figure size 432x288 with 1 Axes>"
      ]
     },
     "metadata": {
      "needs_background": "light"
     },
     "output_type": "display_data"
    }
   ],
   "source": [
    "# Calificación\n",
    "\n",
    "lle1d = LocallyLinearEmbedding(n_components=1,n_neighbors=7,method='modified')\n",
    "\n",
    "lle1d_manifold = Pipeline(\n",
    "    [\n",
    "        (\"Impute and scale\", imputer),\n",
    "        (\"Manifold\", lle1d)\n",
    "    ]\n",
    ")\n",
    "lle1d_manifold.fit(simple_df)\n",
    "datos = lle1d_manifold.transform(simple_df)\n",
    "datos = (datos-min(datos))/(max(datos)-min(datos))*100 # Normalizados para que sea una escala normal\n",
    "plt.scatter(datos,Y.join(simple_df,how='right',on='Country')['2021 SDG Index Score'])\n",
    "plt.xlabel(\"Calificación propuesta\")\n",
    "plt.ylabel(\"SDG Index Score\")\n",
    "plt.grid()\n",
    "plt.title(\"Comparativo de métricas de calificación\")\n",
    "plt.savefig(\"comparativo.svg\",format=\"svg\")"
   ]
  },
  {
   "cell_type": "code",
   "execution_count": null,
   "metadata": {},
   "outputs": [],
   "source": []
  }
 ],
 "metadata": {
  "interpreter": {
   "hash": "aee8b7b246df8f9039afb4144a1f6fd8d2ca17a180786b69acc140d282b71a49"
  },
  "kernelspec": {
   "display_name": "Python 3.9.6 64-bit",
   "language": "python",
   "name": "python3"
  },
  "language_info": {
   "codemirror_mode": {
    "name": "ipython",
    "version": 3
   },
   "file_extension": ".py",
   "mimetype": "text/x-python",
   "name": "python",
   "nbconvert_exporter": "python",
   "pygments_lexer": "ipython3",
   "version": "3.9.6"
  },
  "orig_nbformat": 4
 },
 "nbformat": 4,
 "nbformat_minor": 2
}
