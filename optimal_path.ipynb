{
 "cells": [
  {
   "cell_type": "code",
   "execution_count": 1,
   "metadata": {},
   "outputs": [],
   "source": [
    "import numpy as np\n",
    "import matplotlib.pyplot as plt\n",
    "import random"
   ]
  },
  {
   "cell_type": "code",
   "execution_count": 2,
   "metadata": {},
   "outputs": [],
   "source": [
    "# R matrix\n",
    "R = np.array([[-100, -100, -100, -100, -5, -100],\n",
    "              [-100, -100, -100, -5, -100, 20],\n",
    "              [-100, -100, -100, -5, -100, -100],\n",
    "              [-100, -5, -5, -100, -5, -100],\n",
    "              [-5, -100, -100, -5, -100, 20],\n",
    "              [-100, -5, -100, -100, -5, 20]])\n",
    "\n",
    "# Q-matrix\n",
    "Q = np.zeros((6,6))\n",
    "\n",
    "\n",
    "# Initial state\n",
    "in_state = 1\n",
    "\n",
    "#def aviable_actions(state):\n",
    "#    av_act = []\n",
    "#    current_state_row = R[state, :]\n",
    "#\n",
    "#    for ind, val in enumerate(current_state_row):\n",
    "#        if val >= 0:\n",
    "#            av_act.append(ind)\n",
    "    \n",
    "#    return av_act\n",
    "\n"
   ]
  },
  {
   "cell_type": "code",
   "execution_count": 3,
   "metadata": {},
   "outputs": [],
   "source": [
    "#aviable_act = aviable_actions(in_state)\n",
    "#aviable_act"
   ]
  },
  {
   "cell_type": "code",
   "execution_count": 4,
   "metadata": {},
   "outputs": [],
   "source": [
    "#def sample_next(aviable_acts):\n",
    "#    \"\"\"This function chooses at random an action within all the aviable actions\"\"\"\n",
    "\n",
    "#    next_act = int(np.random.choice(aviable_acts))\n",
    "#    return next_act\n",
    "\n",
    "\n",
    "#action = sample_next(aviable_act)\n",
    "#action"
   ]
  },
  {
   "cell_type": "code",
   "execution_count": 3,
   "metadata": {},
   "outputs": [],
   "source": [
    "def max_val_Q(row):\n",
    "\n",
    "    max_index = []\n",
    "\n",
    "    for i in range(Q.shape[1]):\n",
    "\n",
    "        if i == 0:\n",
    "            max_index.append(i)\n",
    "        \n",
    "        else:\n",
    "            \n",
    "            if Q[row, i-1] < Q[row, i]:\n",
    "                max_index.pop()\n",
    "                max_index.append(i)\n",
    "            \n",
    "            elif Q[row, i-1] == Q[row, i]:\n",
    "                max_index.append(i)\n",
    "            else:\n",
    "                pass\n",
    "    \n",
    "    return max_index\n",
    "\n"
   ]
  },
  {
   "cell_type": "code",
   "execution_count": 4,
   "metadata": {},
   "outputs": [
    {
     "data": {
      "text/plain": [
       "(10, [2, 3, 4, 5])"
      ]
     },
     "execution_count": 4,
     "metadata": {},
     "output_type": "execute_result"
    }
   ],
   "source": [
    "def reinforcement_learning(epsilon, alpha, gamma, state):\n",
    "\n",
    "    path = [state]\n",
    "\n",
    "    if state == 5:\n",
    "        score = 20\n",
    "    else:\n",
    "        score = 0\n",
    "    \n",
    "    while state != 5:\n",
    "        #av_action = aviable_actions(state=state)\n",
    "        #action = sample_next(av_action)\n",
    "\n",
    "        if random.uniform(0, 1) < epsilon:\n",
    "            action = random.randint(0, 5)\n",
    "            score += R[state, action]\n",
    "        else:\n",
    "            action = np.argmax(Q[state])\n",
    "            score += R[state, action]\n",
    "\n",
    "        if len(max_val_Q(action)) > 1:\n",
    "            max_ind = int(np.random.choice(max_val_Q(action), 1))\n",
    "        else:\n",
    "            max_ind = max_val_Q(action)[0]\n",
    "        \n",
    "        max_value = Q[action, max_ind]\n",
    "\n",
    "        # Q[state, action] = (1 – alpha) * Q[state, action] + alpha * (reward + gamma * max(Q[new_state]) — Q[state, action])\n",
    "               \n",
    "        Q[state, action] = (1 - alpha)*Q[state, action] + alpha*(R[state, action] + gamma*max_value - Q[state, action])\n",
    "\n",
    "        state = action\n",
    "        path.append(state)\n",
    "    \n",
    "    return score, path\n",
    "\n",
    "\n",
    "score = []\n",
    "path = []\n",
    "for i in range(10000):\n",
    "    current_state = np.random.randint(0, int(Q.shape[0]))\n",
    "    run = reinforcement_learning(0.1, 0.1, 0.6, current_state)\n",
    "    given_score = run[0]\n",
    "    used_path = run[1]\n",
    "    score.append(given_score)\n",
    "    path.append(used_path)\n",
    "\n",
    "\n",
    "reinforcement_learning(0.1, 0.6, 0.8, 2)"
   ]
  },
  {
   "cell_type": "code",
   "execution_count": 5,
   "metadata": {},
   "outputs": [
    {
     "data": {
      "text/plain": [
       "5.8065"
      ]
     },
     "execution_count": 5,
     "metadata": {},
     "output_type": "execute_result"
    }
   ],
   "source": [
    "sum(score)/len(score)"
   ]
  },
  {
   "cell_type": "code",
   "execution_count": 6,
   "metadata": {},
   "outputs": [
    {
     "data": {
      "text/plain": [
       "[<matplotlib.lines.Line2D at 0x7f7bc476f700>]"
      ]
     },
     "execution_count": 6,
     "metadata": {},
     "output_type": "execute_result"
    },
    {
     "data": {
      "image/png": "[encoded data removed]",
      "text/plain": [
       "<Figure size 432x288 with 1 Axes>"
      ]
     },
     "metadata": {
      "needs_background": "light"
     },
     "output_type": "display_data"
    }
   ],
   "source": [
    "plt.plot(np.linspace(0, len(score), len(score)), score)\n"
   ]
  },
  {
   "cell_type": "code",
   "execution_count": null,
   "metadata": {},
   "outputs": [],
   "source": []
  }
 ],
 "metadata": {
  "interpreter": {
   "hash": "fe1610ab63cd726e91a61fe78ce1a475aa9ae83ac6caa7ceb5c58c9a3dff1027"
  },
  "kernelspec": {
   "display_name": "Python 3.9.7 ('base')",
   "language": "python",
   "name": "python3"
  },
  "language_info": {
   "codemirror_mode": {
    "name": "ipython",
    "version": 3
   },
   "file_extension": ".py",
   "mimetype": "text/x-python",
   "name": "python",
   "nbconvert_exporter": "python",
   "pygments_lexer": "ipython3",
   "version": "3.9.6"
  },
  "orig_nbformat": 4
 },
 "nbformat": 4,
 "nbformat_minor": 2
}
