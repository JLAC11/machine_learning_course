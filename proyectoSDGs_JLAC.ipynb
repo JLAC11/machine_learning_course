{
 "cells": [
  {
   "cell_type": "code",
   "execution_count": null,
   "metadata": {},
   "outputs": [],
   "source": [
    "import pandas as pd\n",
    "import numpy as np \n",
    "import seaborn as sns\n",
    "import matplotlib.pyplot as plt\n",
    "from sklearn.neighbors import KNeighborsClassifier\n",
    "from sklearn.impute import KNNImputer\n",
    "from sklearn.preprocessing import PowerTransformer, OneHotEncoder\n",
    "from sklearn.pipeline import Pipeline\n",
    "from sklearn.linear_model import LinearRegression,LassoCV,RidgeCV\n",
    "from sklearn.compose import ColumnTransformer,make_column_selector\n",
    "from statsmodels.stats.descriptivestats import Description\n",
    "from sklearn.model_selection import train_test_split\n",
    "from sklearn.metrics import mean_squared_error\n",
    "\n",
    "filename = 'SDR 2021 - Database.xlsx'"
   ]
  },
  {
   "cell_type": "code",
   "execution_count": null,
   "metadata": {},
   "outputs": [],
   "source": [
    "df_trend = pd.read_excel(filename,sheet_name='Data for Trends',usecols='B:N')\n",
    "display(df_trend.info())\n",
    "display(df_trend.describe())\n",
    "#plt.figure()\n",
    "df_trend.groupby('Year').mean().reset_index().drop('Population',axis=1).plot(x='Year',figsize=(16,9))\n"
   ]
  },
  {
   "cell_type": "code",
   "execution_count": null,
   "metadata": {},
   "outputs": [],
   "source": [
    "X = pd.read_excel(filename,sheet_name='Raw Data',usecols='B:P')\n",
    "X.drop('Population in 2020',axis=1,inplace=True)\n",
    "X['Regions used for the SDG Index & Dashboard'] = pd.Series(X['Regions used for the SDG Index & Dashboard'],dtype='category')\n",
    "Y = pd.read_excel(filename,sheet_name='SDR2021 Data', usecols='B,C')\n",
    "# No he decidido si eliminarlos o si predecir el score con ellos.\n",
    "Ys = Y.dropna(subset=['2021 SDG Index Score']) # Se eliminan los que no tienen variable de respuesta por resultar inútiles. \n",
    "df = X.merge(Y,on='Country',how='inner').set_index('Country')\n",
    "valid_values = X.merge(Ys,on='Country',how='inner').set_index('Country')\n",
    "X.set_index('Country',inplace=True)\n",
    "Y.set_index('Country',inplace=True)\n",
    "display(df.info())\n",
    "display(df.describe())"
   ]
  },
  {
   "cell_type": "code",
   "execution_count": null,
   "metadata": {},
   "outputs": [],
   "source": [
    "\n",
    "groups = df.groupby('Regions used for the SDG Index & Dashboard')\n",
    "for name, group in groups:\n",
    "    plt.figure(figsize=(16,9))\n",
    "    plt.title(f'Matriz de correlación de {name}')\n",
    "    sns.heatmap(group.corr(),cmap='Spectral')"
   ]
  },
  {
   "cell_type": "code",
   "execution_count": null,
   "metadata": {},
   "outputs": [],
   "source": [
    "plt.figure(figsize=(16,9))\n",
    "sns.heatmap(df.corr(),cmap='Spectral',annot=True)"
   ]
  },
  {
   "cell_type": "code",
   "execution_count": null,
   "metadata": {},
   "outputs": [],
   "source": [
    "g = sns.pairplot(df.drop('Eswatini'),corner=True,)#kind='reg')\n",
    "for ax in g.axes.flatten():\n",
    "   if ax:\n",
    "       # rotate x axis labels\n",
    "       ax.set_xlabel(ax.get_xlabel(), rotation = 45)\n",
    "       # rotate y axis labels\n",
    "       ax.set_ylabel(ax.get_ylabel(), rotation = -45)\n",
    "       # set y labels alignment\n",
    "       ax.yaxis.get_label().set_horizontalalignment('right')"
   ]
  },
  {
   "cell_type": "code",
   "execution_count": null,
   "metadata": {},
   "outputs": [],
   "source": [
    "tr = PowerTransformer()\n",
    "datum = tr.fit_transform(df.select_dtypes(include=np.number).drop(['Eswatini']))\n",
    "\n",
    "g = sns.pairplot(pd.DataFrame(datum),corner=True,kind='reg')\n",
    "for ax in g.axes.flatten():\n",
    "    if ax:\n",
    "        # rotate x axis labels\n",
    "        ax.set_xlabel(ax.get_xlabel(), rotation = 45)\n",
    "        # rotate y axis labels\n",
    "        ax.set_ylabel(ax.get_ylabel(), rotation = -45)\n",
    "        # set y labels alignment\n",
    "        #ax.yaxis.get_label().set_horizontalalignment('right')"
   ]
  },
  {
   "cell_type": "code",
   "execution_count": null,
   "metadata": {},
   "outputs": [],
   "source": [
    "df.sort_values(by='Prevalence of wasting in children under 5 years of age (%)',ascending=False)"
   ]
  },
  {
   "cell_type": "code",
   "execution_count": null,
   "metadata": {},
   "outputs": [],
   "source": [
    "df['Regions used for the SDG Index & Dashboard'].nunique()"
   ]
  },
  {
   "cell_type": "code",
   "execution_count": null,
   "metadata": {},
   "outputs": [],
   "source": [
    "\n",
    "imputer = Pipeline(\n",
    "    [\n",
    "        ('Scaler',PowerTransformer()),\n",
    "        ('KNN Imputer', KNNImputer(n_neighbors=7)),\n",
    "#        ('PCA',PCA())\n",
    "    ]\n",
    ")\n",
    "\n",
    "transformer = ColumnTransformer(\n",
    "    [\n",
    "        ('Impute and scale', imputer, make_column_selector(dtype_include=np.number)),\n",
    "        ('Encoder Region',OneHotEncoder(),['Regions used for the SDG Index & Dashboard'])\n",
    "    ]\n",
    ")\n",
    "\n",
    "pipe = Pipeline(\n",
    "    [\n",
    "        ('Transform group',transformer),\n",
    "        ('Ridge regression', RidgeCV(alphas=np.logspace(-4,2,20)))\n",
    "    ]\n",
    ")\n",
    "\n",
    "pipe2 = Pipeline(\n",
    "    [\n",
    "        ('Transform group',transformer),\n",
    "        ('Linear regression', LinearRegression())\n",
    "    ]\n",
    ")\n",
    "pipe3 = Pipeline(\n",
    "    [\n",
    "        ('Transform group',transformer),\n",
    "        ('Lasso regression', LassoCV())\n",
    "    ]\n",
    ")\n",
    "\n",
    "Xes = valid_values.drop('2021 SDG Index Score',axis=1)\n",
    "Yes = valid_values['2021 SDG Index Score']\n",
    "pipe.fit(Xes,Yes)\n",
    "pipe2.fit(Xes,Yes)\n",
    "pipe3.fit(Xes,Yes)\n",
    "\n",
    "print(f'Coef Ridge: {pipe.score(Xes,Yes)}')\n",
    "print(pipe['Ridge regression'].alpha_)\n",
    "print(pipe['Ridge regression'].coef_)\n",
    "print(f'Coef Linear: {pipe2.score(Xes,Yes)}')\n",
    "#print(pipe['Ridge regression'].alpha_)\n",
    "print(pipe2['Linear regression'].coef_)\n",
    "print(f'Coef Lasso: {pipe3.score(Xes,Yes)}')\n",
    "print(pipe3['Lasso regression'].alpha_)\n",
    "print(pipe3['Lasso regression'].coef_)"
   ]
  },
  {
   "cell_type": "markdown",
   "metadata": {},
   "source": [
    "### NOTAS\n",
    "- Los índices `Yield Gap Closure` y `Poverty Rate after Taxes and Transfers` solamente son aplicables a la OCDE, por lo que se eliminan como variables predictoras "
   ]
  },
  {
   "cell_type": "markdown",
   "metadata": {},
   "source": [
    "df.dtypes()"
   ]
  },
  {
   "cell_type": "code",
   "execution_count": null,
   "metadata": {},
   "outputs": [],
   "source": [
    "df.drop('Regions used for the SDG Index & Dashboard',1).isna().groupby(df['Regions used for the SDG Index & Dashboard']).sum()"
   ]
  },
  {
   "cell_type": "code",
   "execution_count": null,
   "metadata": {},
   "outputs": [],
   "source": [
    "doubledf = valid_values.drop(['Poverty rate after taxes and transfers (%)','Yield gap closure (% of potential yield)'],axis=1)\n",
    "xx = doubledf.drop('2021 SDG Index Score',axis=1)\n",
    "yy = doubledf['2021 SDG Index Score']\n",
    "\n",
    "trains1 = []\n",
    "tests1 = []\n",
    "trains2 = []\n",
    "tests2 = []\n",
    "trains3 = []\n",
    "tests3 = []\n",
    "\n",
    "for i in range(20):\n",
    "    xtrain,xtest,ytrain,ytest = train_test_split(xx,yy)\n",
    "    pipe.fit(xtrain,ytrain)\n",
    "    pipe2.fit(xtrain,ytrain)\n",
    "    pipe3.fit(xtrain,ytrain)\n",
    "    trains1.append(mean_squared_error(ytrain,pipe.predict(xtrain)))\n",
    "    tests1.append(mean_squared_error(ytest,pipe.predict(xtest)))\n",
    "    trains2.append(mean_squared_error(ytrain,pipe2.predict(xtrain)))\n",
    "    tests2.append(mean_squared_error(ytest,pipe2.predict(xtest)))\n",
    "    trains3.append(mean_squared_error(ytrain,pipe3.predict(xtrain)))\n",
    "    tests3.append(mean_squared_error(ytest,pipe3.predict(xtest)))\n",
    "\n",
    "eps1 = pipe.predict(xtrain)-ytrain\n",
    "eps2 = pipe2.predict(xtrain)-ytrain\n",
    "eps3 = pipe3.predict(xtrain)-ytrain\n",
    "\n",
    "residuales = pd.DataFrame({\n",
    "        'Residuales Ridge': eps1, \n",
    "        'Residuales OLS': eps2, \n",
    "        'Residuales Lasso': eps3, \n",
    "    })\n",
    "\n",
    "residuales.plot.kde()\n",
    "plt.grid()\n",
    "plt.title('Distribución de residuales de SDG Index Score de modelos')\n",
    "\n",
    "print(f'Train MSE Ridge: {np.mean(trains1):4f}')\n",
    "print(f'Test MSE Ridge: {np.mean(tests1):4f}')\n",
    "print(pipe['Ridge regression'].alpha_)\n",
    "\n",
    "print(f'Train MSE OLS: {np.mean(trains2):4f}')\n",
    "print(f'Test MSE OLS: {np.mean(tests2):4f}')\n",
    "\n",
    "print(f'Train MSE Lasso: {np.mean(trains3):4f}')\n",
    "print(f'Test MSE Lasso: {np.mean(tests3):4f}')\n",
    "print(pipe3['Lasso regression'].alpha_)"
   ]
  },
  {
   "cell_type": "code",
   "execution_count": null,
   "metadata": {},
   "outputs": [],
   "source": [
    "plt.figure(figsize=(16,9))\n",
    "sns.kdeplot(data=df[['Regions used for the SDG Index & Dashboard','Human Trophic Level (best 2-3 worst)']].drop('Eswatini'),x='Human Trophic Level (best 2-3 worst)',hue='Regions used for the SDG Index & Dashboard')\n",
    "plt.grid()\n",
    "psd = df.select_dtypes(np.number)\n",
    "plt.figure(figsize=(16,9))\n",
    "sns.ecdfplot(data=(psd-psd.min())/(psd.max()-psd.min()))\n",
    "plt.xlabel('Min-max normalized values')\n",
    "plt.xlim([0,1])\n",
    "plt.grid()\n",
    "plt.figure(figsize=(16,9))\n",
    "sns.ecdfplot(data=pd.DataFrame(datum,columns=df.select_dtypes(np.number).columns))\n",
    "x = np.linspace(-3,3)\n",
    "from scipy.stats import norm\n",
    "normales = norm.cdf(x)\n",
    "plt.plot(x,normales,color='red')\n",
    "plt.xlabel('$\\sigma$')\n",
    "plt.grid()"
   ]
  },
  {
   "cell_type": "code",
   "execution_count": null,
   "metadata": {},
   "outputs": [],
   "source": [
    "desc = Description(residuales)\n",
    "desc.summary()"
   ]
  },
  {
   "cell_type": "code",
   "execution_count": null,
   "metadata": {},
   "outputs": [],
   "source": [
    "sns.kdeplot(trains1)\n",
    "sns.kdeplot(tests1)\n",
    "sns.kdeplot(trains2)\n",
    "sns.kdeplot(tests2)\n",
    "sns.kdeplot(trains3)\n",
    "sns.kdeplot(tests3)"
   ]
  },
  {
   "cell_type": "code",
   "execution_count": null,
   "metadata": {},
   "outputs": [],
   "source": [
    "u,d,v = np.linalg.svd(pipe['Transform group'].transform(Xes))\n",
    "\n",
    "phis = v.T**2/d**2\n",
    "pis = phis.T/sum(phis.T)\n",
    "sns.heatmap(pis,cmap='Spectral')\n",
    "plt.xlabel('Número de variable')\n",
    "plt.ylabel('Número de condición')\n",
    "plt.title('Proporciones de la descomposición de varianzas')"
   ]
  },
  {
   "cell_type": "code",
   "execution_count": null,
   "metadata": {},
   "outputs": [],
   "source": [
    "u,d,v = np.linalg.svd(imputer.fit_transform(Xes.select_dtypes(np.number)))\n",
    "phis = v.T**2/d**2\n",
    "pis = phis.T/sum(phis.T)\n",
    "sns.heatmap(pis,cmap='Spectral')\n",
    "plt.xlabel('Número de variable')\n",
    "plt.ylabel('Número de condición')\n",
    "plt.title('Proporciones de la descomposición de varianzas')"
   ]
  },
  {
   "cell_type": "code",
   "execution_count": null,
   "metadata": {},
   "outputs": [],
   "source": [
    "ranks = [min(Yes),max(Yes)]\n",
    "plt.figure(figsize=(8,6))\n",
    "plt.scatter(Yes,pipe.predict(Xes),marker='x',linewidths=1)\n",
    "plt.scatter(Yes,pipe2.predict(Xes),marker='x',linewidths=1)\n",
    "plt.scatter(Yes,pipe3.predict(Xes),marker='x',linewidths=1)\n",
    "plt.legend(['Ridge','OLS','Lasso'])\n",
    "plt.grid()\n",
    "plt.xlabel('Valores reales')\n",
    "plt.ylabel('Valores predichos')\n",
    "plt.plot(ranks,ranks, color='red',alpha=0.7)\n",
    "plt.title('Predicciones de SDG Index Score')"
   ]
  },
  {
   "cell_type": "code",
   "execution_count": null,
   "metadata": {},
   "outputs": [],
   "source": [
    "ridgedf = pd.DataFrame(data= {\n",
    "        'SDG True': Yes,\n",
    "        'SDG Predicted': pipe.predict(Xes),\n",
    "    })\n",
    "ridgedf['Model'] = 'Ridge'\n",
    "OLSdf = pd.DataFrame(data= {\n",
    "        'SDG True': Yes,\n",
    "        'SDG Predicted': pipe.predict(Xes),\n",
    "    })\n",
    "OLSdf['Model'] = 'OLS'\n",
    "lassodf = pd.DataFrame(data= {\n",
    "        'SDG True': Yes,\n",
    "        'SDG Predicted': pipe.predict(Xes),\n",
    "    })\n",
    "lassodf['Model'] = 'Lasso'\n",
    "\n",
    "models = pd.concat([ridgedf,OLSdf,lassodf]).reset_index()\n",
    "\n",
    "sns.jointplot(\n",
    "    data= models,\n",
    "    x='SDG True',\n",
    "    y='SDG Predicted',\n",
    "    hue='Model',\n",
    "    marker='x'\n",
    ")"
   ]
  },
  {
   "cell_type": "code",
   "execution_count": null,
   "metadata": {},
   "outputs": [],
   "source": [
    "filtro = Y.isna()['2021 SDG Index Score']\n",
    "missingSDGs = pd.DataFrame(\n",
    "    data = {\n",
    "        'Country': Y[filtro].index,\n",
    "        'Ridge': pipe.predict(X[filtro]),\n",
    "        'OLS': pipe2.predict(X[filtro]),\n",
    "        'Lasso': pipe3.predict(X[filtro]),\n",
    "    }\n",
    ")\n",
    "missingSDGs.to_csv('MissingSDGs.csv',float_format='%.2f')\n"
   ]
  }
 ],
 "metadata": {
  "interpreter": {
   "hash": "aee8b7b246df8f9039afb4144a1f6fd8d2ca17a180786b69acc140d282b71a49"
  },
  "kernelspec": {
   "display_name": "Python 3.9.6 64-bit",
   "language": "python",
   "name": "python3"
  },
  "language_info": {
   "codemirror_mode": {
    "name": "ipython",
    "version": 3
   },
   "file_extension": ".py",
   "mimetype": "text/x-python",
   "name": "python",
   "nbconvert_exporter": "python",
   "pygments_lexer": "ipython3",
   "version": "3.9.6"
  },
  "orig_nbformat": 4
 },
 "nbformat": 4,
 "nbformat_minor": 2
}
